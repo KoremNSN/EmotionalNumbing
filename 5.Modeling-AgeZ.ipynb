{
 "cells": [
  {
   "cell_type": "code",
   "execution_count": 1,
   "id": "42a9970d",
   "metadata": {},
   "outputs": [
    {
     "name": "stdout",
     "output_type": "stream",
     "text": [
      "3.9.13\n",
      "pandas version: 1.4.4\n",
      "numpy version: 1.23.2\n",
      "PyMC version: 4.1.7\n",
      "ArviZ version: 0.12.1\n",
      "matplotlib version: 3.5.3\n",
      "seaborn version: 0.12.0\n"
     ]
    }
   ],
   "source": [
    "# Import necessary libraries and modules\n",
    "import pandas as pd\n",
    "import numpy as np\n",
    "\n",
    "# PyMC for Bayesian statistical modeling and probabilistic machine learning\n",
    "import pymc as pm\n",
    "# ArviZ for exploratory analysis of Bayesian models\n",
    "import arviz as az\n",
    "\n",
    "# Matplotlib and Seaborn for data visualization\n",
    "import matplotlib.pyplot as plt\n",
    "import seaborn as sns\n",
    "\n",
    "from platform import python_version\n",
    "\n",
    "# Print versions of each package\n",
    "print(python_version())\n",
    "print(f\"pandas version: {pd.__version__}\")\n",
    "print(f\"numpy version: {np.__version__}\")\n",
    "print(f\"PyMC version: {pm.__version__}\")  # Ensure this matches the PyMC version you're using (pymc3 or pymc4)\n",
    "print(f\"ArviZ version: {az.__version__}\")\n",
    "print(f\"matplotlib version: {plt.matplotlib.__version__}\")\n",
    "print(f\"seaborn version: {sns.__version__}\")"
   ]
  },
  {
   "cell_type": "code",
   "execution_count": 2,
   "id": "1990b02d",
   "metadata": {},
   "outputs": [
    {
     "name": "stdout",
     "output_type": "stream",
     "text": [
      "(1380, 64)\n"
     ]
    }
   ],
   "source": [
    "# Read data into DataFrames\n",
    "df4 = pd.read_csv('../Data/clean/Cohort4Clean.csv')\n",
    "df5 = pd.read_csv('../Data/clean/Cohort5Clean.csv')\n",
    "pics = pd.read_csv('../pics/pics.csv')\n",
    "\n",
    "# Concatenate df4 and df5 to create a combined DataFrame\n",
    "df = pd.concat([df4,df5])\n",
    "\n",
    "# Drop duplicate rows based on the 'ID' column\n",
    "df = df.drop_duplicates(subset=['ID'])\n",
    "\n",
    "df['EmotionalNumbingZ'] = (df['EmotionalNumbing'] - df['EmotionalNumbing'].mean()) / df['EmotionalNumbing'].std()\n",
    "df['AgeZ'] = (df['Age'] - df['Age'].mean()) / df['Age'].std()\n",
    "# Print the shape (number of rows and columns) of the combined and deduplicated DataFrame\n",
    "print(df.shape)"
   ]
  },
  {
   "cell_type": "code",
   "execution_count": 3,
   "id": "125986fe",
   "metadata": {},
   "outputs": [],
   "source": [
    "# Transform the DataFrame 'df' from wide to long format using 'melt'\n",
    "# 'ID', 'PTSD', 'A', 'EmotionalNumbing', and 'PHQ' columns are kept as identifiers\n",
    "# The values from columns 3 to 43 are reshaped into two columns: 'pic' (variable) and 'rating' (value)\n",
    "df_long = pd.melt(df, id_vars=['ID','PTSD','AgeZ','EmotionalNumbingZ'], \n",
    "                  value_vars=list(df.columns[3:43]),\n",
    "                  var_name='pic', \n",
    "                  value_name='rating')\n",
    "\n",
    "# Merge 'df_long' with the 'pics' DataFrame on the 'pic' column\n",
    "# This operation adds information from 'pics' to 'df_long' based on picture names\n",
    "# The merged DataFrame is then sorted by 'PTSD' and 'ID'\n",
    "df_long = df_long.merge(pics, left_on='pic', right_on='pic').sort_values(['PTSD','ID'])\n",
    "\n",
    "# Scale the 'rating' column by dividing each value by 100\n",
    "df_long['rating'] = df_long['rating']/100\n",
    "\n",
    "# Create a new column 'scale_rating' by copying values from 'NAPSr' column\n",
    "df_long['scale_rating'] = df_long['NAPSr']\n",
    "\n",
    "# Filter the DataFrame to keep only rows where 'scale_rating' is less than 6\n",
    "df_long = df_long[df_long['scale_rating']<6].reset_index(drop=True)\n",
    "\n",
    "# Remove rows from 'df_long' where 'rating' has missing (NaN) values\n",
    "# Store the resulting DataFrame in 'df_long_c'\n",
    "df_long_c = df_long.dropna(subset='rating')"
   ]
  },
  {
   "cell_type": "markdown",
   "id": "0fdad4b3",
   "metadata": {},
   "source": [
    "## Define models "
   ]
  },
  {
   "cell_type": "code",
   "execution_count": 4,
   "id": "b9604e7e",
   "metadata": {},
   "outputs": [],
   "source": [
    "def pl5_hyper_emotion(df_all, idx, n_sub):\n",
    "    \n",
    "\n",
    "    with pm.Model() as five_PL:\n",
    "        \n",
    "        # hyper priors\n",
    "        # Define hyperpriors for group-level parameters\n",
    "        a1   = pm.TruncatedNormal('a1',   2, 1, lower =  1) # Truncated Normal hyperprior for 'a1'\n",
    "        a2   = pm.Normal('a2',           10, 1            ) # Normal hyperprior for 'a2'\n",
    "        mu_b = pm.TruncatedNormal('mu_b', 2, 1, lower =  1) # Truncated Normal hyperprior for mean 'b'\n",
    "        mu_c = pm.TruncatedNormal('mu_c', 2, 1, lower = .5) # Truncated Normal hyperprior for mean 'c'\n",
    "        mu_d = pm.TruncatedNormal('mu_d', 2, 1, lower =  0) # Truncated Normal hyperprior for mean 'd'\n",
    "        mu_g = pm.TruncatedNormal('mu_g', 4, 1, lower =  1) # Truncated Normal hyperprior for mean 'g'\n",
    "        \n",
    "        \n",
    "        # Define priors for parameters of the 5PL regression\n",
    "        a = pm.Beta('a',              a1, a2,                         shape = n_sub) # Beta distribution for lower asymptote\n",
    "        b = pm.TruncatedNormal('b', mu_b,  1,  lower = .5,            shape = n_sub) # Truncated Normal distribution for the slope\n",
    "        c = pm.TruncatedNormal('c', mu_c,  1,  lower = .5, upper = 5, shape = n_sub) # Truncated Normal distribution for mid point\n",
    "        d = pm.TruncatedNormal('d', mu_d,  1,  lower = .5,            shape = n_sub) # Truncated Normal distribution for upper asymptote\n",
    "        g = pm.TruncatedNormal('g', mu_g,  1,  lower = .8,            shape = n_sub) # Truncated Normal distribution for asymmetry factor\n",
    "                \n",
    "        EN_slope = pm.Normal('EN_slope', 0, 1)\n",
    "        \n",
    "        s = b[idx] + EN_slope * df_all['EmotionalNumbingZ']\n",
    "\n",
    "        # Define prior for standard deviation of observations\n",
    "        eps = pm.Gamma('eps', 1, 1)\n",
    "\n",
    "        # Define the 5PL regression model   \n",
    "        y_hat = d[idx] + ((a[idx]-d[idx])/(1+(df_all['scale_rating'].values/c[idx])**s)**g[idx])\n",
    "\n",
    "        # Define likelihood function using observed data\n",
    "        rating = pm.Normal('rating',y_hat, eps, observed=df_all.rating)\n",
    "\n",
    "        # Sample from the posterior distribution\n",
    "        trace = pm.sample()#tune = 3000, draws = 2000, target_accept = 0.99)\n",
    "\n",
    "    return trace"
   ]
  },
  {
   "cell_type": "code",
   "execution_count": 5,
   "id": "2dd2984d",
   "metadata": {},
   "outputs": [],
   "source": [
    "def pl5_hyper_age(df_all, idx, n_sub):\n",
    "    \n",
    "\n",
    "    with pm.Model() as five_PL:\n",
    "        \n",
    "        # hyper priors\n",
    "        # Define hyperpriors for group-level parameters\n",
    "        a1   = pm.TruncatedNormal('a1',   2, 1, lower =  1) # Truncated Normal hyperprior for 'a1'\n",
    "        a2   = pm.Normal('a2',           10, 1            ) # Normal hyperprior for 'a2'\n",
    "        mu_b = pm.TruncatedNormal('mu_b', 2, 1, lower =  1) # Truncated Normal hyperprior for mean 'b'\n",
    "        mu_c = pm.TruncatedNormal('mu_c', 2, 1, lower = .5) # Truncated Normal hyperprior for mean 'c'\n",
    "        mu_d = pm.TruncatedNormal('mu_d', 2, 1, lower =  0) # Truncated Normal hyperprior for mean 'd'\n",
    "        mu_g = pm.TruncatedNormal('mu_g', 4, 1, lower =  1) # Truncated Normal hyperprior for mean 'g'\n",
    "        \n",
    "        \n",
    "        # Define priors for parameters of the 5PL regression\n",
    "        a = pm.Beta('a',              a1, a2,                         shape = n_sub) # Beta distribution for lower asymptote\n",
    "        b = pm.TruncatedNormal('b', mu_b,  1,  lower = .5,            shape = n_sub) # Truncated Normal distribution for the slope\n",
    "        c = pm.TruncatedNormal('c', mu_c,  1,  lower = .5, upper = 5, shape = n_sub) # Truncated Normal distribution for mid point\n",
    "        d = pm.TruncatedNormal('d', mu_d,  1,  lower = .5,            shape = n_sub) # Truncated Normal distribution for upper asymptote\n",
    "        g = pm.TruncatedNormal('g', mu_g,  1,  lower = .8,            shape = n_sub) # Truncated Normal distribution for asymmetry factor\n",
    "             \n",
    "        Age_slope = pm.Normal('Age_slope', 0, 1)\n",
    "        \n",
    "        s = b[idx] + (Age_slope * df_all['AgeZ'])\n",
    "\n",
    "        # Define prior for standard deviation of observations\n",
    "        eps = pm.Exponential('eps', 1)\n",
    "\n",
    "        # Define the 5PL regression model   \n",
    "        y_hat = d[idx] + ((a[idx]-d[idx])/(1+(df_all['scale_rating'].values/c[idx])**s)**g[idx])\n",
    "\n",
    "        # Define likelihood function using observed data\n",
    "        rating = pm.Normal('rating',y_hat, eps, observed=df_all.rating)\n",
    "\n",
    "        trace = pm.sample()#tune = 2000, draws = 2000, target_accept = 0.99)\n",
    "\n",
    "    return trace"
   ]
  },
  {
   "cell_type": "code",
   "execution_count": 6,
   "id": "c163d381",
   "metadata": {},
   "outputs": [],
   "source": [
    "def pl5_hyper_age_en(df_all, idx, n_sub):\n",
    "    \n",
    "\n",
    "    with pm.Model() as five_PL:\n",
    "        \n",
    "        # hyper priors\n",
    "        # Define hyperpriors for group-level parameters\n",
    "        a1   = pm.TruncatedNormal('a1',   2, 1, lower =  1) # Truncated Normal hyperprior for 'a1'\n",
    "        a2   = pm.Normal('a2',           10, 1            ) # Normal hyperprior for 'a2'\n",
    "        mu_b = pm.TruncatedNormal('mu_b', 2, 1, lower =  1) # Truncated Normal hyperprior for mean 'b'\n",
    "        mu_c = pm.TruncatedNormal('mu_c', 2, 1, lower = .5) # Truncated Normal hyperprior for mean 'c'\n",
    "        mu_d = pm.TruncatedNormal('mu_d', 2, 1, lower =  0) # Truncated Normal hyperprior for mean 'd'\n",
    "        mu_g = pm.TruncatedNormal('mu_g', 4, 1, lower =  1) # Truncated Normal hyperprior for mean 'g'\n",
    "        \n",
    "        \n",
    "        # Define priors for parameters of the 5PL regression\n",
    "        a = pm.Beta('a',              a1, a2,                         shape = n_sub) # Beta distribution for lower asymptote\n",
    "        b = pm.TruncatedNormal('b', mu_b,  1,  lower = .5,            shape = n_sub) # Truncated Normal distribution for the slope\n",
    "        c = pm.TruncatedNormal('c', mu_c,  1,  lower = .5, upper = 5, shape = n_sub) # Truncated Normal distribution for mid point\n",
    "        d = pm.TruncatedNormal('d', mu_d,  1,  lower = .5,            shape = n_sub) # Truncated Normal distribution for upper asymptote\n",
    "        g = pm.TruncatedNormal('g', mu_g,  1,  lower = .8,            shape = n_sub) # Truncated Normal distribution for asymmetry factor\n",
    "             \n",
    "        EN_slope = pm.HalfNormal('EN_slope', 1)\n",
    "        Age_slope = pm.Normal('Age_slope', 0, 1)\n",
    "        \n",
    "        s = b[idx] + (EN_slope * df_all['EmotionalNumbingZ'] +\n",
    "                      Age_slope * df_all['AgeZ'])\n",
    "\n",
    "        # Define prior for standard deviation of observations\n",
    "        eps = pm.Exponential('eps', 1)\n",
    "\n",
    "        # Define the 5PL regression model   \n",
    "        y_hat = d[idx] + ((a[idx]-d[idx])/(1+(df_all['scale_rating'].values/c[idx])**s)**g[idx])\n",
    "\n",
    "        # Define likelihood function using observed data\n",
    "        rating = pm.Normal('rating',y_hat, eps, observed=df_all.rating)\n",
    "\n",
    "        trace = pm.sample()#tune = 2000, draws = 2000, target_accept = 0.99)\n",
    "\n",
    "    return trace"
   ]
  },
  {
   "cell_type": "code",
   "execution_count": 7,
   "id": "d6936821",
   "metadata": {},
   "outputs": [],
   "source": [
    "def pl5_hyper_inter(df_all, idx, n_sub):\n",
    "    \n",
    "\n",
    "    with pm.Model() as five_PL:\n",
    "        \n",
    "        # hyper priors\n",
    "        # Define hyperpriors for group-level parameters\n",
    "        a1   = pm.TruncatedNormal('a1',   2, 1, lower =  1) # Truncated Normal hyperprior for 'a1'\n",
    "        a2   = pm.Normal('a2',           10, 1            ) # Normal hyperprior for 'a2'\n",
    "        mu_b = pm.TruncatedNormal('mu_b', 2, 1, lower =  1) # Truncated Normal hyperprior for mean 'b'\n",
    "        mu_c = pm.TruncatedNormal('mu_c', 2, 1, lower = .5) # Truncated Normal hyperprior for mean 'c'\n",
    "        mu_d = pm.TruncatedNormal('mu_d', 2, 1, lower =  0) # Truncated Normal hyperprior for mean 'd'\n",
    "        mu_g = pm.TruncatedNormal('mu_g', 4, 1, lower =  1) # Truncated Normal hyperprior for mean 'g'\n",
    "        \n",
    "        \n",
    "        # Define priors for parameters of the 5PL regression\n",
    "        a = pm.Beta('a',              a1, a2,                         shape = n_sub) # Beta distribution for lower asymptote\n",
    "        b = pm.TruncatedNormal('b', mu_b,  1,  lower = .5,            shape = n_sub) # Truncated Normal distribution for the slope\n",
    "        c = pm.TruncatedNormal('c', mu_c,  1,  lower = .5, upper = 5, shape = n_sub) # Truncated Normal distribution for mid point\n",
    "        d = pm.TruncatedNormal('d', mu_d,  1,  lower = .5,            shape = n_sub) # Truncated Normal distribution for upper asymptote\n",
    "        g = pm.TruncatedNormal('g', mu_g,  1,  lower = .8,            shape = n_sub) # Truncated Normal distribution for asymmetry factor\n",
    "             \n",
    "        EN_slope = pm.HalfNormal('EN_slope', 1)\n",
    "        Age_slope = pm.Normal('Age_slope', 0, 1)\n",
    "        Inter_slope = pm.Normal('Inter_slope', 0, 1)\n",
    "        \n",
    "        s = b[idx] + (EN_slope * df_all['EmotionalNumbingZ'] +\n",
    "                      Age_slope * df_all['AgeZ'] +\n",
    "                      Inter_slope * df_all['EmotionalNumbingZ'] * df_all['AgeZ'])\n",
    "\n",
    "        # Define prior for standard deviation of observations\n",
    "        eps = pm.Exponential('eps', 1)\n",
    "\n",
    "        # Define the 5PL regression model   \n",
    "        y_hat = d[idx] + ((a[idx]-d[idx])/(1+(df_all['scale_rating'].values/c[idx])**s)**g[idx])\n",
    "\n",
    "        # Define likelihood function using observed data\n",
    "        rating = pm.Normal('rating',y_hat, eps, observed=df_all.rating)\n",
    "\n",
    "        trace = pm.sample()#tune = 2000, draws = 2000, target_accept = 0.99)\n",
    "\n",
    "    return trace"
   ]
  },
  {
   "cell_type": "markdown",
   "id": "5880e7af",
   "metadata": {},
   "source": [
    "## Run models"
   ]
  },
  {
   "cell_type": "code",
   "execution_count": 8,
   "id": "debf29d6",
   "metadata": {},
   "outputs": [
    {
     "name": "stderr",
     "output_type": "stream",
     "text": [
      "/tmp/ipykernel_555776/1484452449.py:4: SettingWithCopyWarning: \n",
      "A value is trying to be set on a copy of a slice from a DataFrame.\n",
      "Try using .loc[row_indexer,col_indexer] = value instead\n",
      "\n",
      "See the caveats in the documentation: https://pandas.pydata.org/pandas-docs/stable/user_guide/indexing.html#returning-a-view-versus-a-copy\n",
      "  df_long_c['sub_id'] = df_long_c['ID'].rank(method='dense')-1\n"
     ]
    }
   ],
   "source": [
    "# Assign a unique integer identifier to each unique ID in the dataset.\n",
    "# The 'rank' method provides a ranking to each unique ID and 'dense' ensures there are no gaps between ranks.\n",
    "# Subtracting 1 to make the ranking start from 0.\n",
    "df_long_c['sub_id'] = df_long_c['ID'].rank(method='dense')-1\n",
    "\n",
    "# Count the number of unique IDs (subjects)\n",
    "n_subs = len(df_long_c['ID'].unique())\n",
    "\n",
    "# Convert the 'sub_id' column to integer type as indices are typically integers.\n",
    "idx = df_long_c['sub_id'].astype(int)\n"
   ]
  },
  {
   "cell_type": "code",
   "execution_count": 9,
   "id": "3e8df8a5",
   "metadata": {},
   "outputs": [
    {
     "name": "stderr",
     "output_type": "stream",
     "text": [
      "Auto-assigning NUTS sampler...\n",
      "Initializing NUTS using jitter+adapt_diag...\n",
      "Multiprocess sampling (4 chains in 4 jobs)\n",
      "NUTS: [a1, a2, mu_b, mu_c, mu_d, mu_g, a, b, c, d, g, EN_slope, eps]\n"
     ]
    },
    {
     "data": {
      "text/html": [
       "\n",
       "<style>\n",
       "    /* Turns off some styling */\n",
       "    progress {\n",
       "        /* gets rid of default border in Firefox and Opera. */\n",
       "        border: none;\n",
       "        /* Needs to be in here for Safari polyfill so background images work as expected. */\n",
       "        background-size: auto;\n",
       "    }\n",
       "    progress:not([value]), progress:not([value])::-webkit-progress-bar {\n",
       "        background: repeating-linear-gradient(45deg, #7e7e7e, #7e7e7e 10px, #5c5c5c 10px, #5c5c5c 20px);\n",
       "    }\n",
       "    .progress-bar-interrupted, .progress-bar-interrupted::-webkit-progress-bar {\n",
       "        background: #F44336;\n",
       "    }\n",
       "</style>\n"
      ],
      "text/plain": [
       "<IPython.core.display.HTML object>"
      ]
     },
     "metadata": {},
     "output_type": "display_data"
    },
    {
     "data": {
      "text/html": [
       "\n",
       "    <div>\n",
       "      <progress value='8000' class='' max='8000' style='width:300px; height:20px; vertical-align: middle;'></progress>\n",
       "      100.00% [8000/8000 57:17&lt;00:00 Sampling 4 chains, 0 divergences]\n",
       "    </div>\n",
       "    "
      ],
      "text/plain": [
       "<IPython.core.display.HTML object>"
      ]
     },
     "metadata": {},
     "output_type": "display_data"
    },
    {
     "name": "stderr",
     "output_type": "stream",
     "text": [
      "Sampling 4 chains for 1_000 tune and 1_000 draw iterations (4_000 + 4_000 draws total) took 3439 seconds.\n",
      "Auto-assigning NUTS sampler...\n",
      "Initializing NUTS using jitter+adapt_diag...\n",
      "Multiprocess sampling (4 chains in 4 jobs)\n",
      "NUTS: [a1, a2, mu_b, mu_c, mu_d, mu_g, a, b, c, d, g, Age_slope, eps]\n"
     ]
    },
    {
     "data": {
      "text/html": [
       "\n",
       "<style>\n",
       "    /* Turns off some styling */\n",
       "    progress {\n",
       "        /* gets rid of default border in Firefox and Opera. */\n",
       "        border: none;\n",
       "        /* Needs to be in here for Safari polyfill so background images work as expected. */\n",
       "        background-size: auto;\n",
       "    }\n",
       "    progress:not([value]), progress:not([value])::-webkit-progress-bar {\n",
       "        background: repeating-linear-gradient(45deg, #7e7e7e, #7e7e7e 10px, #5c5c5c 10px, #5c5c5c 20px);\n",
       "    }\n",
       "    .progress-bar-interrupted, .progress-bar-interrupted::-webkit-progress-bar {\n",
       "        background: #F44336;\n",
       "    }\n",
       "</style>\n"
      ],
      "text/plain": [
       "<IPython.core.display.HTML object>"
      ]
     },
     "metadata": {},
     "output_type": "display_data"
    },
    {
     "data": {
      "text/html": [
       "\n",
       "    <div>\n",
       "      <progress value='8000' class='' max='8000' style='width:300px; height:20px; vertical-align: middle;'></progress>\n",
       "      100.00% [8000/8000 45:32&lt;00:00 Sampling 4 chains, 0 divergences]\n",
       "    </div>\n",
       "    "
      ],
      "text/plain": [
       "<IPython.core.display.HTML object>"
      ]
     },
     "metadata": {},
     "output_type": "display_data"
    },
    {
     "name": "stderr",
     "output_type": "stream",
     "text": [
      "Sampling 4 chains for 1_000 tune and 1_000 draw iterations (4_000 + 4_000 draws total) took 2734 seconds.\n",
      "Auto-assigning NUTS sampler...\n",
      "Initializing NUTS using jitter+adapt_diag...\n",
      "Multiprocess sampling (4 chains in 4 jobs)\n",
      "NUTS: [a1, a2, mu_b, mu_c, mu_d, mu_g, a, b, c, d, g, EN_slope, Age_slope, eps]\n"
     ]
    },
    {
     "data": {
      "text/html": [
       "\n",
       "<style>\n",
       "    /* Turns off some styling */\n",
       "    progress {\n",
       "        /* gets rid of default border in Firefox and Opera. */\n",
       "        border: none;\n",
       "        /* Needs to be in here for Safari polyfill so background images work as expected. */\n",
       "        background-size: auto;\n",
       "    }\n",
       "    progress:not([value]), progress:not([value])::-webkit-progress-bar {\n",
       "        background: repeating-linear-gradient(45deg, #7e7e7e, #7e7e7e 10px, #5c5c5c 10px, #5c5c5c 20px);\n",
       "    }\n",
       "    .progress-bar-interrupted, .progress-bar-interrupted::-webkit-progress-bar {\n",
       "        background: #F44336;\n",
       "    }\n",
       "</style>\n"
      ],
      "text/plain": [
       "<IPython.core.display.HTML object>"
      ]
     },
     "metadata": {},
     "output_type": "display_data"
    },
    {
     "data": {
      "text/html": [
       "\n",
       "    <div>\n",
       "      <progress value='8000' class='' max='8000' style='width:300px; height:20px; vertical-align: middle;'></progress>\n",
       "      100.00% [8000/8000 45:49&lt;00:00 Sampling 4 chains, 0 divergences]\n",
       "    </div>\n",
       "    "
      ],
      "text/plain": [
       "<IPython.core.display.HTML object>"
      ]
     },
     "metadata": {},
     "output_type": "display_data"
    },
    {
     "name": "stderr",
     "output_type": "stream",
     "text": [
      "Sampling 4 chains for 1_000 tune and 1_000 draw iterations (4_000 + 4_000 draws total) took 2752 seconds.\n",
      "Auto-assigning NUTS sampler...\n",
      "Initializing NUTS using jitter+adapt_diag...\n",
      "Multiprocess sampling (4 chains in 4 jobs)\n",
      "NUTS: [a1, a2, mu_b, mu_c, mu_d, mu_g, a, b, c, d, g, EN_slope, Age_slope, Inter_slope, eps]\n"
     ]
    },
    {
     "data": {
      "text/html": [
       "\n",
       "<style>\n",
       "    /* Turns off some styling */\n",
       "    progress {\n",
       "        /* gets rid of default border in Firefox and Opera. */\n",
       "        border: none;\n",
       "        /* Needs to be in here for Safari polyfill so background images work as expected. */\n",
       "        background-size: auto;\n",
       "    }\n",
       "    progress:not([value]), progress:not([value])::-webkit-progress-bar {\n",
       "        background: repeating-linear-gradient(45deg, #7e7e7e, #7e7e7e 10px, #5c5c5c 10px, #5c5c5c 20px);\n",
       "    }\n",
       "    .progress-bar-interrupted, .progress-bar-interrupted::-webkit-progress-bar {\n",
       "        background: #F44336;\n",
       "    }\n",
       "</style>\n"
      ],
      "text/plain": [
       "<IPython.core.display.HTML object>"
      ]
     },
     "metadata": {},
     "output_type": "display_data"
    },
    {
     "data": {
      "text/html": [
       "\n",
       "    <div>\n",
       "      <progress value='8000' class='' max='8000' style='width:300px; height:20px; vertical-align: middle;'></progress>\n",
       "      100.00% [8000/8000 47:42&lt;00:00 Sampling 4 chains, 0 divergences]\n",
       "    </div>\n",
       "    "
      ],
      "text/plain": [
       "<IPython.core.display.HTML object>"
      ]
     },
     "metadata": {},
     "output_type": "display_data"
    },
    {
     "name": "stderr",
     "output_type": "stream",
     "text": [
      "Sampling 4 chains for 1_000 tune and 1_000 draw iterations (4_000 + 4_000 draws total) took 2864 seconds.\n"
     ]
    }
   ],
   "source": [
    "trace_en = pl5_hyper_emotion(df_long_c, idx, n_subs)\n",
    "trace_age = pl5_hyper_age(df_long_c, idx, n_subs)\n",
    "trace_age_en = pl5_hyper_age_en(df_long_c, idx, n_subs)\n",
    "trace_inter = pl5_hyper_inter(df_long_c, idx, n_subs)"
   ]
  },
  {
   "cell_type": "code",
   "execution_count": 10,
   "id": "3f00797b",
   "metadata": {},
   "outputs": [
    {
     "name": "stderr",
     "output_type": "stream",
     "text": [
      "/home/nachshon/anaconda3/envs/en/lib/python3.9/site-packages/arviz/stats/stats.py:812: UserWarning: Estimated shape parameter of Pareto distribution is greater than 0.7 for one or more samples. You should consider using a more robust model, this is because importance sampling is less likely to work well if the marginal posterior and LOO posterior are very different. This is more likely to happen with a non-robust model and highly influential observations.\n",
      "  warnings.warn(\n",
      "/home/nachshon/anaconda3/envs/en/lib/python3.9/site-packages/arviz/stats/stats.py:812: UserWarning: Estimated shape parameter of Pareto distribution is greater than 0.7 for one or more samples. You should consider using a more robust model, this is because importance sampling is less likely to work well if the marginal posterior and LOO posterior are very different. This is more likely to happen with a non-robust model and highly influential observations.\n",
      "  warnings.warn(\n",
      "/home/nachshon/anaconda3/envs/en/lib/python3.9/site-packages/arviz/stats/stats.py:812: UserWarning: Estimated shape parameter of Pareto distribution is greater than 0.7 for one or more samples. You should consider using a more robust model, this is because importance sampling is less likely to work well if the marginal posterior and LOO posterior are very different. This is more likely to happen with a non-robust model and highly influential observations.\n",
      "  warnings.warn(\n",
      "/home/nachshon/anaconda3/envs/en/lib/python3.9/site-packages/arviz/stats/stats.py:812: UserWarning: Estimated shape parameter of Pareto distribution is greater than 0.7 for one or more samples. You should consider using a more robust model, this is because importance sampling is less likely to work well if the marginal posterior and LOO posterior are very different. This is more likely to happen with a non-robust model and highly influential observations.\n",
      "  warnings.warn(\n"
     ]
    },
    {
     "data": {
      "text/html": [
       "<div>\n",
       "<style scoped>\n",
       "    .dataframe tbody tr th:only-of-type {\n",
       "        vertical-align: middle;\n",
       "    }\n",
       "\n",
       "    .dataframe tbody tr th {\n",
       "        vertical-align: top;\n",
       "    }\n",
       "\n",
       "    .dataframe thead th {\n",
       "        text-align: right;\n",
       "    }\n",
       "</style>\n",
       "<table border=\"1\" class=\"dataframe\">\n",
       "  <thead>\n",
       "    <tr style=\"text-align: right;\">\n",
       "      <th></th>\n",
       "      <th>rank</th>\n",
       "      <th>loo</th>\n",
       "      <th>p_loo</th>\n",
       "      <th>d_loo</th>\n",
       "      <th>weight</th>\n",
       "      <th>se</th>\n",
       "      <th>dse</th>\n",
       "      <th>warning</th>\n",
       "      <th>loo_scale</th>\n",
       "    </tr>\n",
       "  </thead>\n",
       "  <tbody>\n",
       "    <tr>\n",
       "      <th>Emotional numbing</th>\n",
       "      <td>0</td>\n",
       "      <td>19412.524677</td>\n",
       "      <td>2544.023964</td>\n",
       "      <td>0.000000</td>\n",
       "      <td>1.000000e+00</td>\n",
       "      <td>196.890971</td>\n",
       "      <td>0.000000</td>\n",
       "      <td>True</td>\n",
       "      <td>log</td>\n",
       "    </tr>\n",
       "    <tr>\n",
       "      <th>EN and Age</th>\n",
       "      <td>1</td>\n",
       "      <td>19409.709137</td>\n",
       "      <td>2547.311225</td>\n",
       "      <td>2.815539</td>\n",
       "      <td>0.000000e+00</td>\n",
       "      <td>196.881765</td>\n",
       "      <td>1.661881</td>\n",
       "      <td>True</td>\n",
       "      <td>log</td>\n",
       "    </tr>\n",
       "    <tr>\n",
       "      <th>Interaction</th>\n",
       "      <td>2</td>\n",
       "      <td>19405.891166</td>\n",
       "      <td>2551.005019</td>\n",
       "      <td>6.633510</td>\n",
       "      <td>0.000000e+00</td>\n",
       "      <td>196.914220</td>\n",
       "      <td>1.690268</td>\n",
       "      <td>True</td>\n",
       "      <td>log</td>\n",
       "    </tr>\n",
       "    <tr>\n",
       "      <th>Age</th>\n",
       "      <td>3</td>\n",
       "      <td>19404.898242</td>\n",
       "      <td>2551.400649</td>\n",
       "      <td>7.626434</td>\n",
       "      <td>9.769963e-14</td>\n",
       "      <td>196.966741</td>\n",
       "      <td>2.171544</td>\n",
       "      <td>True</td>\n",
       "      <td>log</td>\n",
       "    </tr>\n",
       "  </tbody>\n",
       "</table>\n",
       "</div>"
      ],
      "text/plain": [
       "                   rank           loo        p_loo     d_loo        weight  \\\n",
       "Emotional numbing     0  19412.524677  2544.023964  0.000000  1.000000e+00   \n",
       "EN and Age            1  19409.709137  2547.311225  2.815539  0.000000e+00   \n",
       "Interaction           2  19405.891166  2551.005019  6.633510  0.000000e+00   \n",
       "Age                   3  19404.898242  2551.400649  7.626434  9.769963e-14   \n",
       "\n",
       "                           se       dse  warning loo_scale  \n",
       "Emotional numbing  196.890971  0.000000     True       log  \n",
       "EN and Age         196.881765  1.661881     True       log  \n",
       "Interaction        196.914220  1.690268     True       log  \n",
       "Age                196.966741  2.171544     True       log  "
      ]
     },
     "execution_count": 10,
     "metadata": {},
     "output_type": "execute_result"
    }
   ],
   "source": [
    "compare_dict_en = {\n",
    "                   'Emotional numbing': trace_en,\n",
    "                   'Age': trace_age,\n",
    "                   'EN and Age': trace_age_en,\n",
    "                   'Interaction': trace_inter\n",
    "                  }\n",
    "\n",
    "comp_en = az.compare(compare_dict_en)\n",
    "comp_en"
   ]
  },
  {
   "cell_type": "code",
   "execution_count": 11,
   "id": "a4fc949c",
   "metadata": {},
   "outputs": [
    {
     "data": {
      "text/html": [
       "<div>\n",
       "<style scoped>\n",
       "    .dataframe tbody tr th:only-of-type {\n",
       "        vertical-align: middle;\n",
       "    }\n",
       "\n",
       "    .dataframe tbody tr th {\n",
       "        vertical-align: top;\n",
       "    }\n",
       "\n",
       "    .dataframe thead th {\n",
       "        text-align: right;\n",
       "    }\n",
       "</style>\n",
       "<table border=\"1\" class=\"dataframe\">\n",
       "  <thead>\n",
       "    <tr style=\"text-align: right;\">\n",
       "      <th></th>\n",
       "      <th>mean</th>\n",
       "      <th>sd</th>\n",
       "      <th>hdi_5.5%</th>\n",
       "      <th>hdi_94.5%</th>\n",
       "      <th>mcse_mean</th>\n",
       "      <th>mcse_sd</th>\n",
       "      <th>ess_bulk</th>\n",
       "      <th>ess_tail</th>\n",
       "      <th>r_hat</th>\n",
       "    </tr>\n",
       "  </thead>\n",
       "  <tbody>\n",
       "    <tr>\n",
       "      <th>EN_slope</th>\n",
       "      <td>0.1</td>\n",
       "      <td>0.031</td>\n",
       "      <td>0.051</td>\n",
       "      <td>0.15</td>\n",
       "      <td>0.001</td>\n",
       "      <td>0.0</td>\n",
       "      <td>1964.0</td>\n",
       "      <td>2761.0</td>\n",
       "      <td>1.0</td>\n",
       "    </tr>\n",
       "  </tbody>\n",
       "</table>\n",
       "</div>"
      ],
      "text/plain": [
       "          mean     sd  hdi_5.5%  hdi_94.5%  mcse_mean  mcse_sd  ess_bulk  \\\n",
       "EN_slope   0.1  0.031     0.051       0.15      0.001      0.0    1964.0   \n",
       "\n",
       "          ess_tail  r_hat  \n",
       "EN_slope    2761.0    1.0  "
      ]
     },
     "execution_count": 11,
     "metadata": {},
     "output_type": "execute_result"
    }
   ],
   "source": [
    "az.summary(trace_en, var_names=['EN_slope'], hdi_prob=.89)"
   ]
  },
  {
   "cell_type": "code",
   "execution_count": 12,
   "id": "1be60f48",
   "metadata": {},
   "outputs": [
    {
     "data": {
      "text/html": [
       "<div>\n",
       "<style scoped>\n",
       "    .dataframe tbody tr th:only-of-type {\n",
       "        vertical-align: middle;\n",
       "    }\n",
       "\n",
       "    .dataframe tbody tr th {\n",
       "        vertical-align: top;\n",
       "    }\n",
       "\n",
       "    .dataframe thead th {\n",
       "        text-align: right;\n",
       "    }\n",
       "</style>\n",
       "<table border=\"1\" class=\"dataframe\">\n",
       "  <thead>\n",
       "    <tr style=\"text-align: right;\">\n",
       "      <th></th>\n",
       "      <th>mean</th>\n",
       "      <th>sd</th>\n",
       "      <th>hdi_5.5%</th>\n",
       "      <th>hdi_94.5%</th>\n",
       "      <th>mcse_mean</th>\n",
       "      <th>mcse_sd</th>\n",
       "      <th>ess_bulk</th>\n",
       "      <th>ess_tail</th>\n",
       "      <th>r_hat</th>\n",
       "    </tr>\n",
       "  </thead>\n",
       "  <tbody>\n",
       "    <tr>\n",
       "      <th>EN_slope</th>\n",
       "      <td>0.108</td>\n",
       "      <td>0.032</td>\n",
       "      <td>0.056</td>\n",
       "      <td>0.159</td>\n",
       "      <td>0.001</td>\n",
       "      <td>0.001</td>\n",
       "      <td>2031.0</td>\n",
       "      <td>2547.0</td>\n",
       "      <td>1.0</td>\n",
       "    </tr>\n",
       "    <tr>\n",
       "      <th>Age_slope</th>\n",
       "      <td>0.031</td>\n",
       "      <td>0.033</td>\n",
       "      <td>-0.022</td>\n",
       "      <td>0.083</td>\n",
       "      <td>0.001</td>\n",
       "      <td>0.001</td>\n",
       "      <td>2106.0</td>\n",
       "      <td>3076.0</td>\n",
       "      <td>1.0</td>\n",
       "    </tr>\n",
       "    <tr>\n",
       "      <th>Inter_slope</th>\n",
       "      <td>-0.035</td>\n",
       "      <td>0.033</td>\n",
       "      <td>-0.085</td>\n",
       "      <td>0.016</td>\n",
       "      <td>0.001</td>\n",
       "      <td>0.000</td>\n",
       "      <td>2295.0</td>\n",
       "      <td>2928.0</td>\n",
       "      <td>1.0</td>\n",
       "    </tr>\n",
       "  </tbody>\n",
       "</table>\n",
       "</div>"
      ],
      "text/plain": [
       "              mean     sd  hdi_5.5%  hdi_94.5%  mcse_mean  mcse_sd  ess_bulk  \\\n",
       "EN_slope     0.108  0.032     0.056      0.159      0.001    0.001    2031.0   \n",
       "Age_slope    0.031  0.033    -0.022      0.083      0.001    0.001    2106.0   \n",
       "Inter_slope -0.035  0.033    -0.085      0.016      0.001    0.000    2295.0   \n",
       "\n",
       "             ess_tail  r_hat  \n",
       "EN_slope       2547.0    1.0  \n",
       "Age_slope      3076.0    1.0  \n",
       "Inter_slope    2928.0    1.0  "
      ]
     },
     "execution_count": 12,
     "metadata": {},
     "output_type": "execute_result"
    }
   ],
   "source": [
    "az.summary(trace_inter, var_names=['EN_slope', 'Age_slope', 'Inter_slope'], hdi_prob=.89)"
   ]
  },
  {
   "cell_type": "code",
   "execution_count": 13,
   "id": "7e76a95c",
   "metadata": {},
   "outputs": [],
   "source": [
    "def pl5_hyper(df_all, idx, n_sub):\n",
    "    \n",
    "\n",
    "    with pm.Model() as five_PL:\n",
    "        \n",
    "        # hyper priors\n",
    "        # Define hyperpriors for group-level parameters\n",
    "        a1   = pm.TruncatedNormal('a1',   2, 1, lower =  1) # Truncated Normal hyperprior for 'a1'\n",
    "        a2   = pm.Normal('a2',           10, 1            ) # Normal hyperprior for 'a2'\n",
    "        mu_b = pm.TruncatedNormal('mu_b', 2, 1, lower =  1) # Truncated Normal hyperprior for mean 'b'\n",
    "        mu_c = pm.TruncatedNormal('mu_c', 2, 1, lower = .5) # Truncated Normal hyperprior for mean 'c'\n",
    "        mu_d = pm.TruncatedNormal('mu_d', 2, 1, lower =  0) # Truncated Normal hyperprior for mean 'd'\n",
    "        mu_g = pm.TruncatedNormal('mu_g', 4, 1, lower =  1) # Truncated Normal hyperprior for mean 'g'\n",
    "        \n",
    "        \n",
    "        # Define priors for parameters of the 5PL regression\n",
    "        a = pm.Beta('a',              a1, a2,                         shape = n_sub) # Beta distribution for lower asymptote\n",
    "        b = pm.TruncatedNormal('b', mu_b,  1,  lower = .5,            shape = n_sub) # Truncated Normal distribution for the slope\n",
    "        c = pm.TruncatedNormal('c', mu_c,  1,  lower = .5, upper = 5, shape = n_sub) # Truncated Normal distribution for mid point\n",
    "        d = pm.TruncatedNormal('d', mu_d,  1,  lower = .5,            shape = n_sub) # Truncated Normal distribution for upper asymptote\n",
    "        g = pm.TruncatedNormal('g', mu_g,  1,  lower = .8,            shape = n_sub) # Truncated Normal distribution for asymmetry factor\n",
    "\n",
    "        # Define prior for standard deviation of observations\n",
    "        eps = pm.Gamma('eps', 1, 1)\n",
    "\n",
    "        # Define the 5PL regression model   \n",
    "        y_hat = d[idx] + ((a[idx]-d[idx])/(1+(df_all['scale_rating'].values/c[idx])**b[idx])**g[idx])\n",
    "\n",
    "        # Define likelihood function using observed data\n",
    "        rating = pm.Normal('rating',y_hat, eps, observed=df_all.rating)\n",
    "\n",
    "        # Sample from the posterior distribution\n",
    "        trace = pm.sample()#tune = 3000, draws = 2000, target_accept = 0.99)\n",
    "\n",
    "    return trace"
   ]
  },
  {
   "cell_type": "code",
   "execution_count": 14,
   "id": "f2bbf681",
   "metadata": {},
   "outputs": [
    {
     "name": "stderr",
     "output_type": "stream",
     "text": [
      "Auto-assigning NUTS sampler...\n",
      "Initializing NUTS using jitter+adapt_diag...\n",
      "Multiprocess sampling (4 chains in 4 jobs)\n",
      "NUTS: [a1, a2, mu_b, mu_c, mu_d, mu_g, a, b, c, d, g, eps]\n"
     ]
    },
    {
     "data": {
      "text/html": [
       "\n",
       "<style>\n",
       "    /* Turns off some styling */\n",
       "    progress {\n",
       "        /* gets rid of default border in Firefox and Opera. */\n",
       "        border: none;\n",
       "        /* Needs to be in here for Safari polyfill so background images work as expected. */\n",
       "        background-size: auto;\n",
       "    }\n",
       "    progress:not([value]), progress:not([value])::-webkit-progress-bar {\n",
       "        background: repeating-linear-gradient(45deg, #7e7e7e, #7e7e7e 10px, #5c5c5c 10px, #5c5c5c 20px);\n",
       "    }\n",
       "    .progress-bar-interrupted, .progress-bar-interrupted::-webkit-progress-bar {\n",
       "        background: #F44336;\n",
       "    }\n",
       "</style>\n"
      ],
      "text/plain": [
       "<IPython.core.display.HTML object>"
      ]
     },
     "metadata": {},
     "output_type": "display_data"
    },
    {
     "data": {
      "text/html": [
       "\n",
       "    <div>\n",
       "      <progress value='8000' class='' max='8000' style='width:300px; height:20px; vertical-align: middle;'></progress>\n",
       "      100.00% [8000/8000 38:47&lt;00:00 Sampling 4 chains, 0 divergences]\n",
       "    </div>\n",
       "    "
      ],
      "text/plain": [
       "<IPython.core.display.HTML object>"
      ]
     },
     "metadata": {},
     "output_type": "display_data"
    },
    {
     "name": "stderr",
     "output_type": "stream",
     "text": [
      "Sampling 4 chains for 1_000 tune and 1_000 draw iterations (4_000 + 4_000 draws total) took 2329 seconds.\n"
     ]
    }
   ],
   "source": [
    "trace = pl5_hyper(df_long_c, idx, n_subs)"
   ]
  },
  {
   "cell_type": "code",
   "execution_count": 15,
   "id": "e09b57ab",
   "metadata": {},
   "outputs": [
    {
     "name": "stderr",
     "output_type": "stream",
     "text": [
      "/home/nachshon/anaconda3/envs/en/lib/python3.9/site-packages/arviz/stats/stats.py:812: UserWarning: Estimated shape parameter of Pareto distribution is greater than 0.7 for one or more samples. You should consider using a more robust model, this is because importance sampling is less likely to work well if the marginal posterior and LOO posterior are very different. This is more likely to happen with a non-robust model and highly influential observations.\n",
      "  warnings.warn(\n",
      "/home/nachshon/anaconda3/envs/en/lib/python3.9/site-packages/arviz/stats/stats.py:812: UserWarning: Estimated shape parameter of Pareto distribution is greater than 0.7 for one or more samples. You should consider using a more robust model, this is because importance sampling is less likely to work well if the marginal posterior and LOO posterior are very different. This is more likely to happen with a non-robust model and highly influential observations.\n",
      "  warnings.warn(\n"
     ]
    },
    {
     "data": {
      "text/html": [
       "<div>\n",
       "<style scoped>\n",
       "    .dataframe tbody tr th:only-of-type {\n",
       "        vertical-align: middle;\n",
       "    }\n",
       "\n",
       "    .dataframe tbody tr th {\n",
       "        vertical-align: top;\n",
       "    }\n",
       "\n",
       "    .dataframe thead th {\n",
       "        text-align: right;\n",
       "    }\n",
       "</style>\n",
       "<table border=\"1\" class=\"dataframe\">\n",
       "  <thead>\n",
       "    <tr style=\"text-align: right;\">\n",
       "      <th></th>\n",
       "      <th>rank</th>\n",
       "      <th>loo</th>\n",
       "      <th>p_loo</th>\n",
       "      <th>d_loo</th>\n",
       "      <th>weight</th>\n",
       "      <th>se</th>\n",
       "      <th>dse</th>\n",
       "      <th>warning</th>\n",
       "      <th>loo_scale</th>\n",
       "    </tr>\n",
       "  </thead>\n",
       "  <tbody>\n",
       "    <tr>\n",
       "      <th>Emotional numbing</th>\n",
       "      <td>0</td>\n",
       "      <td>19412.524677</td>\n",
       "      <td>2544.023964</td>\n",
       "      <td>0.000000</td>\n",
       "      <td>1.0</td>\n",
       "      <td>196.890971</td>\n",
       "      <td>0.000000</td>\n",
       "      <td>True</td>\n",
       "      <td>log</td>\n",
       "    </tr>\n",
       "    <tr>\n",
       "      <th>No regressors</th>\n",
       "      <td>1</td>\n",
       "      <td>19406.988886</td>\n",
       "      <td>2550.063007</td>\n",
       "      <td>5.535791</td>\n",
       "      <td>0.0</td>\n",
       "      <td>196.985875</td>\n",
       "      <td>2.173637</td>\n",
       "      <td>True</td>\n",
       "      <td>log</td>\n",
       "    </tr>\n",
       "  </tbody>\n",
       "</table>\n",
       "</div>"
      ],
      "text/plain": [
       "                   rank           loo        p_loo     d_loo  weight  \\\n",
       "Emotional numbing     0  19412.524677  2544.023964  0.000000     1.0   \n",
       "No regressors         1  19406.988886  2550.063007  5.535791     0.0   \n",
       "\n",
       "                           se       dse  warning loo_scale  \n",
       "Emotional numbing  196.890971  0.000000     True       log  \n",
       "No regressors      196.985875  2.173637     True       log  "
      ]
     },
     "execution_count": 15,
     "metadata": {},
     "output_type": "execute_result"
    }
   ],
   "source": [
    "compare_dict_en = {\n",
    "                   'No regressors': trace,\n",
    "                   'Emotional numbing': trace_en,\n",
    "                  }\n",
    "\n",
    "comp_en = az.compare(compare_dict_en)\n",
    "comp_en"
   ]
  },
  {
   "cell_type": "code",
   "execution_count": 1,
   "id": "55ceef95",
   "metadata": {},
   "outputs": [
    {
     "ename": "NameError",
     "evalue": "name 'trace_en' is not defined",
     "output_type": "error",
     "traceback": [
      "\u001b[0;31m---------------------------------------------------------------------------\u001b[0m",
      "\u001b[0;31mNameError\u001b[0m                                 Traceback (most recent call last)",
      "Input \u001b[0;32mIn [1]\u001b[0m, in \u001b[0;36m<cell line: 1>\u001b[0;34m()\u001b[0m\n\u001b[0;32m----> 1\u001b[0m \u001b[43mtrace_en\u001b[49m\u001b[38;5;241m.\u001b[39mto_netcdf(\u001b[38;5;124m\"\u001b[39m\u001b[38;5;124m../traces/trace_en1.nc\u001b[39m\u001b[38;5;124m\"\u001b[39m)\n",
      "\u001b[0;31mNameError\u001b[0m: name 'trace_en' is not defined"
     ]
    }
   ],
   "source": [
    "trace_en.to_netcdf(\"../traces/trace_en1.nc\")\n"
   ]
  }
 ],
 "metadata": {
  "kernelspec": {
   "display_name": "Python 3 (ipykernel)",
   "language": "python",
   "name": "python3"
  },
  "language_info": {
   "codemirror_mode": {
    "name": "ipython",
    "version": 3
   },
   "file_extension": ".py",
   "mimetype": "text/x-python",
   "name": "python",
   "nbconvert_exporter": "python",
   "pygments_lexer": "ipython3",
   "version": "3.9.13"
  }
 },
 "nbformat": 4,
 "nbformat_minor": 5
}
