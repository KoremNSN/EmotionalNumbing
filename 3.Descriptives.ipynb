{
 "cells": [
  {
   "cell_type": "code",
   "execution_count": 1,
   "id": "42a9970d",
   "metadata": {},
   "outputs": [],
   "source": [
    "# Import necessary libraries and modules\n",
    "import pandas as pd\n",
    "import numpy as np\n",
    "\n",
    "import pingouin as pg\n",
    "from scipy.stats import chi2_contingency\n",
    "\n",
    "import matplotlib.pyplot as plt\n",
    "import seaborn as sns"
   ]
  },
  {
   "cell_type": "code",
   "execution_count": 2,
   "id": "71ad885d",
   "metadata": {},
   "outputs": [
    {
     "name": "stdout",
     "output_type": "stream",
     "text": [
      "total number of participant:  1380\n"
     ]
    }
   ],
   "source": [
    "# Read data into DataFrames\n",
    "df4 = pd.read_csv('../Data/clean/Cohort4Clean.csv')\n",
    "df5 = pd.read_csv('../Data/clean/Cohort5Clean.csv')\n",
    "pics = pd.read_csv('../pics/pics.csv')\n",
    "\n",
    "# Concatenate df4 and df5 to create a combined DataFrame\n",
    "df = pd.concat([df4,df5])\n",
    "\n",
    "# Drop duplicate rows based on the 'ID' column\n",
    "df = df.drop_duplicates(subset=['ID'])\n",
    "\n",
    "# Print the shape (number of rows and columns) of the combined and deduplicated DataFrame\n",
    "print(\"total number of participant: \", df.shape[0])"
   ]
  },
  {
   "cell_type": "markdown",
   "id": "7914a7a1",
   "metadata": {},
   "source": [
    "# TEC vs PTSD\n",
    "\n",
    "## Number of pPTSD"
   ]
  },
  {
   "cell_type": "code",
   "execution_count": 3,
   "id": "9297c8d4",
   "metadata": {},
   "outputs": [
    {
     "data": {
      "text/plain": [
       "PTSD\n",
       "False    925\n",
       "True     455\n",
       "Name: Age, dtype: int64"
      ]
     },
     "execution_count": 3,
     "metadata": {},
     "output_type": "execute_result"
    }
   ],
   "source": [
    "df.groupby(['PTSD']).count()['Age']"
   ]
  },
  {
   "cell_type": "markdown",
   "id": "dfec317e",
   "metadata": {},
   "source": [
    "## Age"
   ]
  },
  {
   "cell_type": "code",
   "execution_count": 4,
   "id": "31e7dbfd",
   "metadata": {},
   "outputs": [
    {
     "name": "stdout",
     "output_type": "stream",
     "text": [
      "PTSD\n",
      "False    41.463784\n",
      "True     36.087912\n",
      "Name: Age, dtype: float64\n",
      "PTSD\n",
      "False    13.330872\n",
      "True     10.914413\n",
      "Name: Age, dtype: float64\n"
     ]
    },
    {
     "data": {
      "text/html": [
       "<div>\n",
       "<style scoped>\n",
       "    .dataframe tbody tr th:only-of-type {\n",
       "        vertical-align: middle;\n",
       "    }\n",
       "\n",
       "    .dataframe tbody tr th {\n",
       "        vertical-align: top;\n",
       "    }\n",
       "\n",
       "    .dataframe thead th {\n",
       "        text-align: right;\n",
       "    }\n",
       "</style>\n",
       "<table border=\"1\" class=\"dataframe\">\n",
       "  <thead>\n",
       "    <tr style=\"text-align: right;\">\n",
       "      <th></th>\n",
       "      <th>T</th>\n",
       "      <th>dof</th>\n",
       "      <th>alternative</th>\n",
       "      <th>p-val</th>\n",
       "      <th>CI95%</th>\n",
       "      <th>cohen-d</th>\n",
       "      <th>BF10</th>\n",
       "      <th>power</th>\n",
       "    </tr>\n",
       "  </thead>\n",
       "  <tbody>\n",
       "    <tr>\n",
       "      <th>T-test</th>\n",
       "      <td>-7.979082</td>\n",
       "      <td>1079.231999</td>\n",
       "      <td>two-sided</td>\n",
       "      <td>3.744080e-15</td>\n",
       "      <td>[-6.7, -4.05]</td>\n",
       "      <td>0.427128</td>\n",
       "      <td>1.527e+12</td>\n",
       "      <td>1.0</td>\n",
       "    </tr>\n",
       "  </tbody>\n",
       "</table>\n",
       "</div>"
      ],
      "text/plain": [
       "               T          dof alternative         p-val          CI95%  \\\n",
       "T-test -7.979082  1079.231999   two-sided  3.744080e-15  [-6.7, -4.05]   \n",
       "\n",
       "         cohen-d       BF10  power  \n",
       "T-test  0.427128  1.527e+12    1.0  "
      ]
     },
     "execution_count": 4,
     "metadata": {},
     "output_type": "execute_result"
    }
   ],
   "source": [
    "print(df.groupby(['PTSD']).mean()['Age'])\n",
    "print(df.groupby(['PTSD']).std()['Age'])\n",
    "pg.ttest(x=df[df['PTSD']==True]['Age'], y=df[df['PTSD']==False]['Age'])"
   ]
  },
  {
   "cell_type": "markdown",
   "id": "bda4f433",
   "metadata": {},
   "source": [
    "## Sex"
   ]
  },
  {
   "cell_type": "code",
   "execution_count": 5,
   "id": "71c7855b",
   "metadata": {},
   "outputs": [
    {
     "name": "stdout",
     "output_type": "stream",
     "text": [
      "% females TEC: 46.16,\n",
      "% females PTSD: 50.55\n"
     ]
    },
    {
     "data": {
      "text/html": [
       "<div>\n",
       "<style scoped>\n",
       "    .dataframe tbody tr th:only-of-type {\n",
       "        vertical-align: middle;\n",
       "    }\n",
       "\n",
       "    .dataframe tbody tr th {\n",
       "        vertical-align: top;\n",
       "    }\n",
       "\n",
       "    .dataframe thead th {\n",
       "        text-align: right;\n",
       "    }\n",
       "</style>\n",
       "<table border=\"1\" class=\"dataframe\">\n",
       "  <thead>\n",
       "    <tr style=\"text-align: right;\">\n",
       "      <th></th>\n",
       "      <th>PTSD</th>\n",
       "      <th>Sex</th>\n",
       "      <th>ID</th>\n",
       "    </tr>\n",
       "  </thead>\n",
       "  <tbody>\n",
       "    <tr>\n",
       "      <th>0</th>\n",
       "      <td>False</td>\n",
       "      <td>1.0</td>\n",
       "      <td>498</td>\n",
       "    </tr>\n",
       "    <tr>\n",
       "      <th>1</th>\n",
       "      <td>False</td>\n",
       "      <td>2.0</td>\n",
       "      <td>427</td>\n",
       "    </tr>\n",
       "    <tr>\n",
       "      <th>2</th>\n",
       "      <td>True</td>\n",
       "      <td>1.0</td>\n",
       "      <td>225</td>\n",
       "    </tr>\n",
       "    <tr>\n",
       "      <th>3</th>\n",
       "      <td>True</td>\n",
       "      <td>2.0</td>\n",
       "      <td>230</td>\n",
       "    </tr>\n",
       "  </tbody>\n",
       "</table>\n",
       "</div>"
      ],
      "text/plain": [
       "    PTSD  Sex   ID\n",
       "0  False  1.0  498\n",
       "1  False  2.0  427\n",
       "2   True  1.0  225\n",
       "3   True  2.0  230"
      ]
     },
     "execution_count": 5,
     "metadata": {},
     "output_type": "execute_result"
    }
   ],
   "source": [
    "df_s = df.groupby(['PTSD','Sex']).count()['ID'].reset_index()\n",
    "print(\"% females TEC: {:.2f},\\n% females PTSD: {:.2f}\".format(\n",
    "    (df_s['ID'][1]/(df_s['ID'][1]+df_s['ID'][0])*100),\n",
    "     (df_s['ID'][3]/(df_s['ID'][2]+df_s['ID'][3])*100)))\n",
    "df_s"
   ]
  },
  {
   "cell_type": "code",
   "execution_count": 6,
   "id": "f6861dcd",
   "metadata": {},
   "outputs": [
    {
     "name": "stdout",
     "output_type": "stream",
     "text": [
      "Chi-squared test: 2.18, p-value: 0.14\n"
     ]
    }
   ],
   "source": [
    "contingency_table = ([df_s['ID'][0],df_s['ID'][1]], [df_s['ID'][2], df_s['ID'][3]])\n",
    "\n",
    "# Perform the Chi-squared test\n",
    "chi2, p, dof, expected = chi2_contingency(contingency_table)\n",
    "\n",
    "print(\"Chi-squared test: {:.2f}, p-value: {:.2f}\".format(chi2, p))"
   ]
  },
  {
   "cell_type": "markdown",
   "id": "29cc03ff",
   "metadata": {},
   "source": [
    "## PCL-5 scores"
   ]
  },
  {
   "cell_type": "code",
   "execution_count": 7,
   "id": "38f9da9f",
   "metadata": {},
   "outputs": [
    {
     "name": "stdout",
     "output_type": "stream",
     "text": [
      "PTSD\n",
      "False    17.825946\n",
      "True     46.468132\n",
      "Name: PCL, dtype: float64\n",
      "PTSD\n",
      "False    10.138808\n",
      "True      9.699822\n",
      "Name: PCL, dtype: float64\n",
      "PTSD\n",
      "False     0.0\n",
      "True     33.0\n",
      "Name: PCL, dtype: float64\n",
      "PTSD\n",
      "False    56.0\n",
      "True     76.0\n",
      "Name: PCL, dtype: float64\n"
     ]
    },
    {
     "name": "stderr",
     "output_type": "stream",
     "text": [
      "/home/nachshon/anaconda3/envs/en/lib/python3.9/site-packages/pingouin/bayesian.py:152: RuntimeWarning: overflow encountered in double_scalars\n",
      "  bf10 = 1 / ((1 + t**2 / df) ** (-(df + 1) / 2) / integr)\n"
     ]
    },
    {
     "data": {
      "text/html": [
       "<div>\n",
       "<style scoped>\n",
       "    .dataframe tbody tr th:only-of-type {\n",
       "        vertical-align: middle;\n",
       "    }\n",
       "\n",
       "    .dataframe tbody tr th {\n",
       "        vertical-align: top;\n",
       "    }\n",
       "\n",
       "    .dataframe thead th {\n",
       "        text-align: right;\n",
       "    }\n",
       "</style>\n",
       "<table border=\"1\" class=\"dataframe\">\n",
       "  <thead>\n",
       "    <tr style=\"text-align: right;\">\n",
       "      <th></th>\n",
       "      <th>T</th>\n",
       "      <th>dof</th>\n",
       "      <th>alternative</th>\n",
       "      <th>p-val</th>\n",
       "      <th>CI95%</th>\n",
       "      <th>cohen-d</th>\n",
       "      <th>BF10</th>\n",
       "      <th>power</th>\n",
       "    </tr>\n",
       "  </thead>\n",
       "  <tbody>\n",
       "    <tr>\n",
       "      <th>T-test</th>\n",
       "      <td>50.798569</td>\n",
       "      <td>939.745351</td>\n",
       "      <td>two-sided</td>\n",
       "      <td>9.581611e-272</td>\n",
       "      <td>[27.54, 29.75]</td>\n",
       "      <td>2.865276</td>\n",
       "      <td>inf</td>\n",
       "      <td>1.0</td>\n",
       "    </tr>\n",
       "  </tbody>\n",
       "</table>\n",
       "</div>"
      ],
      "text/plain": [
       "                T         dof alternative          p-val           CI95%  \\\n",
       "T-test  50.798569  939.745351   two-sided  9.581611e-272  [27.54, 29.75]   \n",
       "\n",
       "         cohen-d BF10  power  \n",
       "T-test  2.865276  inf    1.0  "
      ]
     },
     "execution_count": 7,
     "metadata": {},
     "output_type": "execute_result"
    }
   ],
   "source": [
    "print(df.groupby(['PTSD']).mean()['PCL'])\n",
    "print(df.groupby(['PTSD']).std()['PCL'])\n",
    "print(df.groupby(['PTSD']).min()['PCL'])\n",
    "print(df.groupby(['PTSD']).max()['PCL'])\n",
    "pg.ttest(x=df[df['PTSD']==True]['PCL'], y=df[df['PTSD']==False]['PCL'])"
   ]
  },
  {
   "cell_type": "markdown",
   "id": "03c5be7e",
   "metadata": {},
   "source": [
    "## Emotional Numbing"
   ]
  },
  {
   "cell_type": "code",
   "execution_count": 8,
   "id": "3c83b9fe",
   "metadata": {},
   "outputs": [
    {
     "name": "stdout",
     "output_type": "stream",
     "text": [
      "PTSD\n",
      "False    2.950270\n",
      "True     7.912088\n",
      "Name: EmotionalNumbing, dtype: float64\n",
      "PTSD\n",
      "False    2.630925\n",
      "True     2.503075\n",
      "Name: EmotionalNumbing, dtype: float64\n",
      "PTSD\n",
      "False    0.0\n",
      "True     0.0\n",
      "Name: EmotionalNumbing, dtype: float64\n",
      "PTSD\n",
      "False    12.0\n",
      "True     12.0\n",
      "Name: EmotionalNumbing, dtype: float64\n"
     ]
    },
    {
     "data": {
      "text/html": [
       "<div>\n",
       "<style scoped>\n",
       "    .dataframe tbody tr th:only-of-type {\n",
       "        vertical-align: middle;\n",
       "    }\n",
       "\n",
       "    .dataframe tbody tr th {\n",
       "        vertical-align: top;\n",
       "    }\n",
       "\n",
       "    .dataframe thead th {\n",
       "        text-align: right;\n",
       "    }\n",
       "</style>\n",
       "<table border=\"1\" class=\"dataframe\">\n",
       "  <thead>\n",
       "    <tr style=\"text-align: right;\">\n",
       "      <th></th>\n",
       "      <th>T</th>\n",
       "      <th>dof</th>\n",
       "      <th>alternative</th>\n",
       "      <th>p-val</th>\n",
       "      <th>CI95%</th>\n",
       "      <th>cohen-d</th>\n",
       "      <th>BF10</th>\n",
       "      <th>power</th>\n",
       "    </tr>\n",
       "  </thead>\n",
       "  <tbody>\n",
       "    <tr>\n",
       "      <th>T-test</th>\n",
       "      <td>34.035336</td>\n",
       "      <td>944.460483</td>\n",
       "      <td>two-sided</td>\n",
       "      <td>2.416063e-166</td>\n",
       "      <td>[4.68, 5.25]</td>\n",
       "      <td>1.916129</td>\n",
       "      <td>3.744e+180</td>\n",
       "      <td>1.0</td>\n",
       "    </tr>\n",
       "  </tbody>\n",
       "</table>\n",
       "</div>"
      ],
      "text/plain": [
       "                T         dof alternative          p-val         CI95%  \\\n",
       "T-test  34.035336  944.460483   two-sided  2.416063e-166  [4.68, 5.25]   \n",
       "\n",
       "         cohen-d        BF10  power  \n",
       "T-test  1.916129  3.744e+180    1.0  "
      ]
     },
     "execution_count": 8,
     "metadata": {},
     "output_type": "execute_result"
    }
   ],
   "source": [
    "print(df.groupby(['PTSD']).mean()['EmotionalNumbing'])\n",
    "print(df.groupby(['PTSD']).std()['EmotionalNumbing'])\n",
    "print(df.groupby(['PTSD']).min()['EmotionalNumbing'])\n",
    "print(df.groupby(['PTSD']).max()['EmotionalNumbing'])\n",
    "pg.ttest(x=df[df['PTSD']==True]['EmotionalNumbing'], y=df[df['PTSD']==False]['EmotionalNumbing'])"
   ]
  },
  {
   "cell_type": "markdown",
   "id": "e6fcffb1",
   "metadata": {},
   "source": [
    "## Educational background"
   ]
  },
  {
   "cell_type": "code",
   "execution_count": 9,
   "id": "b683592b",
   "metadata": {},
   "outputs": [
    {
     "data": {
      "text/html": [
       "<div>\n",
       "<style scoped>\n",
       "    .dataframe tbody tr th:only-of-type {\n",
       "        vertical-align: middle;\n",
       "    }\n",
       "\n",
       "    .dataframe tbody tr th {\n",
       "        vertical-align: top;\n",
       "    }\n",
       "\n",
       "    .dataframe thead th {\n",
       "        text-align: right;\n",
       "    }\n",
       "</style>\n",
       "<table border=\"1\" class=\"dataframe\">\n",
       "  <thead>\n",
       "    <tr style=\"text-align: right;\">\n",
       "      <th></th>\n",
       "      <th>PTSD</th>\n",
       "      <th>education</th>\n",
       "      <th>ID</th>\n",
       "    </tr>\n",
       "  </thead>\n",
       "  <tbody>\n",
       "    <tr>\n",
       "      <th>0</th>\n",
       "      <td>False</td>\n",
       "      <td>1.0</td>\n",
       "      <td>12</td>\n",
       "    </tr>\n",
       "    <tr>\n",
       "      <th>1</th>\n",
       "      <td>False</td>\n",
       "      <td>2.0</td>\n",
       "      <td>125</td>\n",
       "    </tr>\n",
       "    <tr>\n",
       "      <th>2</th>\n",
       "      <td>False</td>\n",
       "      <td>3.0</td>\n",
       "      <td>189</td>\n",
       "    </tr>\n",
       "    <tr>\n",
       "      <th>3</th>\n",
       "      <td>False</td>\n",
       "      <td>4.0</td>\n",
       "      <td>120</td>\n",
       "    </tr>\n",
       "    <tr>\n",
       "      <th>4</th>\n",
       "      <td>False</td>\n",
       "      <td>5.0</td>\n",
       "      <td>322</td>\n",
       "    </tr>\n",
       "    <tr>\n",
       "      <th>5</th>\n",
       "      <td>False</td>\n",
       "      <td>6.0</td>\n",
       "      <td>155</td>\n",
       "    </tr>\n",
       "    <tr>\n",
       "      <th>6</th>\n",
       "      <td>False</td>\n",
       "      <td>7.0</td>\n",
       "      <td>2</td>\n",
       "    </tr>\n",
       "    <tr>\n",
       "      <th>7</th>\n",
       "      <td>True</td>\n",
       "      <td>1.0</td>\n",
       "      <td>5</td>\n",
       "    </tr>\n",
       "    <tr>\n",
       "      <th>8</th>\n",
       "      <td>True</td>\n",
       "      <td>2.0</td>\n",
       "      <td>85</td>\n",
       "    </tr>\n",
       "    <tr>\n",
       "      <th>9</th>\n",
       "      <td>True</td>\n",
       "      <td>3.0</td>\n",
       "      <td>133</td>\n",
       "    </tr>\n",
       "    <tr>\n",
       "      <th>10</th>\n",
       "      <td>True</td>\n",
       "      <td>4.0</td>\n",
       "      <td>47</td>\n",
       "    </tr>\n",
       "    <tr>\n",
       "      <th>11</th>\n",
       "      <td>True</td>\n",
       "      <td>5.0</td>\n",
       "      <td>141</td>\n",
       "    </tr>\n",
       "    <tr>\n",
       "      <th>12</th>\n",
       "      <td>True</td>\n",
       "      <td>6.0</td>\n",
       "      <td>44</td>\n",
       "    </tr>\n",
       "  </tbody>\n",
       "</table>\n",
       "</div>"
      ],
      "text/plain": [
       "     PTSD  education   ID\n",
       "0   False        1.0   12\n",
       "1   False        2.0  125\n",
       "2   False        3.0  189\n",
       "3   False        4.0  120\n",
       "4   False        5.0  322\n",
       "5   False        6.0  155\n",
       "6   False        7.0    2\n",
       "7    True        1.0    5\n",
       "8    True        2.0   85\n",
       "9    True        3.0  133\n",
       "10   True        4.0   47\n",
       "11   True        5.0  141\n",
       "12   True        6.0   44"
      ]
     },
     "execution_count": 9,
     "metadata": {},
     "output_type": "execute_result"
    }
   ],
   "source": [
    "df_edu = df.groupby(['PTSD','education']).count()['ID'].reset_index()\n",
    "df_edu"
   ]
  },
  {
   "cell_type": "code",
   "execution_count": 10,
   "id": "a302086f",
   "metadata": {},
   "outputs": [
    {
     "name": "stdout",
     "output_type": "stream",
     "text": [
      "Chi-squared test: 30.26, p-value: 0.00\n"
     ]
    }
   ],
   "source": [
    "contingency_table = pd.pivot_table(df_edu, values='ID', index='PTSD', columns='education', aggfunc='sum', fill_value=0)\n",
    "\n",
    "chi2, p, dof, expected = chi2_contingency(contingency_table)\n",
    "\n",
    "print(\"Chi-squared test: {:.2f}, p-value: {:.2f}\".format(chi2, p))"
   ]
  },
  {
   "cell_type": "code",
   "execution_count": 11,
   "id": "e8d1c838",
   "metadata": {},
   "outputs": [
    {
     "name": "stdout",
     "output_type": "stream",
     "text": [
      "\n",
      "Residuals (Observed - Expected):\n"
     ]
    },
    {
     "data": {
      "text/html": [
       "<div>\n",
       "<style scoped>\n",
       "    .dataframe tbody tr th:only-of-type {\n",
       "        vertical-align: middle;\n",
       "    }\n",
       "\n",
       "    .dataframe tbody tr th {\n",
       "        vertical-align: top;\n",
       "    }\n",
       "\n",
       "    .dataframe thead th {\n",
       "        text-align: right;\n",
       "    }\n",
       "</style>\n",
       "<table border=\"1\" class=\"dataframe\">\n",
       "  <thead>\n",
       "    <tr style=\"text-align: right;\">\n",
       "      <th>education</th>\n",
       "      <th>1.0</th>\n",
       "      <th>2.0</th>\n",
       "      <th>3.0</th>\n",
       "      <th>4.0</th>\n",
       "      <th>5.0</th>\n",
       "      <th>6.0</th>\n",
       "      <th>7.0</th>\n",
       "    </tr>\n",
       "    <tr>\n",
       "      <th>PTSD</th>\n",
       "      <th></th>\n",
       "      <th></th>\n",
       "      <th></th>\n",
       "      <th></th>\n",
       "      <th></th>\n",
       "      <th></th>\n",
       "      <th></th>\n",
       "    </tr>\n",
       "  </thead>\n",
       "  <tbody>\n",
       "    <tr>\n",
       "      <th>False</th>\n",
       "      <td>0.605072</td>\n",
       "      <td>-15.76087</td>\n",
       "      <td>-26.833333</td>\n",
       "      <td>8.061594</td>\n",
       "      <td>11.655797</td>\n",
       "      <td>21.612319</td>\n",
       "      <td>0.65942</td>\n",
       "    </tr>\n",
       "    <tr>\n",
       "      <th>True</th>\n",
       "      <td>-0.605072</td>\n",
       "      <td>15.76087</td>\n",
       "      <td>26.833333</td>\n",
       "      <td>-8.061594</td>\n",
       "      <td>-11.655797</td>\n",
       "      <td>-21.612319</td>\n",
       "      <td>-0.65942</td>\n",
       "    </tr>\n",
       "  </tbody>\n",
       "</table>\n",
       "</div>"
      ],
      "text/plain": [
       "education       1.0       2.0        3.0       4.0        5.0        6.0  \\\n",
       "PTSD                                                                       \n",
       "False      0.605072 -15.76087 -26.833333  8.061594  11.655797  21.612319   \n",
       "True      -0.605072  15.76087  26.833333 -8.061594 -11.655797 -21.612319   \n",
       "\n",
       "education      7.0  \n",
       "PTSD                \n",
       "False      0.65942  \n",
       "True      -0.65942  "
      ]
     },
     "execution_count": 11,
     "metadata": {},
     "output_type": "execute_result"
    }
   ],
   "source": [
    "residuals = contingency_table - pd.DataFrame(expected, index=contingency_table.index, columns=contingency_table.columns)\n",
    "print(\"\\nResiduals (Observed - Expected):\")\n",
    "residuals"
   ]
  },
  {
   "cell_type": "markdown",
   "id": "08d5eaff",
   "metadata": {},
   "source": [
    "## Ethnicity"
   ]
  },
  {
   "cell_type": "code",
   "execution_count": 12,
   "id": "42f55267",
   "metadata": {},
   "outputs": [
    {
     "data": {
      "text/html": [
       "<div>\n",
       "<style scoped>\n",
       "    .dataframe tbody tr th:only-of-type {\n",
       "        vertical-align: middle;\n",
       "    }\n",
       "\n",
       "    .dataframe tbody tr th {\n",
       "        vertical-align: top;\n",
       "    }\n",
       "\n",
       "    .dataframe thead th {\n",
       "        text-align: right;\n",
       "    }\n",
       "</style>\n",
       "<table border=\"1\" class=\"dataframe\">\n",
       "  <thead>\n",
       "    <tr style=\"text-align: right;\">\n",
       "      <th></th>\n",
       "      <th>PTSD</th>\n",
       "      <th>Ethnicity</th>\n",
       "      <th>ID</th>\n",
       "    </tr>\n",
       "  </thead>\n",
       "  <tbody>\n",
       "    <tr>\n",
       "      <th>0</th>\n",
       "      <td>False</td>\n",
       "      <td>1.0</td>\n",
       "      <td>90</td>\n",
       "    </tr>\n",
       "    <tr>\n",
       "      <th>1</th>\n",
       "      <td>False</td>\n",
       "      <td>2.0</td>\n",
       "      <td>835</td>\n",
       "    </tr>\n",
       "    <tr>\n",
       "      <th>2</th>\n",
       "      <td>True</td>\n",
       "      <td>1.0</td>\n",
       "      <td>46</td>\n",
       "    </tr>\n",
       "    <tr>\n",
       "      <th>3</th>\n",
       "      <td>True</td>\n",
       "      <td>2.0</td>\n",
       "      <td>409</td>\n",
       "    </tr>\n",
       "  </tbody>\n",
       "</table>\n",
       "</div>"
      ],
      "text/plain": [
       "    PTSD  Ethnicity   ID\n",
       "0  False        1.0   90\n",
       "1  False        2.0  835\n",
       "2   True        1.0   46\n",
       "3   True        2.0  409"
      ]
     },
     "execution_count": 12,
     "metadata": {},
     "output_type": "execute_result"
    }
   ],
   "source": [
    "df_eth = df.groupby(['PTSD','Ethnicity']).count()['ID'].reset_index()\n",
    "df_eth"
   ]
  },
  {
   "cell_type": "code",
   "execution_count": 13,
   "id": "d19a312f",
   "metadata": {},
   "outputs": [
    {
     "name": "stdout",
     "output_type": "stream",
     "text": [
      "Chi-squared test: 0.02, p-value: 0.90\n"
     ]
    }
   ],
   "source": [
    "contingency_table = pd.pivot_table(df_eth, values='ID', index='PTSD', columns='Ethnicity', aggfunc='sum', fill_value=0)\n",
    "\n",
    "chi2, p, dof, expected = chi2_contingency(contingency_table)\n",
    "\n",
    "print(\"Chi-squared test: {:.2f}, p-value: {:.2f}\".format(chi2, p))"
   ]
  },
  {
   "cell_type": "markdown",
   "id": "053a11ab",
   "metadata": {},
   "source": [
    "## Race"
   ]
  },
  {
   "cell_type": "code",
   "execution_count": 14,
   "id": "105f86c6",
   "metadata": {},
   "outputs": [
    {
     "data": {
      "text/html": [
       "<div>\n",
       "<style scoped>\n",
       "    .dataframe tbody tr th:only-of-type {\n",
       "        vertical-align: middle;\n",
       "    }\n",
       "\n",
       "    .dataframe tbody tr th {\n",
       "        vertical-align: top;\n",
       "    }\n",
       "\n",
       "    .dataframe thead th {\n",
       "        text-align: right;\n",
       "    }\n",
       "</style>\n",
       "<table border=\"1\" class=\"dataframe\">\n",
       "  <thead>\n",
       "    <tr style=\"text-align: right;\">\n",
       "      <th></th>\n",
       "      <th>PTSD</th>\n",
       "      <th>raceadj</th>\n",
       "      <th>ID</th>\n",
       "    </tr>\n",
       "  </thead>\n",
       "  <tbody>\n",
       "    <tr>\n",
       "      <th>0</th>\n",
       "      <td>False</td>\n",
       "      <td>1.0</td>\n",
       "      <td>741</td>\n",
       "    </tr>\n",
       "    <tr>\n",
       "      <th>1</th>\n",
       "      <td>False</td>\n",
       "      <td>2.0</td>\n",
       "      <td>62</td>\n",
       "    </tr>\n",
       "    <tr>\n",
       "      <th>2</th>\n",
       "      <td>False</td>\n",
       "      <td>3.0</td>\n",
       "      <td>5</td>\n",
       "    </tr>\n",
       "    <tr>\n",
       "      <th>3</th>\n",
       "      <td>False</td>\n",
       "      <td>4.0</td>\n",
       "      <td>41</td>\n",
       "    </tr>\n",
       "    <tr>\n",
       "      <th>4</th>\n",
       "      <td>False</td>\n",
       "      <td>6.0</td>\n",
       "      <td>14</td>\n",
       "    </tr>\n",
       "    <tr>\n",
       "      <th>5</th>\n",
       "      <td>False</td>\n",
       "      <td>7.0</td>\n",
       "      <td>9</td>\n",
       "    </tr>\n",
       "    <tr>\n",
       "      <th>6</th>\n",
       "      <td>False</td>\n",
       "      <td>8.0</td>\n",
       "      <td>53</td>\n",
       "    </tr>\n",
       "    <tr>\n",
       "      <th>7</th>\n",
       "      <td>True</td>\n",
       "      <td>1.0</td>\n",
       "      <td>346</td>\n",
       "    </tr>\n",
       "    <tr>\n",
       "      <th>8</th>\n",
       "      <td>True</td>\n",
       "      <td>2.0</td>\n",
       "      <td>44</td>\n",
       "    </tr>\n",
       "    <tr>\n",
       "      <th>9</th>\n",
       "      <td>True</td>\n",
       "      <td>3.0</td>\n",
       "      <td>4</td>\n",
       "    </tr>\n",
       "    <tr>\n",
       "      <th>10</th>\n",
       "      <td>True</td>\n",
       "      <td>4.0</td>\n",
       "      <td>25</td>\n",
       "    </tr>\n",
       "    <tr>\n",
       "      <th>11</th>\n",
       "      <td>True</td>\n",
       "      <td>6.0</td>\n",
       "      <td>9</td>\n",
       "    </tr>\n",
       "    <tr>\n",
       "      <th>12</th>\n",
       "      <td>True</td>\n",
       "      <td>7.0</td>\n",
       "      <td>1</td>\n",
       "    </tr>\n",
       "    <tr>\n",
       "      <th>13</th>\n",
       "      <td>True</td>\n",
       "      <td>8.0</td>\n",
       "      <td>26</td>\n",
       "    </tr>\n",
       "  </tbody>\n",
       "</table>\n",
       "</div>"
      ],
      "text/plain": [
       "     PTSD  raceadj   ID\n",
       "0   False      1.0  741\n",
       "1   False      2.0   62\n",
       "2   False      3.0    5\n",
       "3   False      4.0   41\n",
       "4   False      6.0   14\n",
       "5   False      7.0    9\n",
       "6   False      8.0   53\n",
       "7    True      1.0  346\n",
       "8    True      2.0   44\n",
       "9    True      3.0    4\n",
       "10   True      4.0   25\n",
       "11   True      6.0    9\n",
       "12   True      7.0    1\n",
       "13   True      8.0   26"
      ]
     },
     "execution_count": 14,
     "metadata": {},
     "output_type": "execute_result"
    }
   ],
   "source": [
    "df['raceadj'] = pd.to_numeric(df['race'], errors='coerce').fillna(8)\n",
    "df_rce = df.groupby(['PTSD','raceadj']).count()['ID'].reset_index()\n",
    "df_rce"
   ]
  },
  {
   "cell_type": "code",
   "execution_count": 15,
   "id": "eb228d5f",
   "metadata": {},
   "outputs": [
    {
     "name": "stdout",
     "output_type": "stream",
     "text": [
      "Chi-squared test: 8.17, p-value: 0.23\n"
     ]
    }
   ],
   "source": [
    "contingency_table = pd.pivot_table(df_rce, values='ID', index='PTSD', columns='raceadj', aggfunc='sum', fill_value=0)\n",
    "\n",
    "chi2, p, dof, expected = chi2_contingency(contingency_table)\n",
    "\n",
    "print(\"Chi-squared test: {:.2f}, p-value: {:.2f}\".format(chi2, p))"
   ]
  },
  {
   "cell_type": "markdown",
   "id": "8d61da08",
   "metadata": {},
   "source": [
    "## Marital status"
   ]
  },
  {
   "cell_type": "code",
   "execution_count": 16,
   "id": "68537205",
   "metadata": {},
   "outputs": [
    {
     "data": {
      "text/html": [
       "<div>\n",
       "<style scoped>\n",
       "    .dataframe tbody tr th:only-of-type {\n",
       "        vertical-align: middle;\n",
       "    }\n",
       "\n",
       "    .dataframe tbody tr th {\n",
       "        vertical-align: top;\n",
       "    }\n",
       "\n",
       "    .dataframe thead th {\n",
       "        text-align: right;\n",
       "    }\n",
       "</style>\n",
       "<table border=\"1\" class=\"dataframe\">\n",
       "  <thead>\n",
       "    <tr style=\"text-align: right;\">\n",
       "      <th></th>\n",
       "      <th>PTSD</th>\n",
       "      <th>marital</th>\n",
       "      <th>ID</th>\n",
       "    </tr>\n",
       "  </thead>\n",
       "  <tbody>\n",
       "    <tr>\n",
       "      <th>0</th>\n",
       "      <td>False</td>\n",
       "      <td>1.0</td>\n",
       "      <td>345</td>\n",
       "    </tr>\n",
       "    <tr>\n",
       "      <th>1</th>\n",
       "      <td>False</td>\n",
       "      <td>2.0</td>\n",
       "      <td>145</td>\n",
       "    </tr>\n",
       "    <tr>\n",
       "      <th>2</th>\n",
       "      <td>False</td>\n",
       "      <td>3.0</td>\n",
       "      <td>14</td>\n",
       "    </tr>\n",
       "    <tr>\n",
       "      <th>3</th>\n",
       "      <td>False</td>\n",
       "      <td>4.0</td>\n",
       "      <td>100</td>\n",
       "    </tr>\n",
       "    <tr>\n",
       "      <th>4</th>\n",
       "      <td>False</td>\n",
       "      <td>5.0</td>\n",
       "      <td>321</td>\n",
       "    </tr>\n",
       "    <tr>\n",
       "      <th>5</th>\n",
       "      <td>True</td>\n",
       "      <td>1.0</td>\n",
       "      <td>135</td>\n",
       "    </tr>\n",
       "    <tr>\n",
       "      <th>6</th>\n",
       "      <td>True</td>\n",
       "      <td>2.0</td>\n",
       "      <td>83</td>\n",
       "    </tr>\n",
       "    <tr>\n",
       "      <th>7</th>\n",
       "      <td>True</td>\n",
       "      <td>3.0</td>\n",
       "      <td>6</td>\n",
       "    </tr>\n",
       "    <tr>\n",
       "      <th>8</th>\n",
       "      <td>True</td>\n",
       "      <td>4.0</td>\n",
       "      <td>44</td>\n",
       "    </tr>\n",
       "    <tr>\n",
       "      <th>9</th>\n",
       "      <td>True</td>\n",
       "      <td>5.0</td>\n",
       "      <td>187</td>\n",
       "    </tr>\n",
       "  </tbody>\n",
       "</table>\n",
       "</div>"
      ],
      "text/plain": [
       "    PTSD  marital   ID\n",
       "0  False      1.0  345\n",
       "1  False      2.0  145\n",
       "2  False      3.0   14\n",
       "3  False      4.0  100\n",
       "4  False      5.0  321\n",
       "5   True      1.0  135\n",
       "6   True      2.0   83\n",
       "7   True      3.0    6\n",
       "8   True      4.0   44\n",
       "9   True      5.0  187"
      ]
     },
     "execution_count": 16,
     "metadata": {},
     "output_type": "execute_result"
    }
   ],
   "source": [
    "df_mrtl = df.groupby(['PTSD','marital']).count()['ID'].reset_index()\n",
    "df_mrtl"
   ]
  },
  {
   "cell_type": "code",
   "execution_count": 17,
   "id": "2bb94fe6",
   "metadata": {},
   "outputs": [
    {
     "name": "stdout",
     "output_type": "stream",
     "text": [
      "Chi-squared test: 10.17, p-value: 0.04\n"
     ]
    }
   ],
   "source": [
    "contingency_table = pd.pivot_table(df_mrtl, values='ID', index='PTSD', columns='marital', aggfunc='sum', fill_value=0)\n",
    "\n",
    "chi2, p, dof, expected = chi2_contingency(contingency_table)\n",
    "\n",
    "print(\"Chi-squared test: {:.2f}, p-value: {:.2f}\".format(chi2, p))"
   ]
  },
  {
   "cell_type": "code",
   "execution_count": 18,
   "id": "7533f5f9",
   "metadata": {},
   "outputs": [
    {
     "name": "stdout",
     "output_type": "stream",
     "text": [
      "\n",
      "Residuals (Observed - Expected):\n"
     ]
    },
    {
     "data": {
      "text/html": [
       "<div>\n",
       "<style scoped>\n",
       "    .dataframe tbody tr th:only-of-type {\n",
       "        vertical-align: middle;\n",
       "    }\n",
       "\n",
       "    .dataframe tbody tr th {\n",
       "        vertical-align: top;\n",
       "    }\n",
       "\n",
       "    .dataframe thead th {\n",
       "        text-align: right;\n",
       "    }\n",
       "</style>\n",
       "<table border=\"1\" class=\"dataframe\">\n",
       "  <thead>\n",
       "    <tr style=\"text-align: right;\">\n",
       "      <th>marital</th>\n",
       "      <th>1.0</th>\n",
       "      <th>2.0</th>\n",
       "      <th>3.0</th>\n",
       "      <th>4.0</th>\n",
       "      <th>5.0</th>\n",
       "    </tr>\n",
       "    <tr>\n",
       "      <th>PTSD</th>\n",
       "      <th></th>\n",
       "      <th></th>\n",
       "      <th></th>\n",
       "      <th></th>\n",
       "      <th></th>\n",
       "    </tr>\n",
       "  </thead>\n",
       "  <tbody>\n",
       "    <tr>\n",
       "      <th>False</th>\n",
       "      <td>23.26087</td>\n",
       "      <td>-7.826087</td>\n",
       "      <td>0.594203</td>\n",
       "      <td>3.478261</td>\n",
       "      <td>-19.507246</td>\n",
       "    </tr>\n",
       "    <tr>\n",
       "      <th>True</th>\n",
       "      <td>-23.26087</td>\n",
       "      <td>7.826087</td>\n",
       "      <td>-0.594203</td>\n",
       "      <td>-3.478261</td>\n",
       "      <td>19.507246</td>\n",
       "    </tr>\n",
       "  </tbody>\n",
       "</table>\n",
       "</div>"
      ],
      "text/plain": [
       "marital       1.0       2.0       3.0       4.0        5.0\n",
       "PTSD                                                      \n",
       "False    23.26087 -7.826087  0.594203  3.478261 -19.507246\n",
       "True    -23.26087  7.826087 -0.594203 -3.478261  19.507246"
      ]
     },
     "execution_count": 18,
     "metadata": {},
     "output_type": "execute_result"
    }
   ],
   "source": [
    "residuals = contingency_table - pd.DataFrame(expected, index=contingency_table.index, columns=contingency_table.columns)\n",
    "print(\"\\nResiduals (Observed - Expected):\")\n",
    "residuals"
   ]
  },
  {
   "cell_type": "markdown",
   "id": "a72ac634",
   "metadata": {},
   "source": [
    "# Valid vs Outlier subjects"
   ]
  },
  {
   "cell_type": "code",
   "execution_count": 19,
   "id": "828adf7a",
   "metadata": {},
   "outputs": [
    {
     "name": "stdout",
     "output_type": "stream",
     "text": [
      "number of outliers: 83\n"
     ]
    }
   ],
   "source": [
    "# Read data into DataFrames\n",
    "df_o4 = pd.read_csv('../Data/outliers/Cohort4outliers.csv')\n",
    "df_o5 = pd.read_csv('../Data/outliers/Cohort5outliers.csv')\n",
    "pics = pd.read_csv('../pics/pics.csv')\n",
    "\n",
    "# Concatenate df4 and df5 to create a combined DataFrame\n",
    "df_o = pd.concat([df_o4,df_o5])\n",
    "\n",
    "# Drop duplicate rows based on the 'ID' column\n",
    "df_o = df_o.drop_duplicates(subset=['ID'])\n",
    "\n",
    "# Print the shape (number of rows and columns) of the combined and deduplicated DataFrame\n",
    "print(\"number of outliers:\", df_o.shape[0])\n"
   ]
  },
  {
   "cell_type": "markdown",
   "id": "3c4c1cca",
   "metadata": {},
   "source": [
    "## Age"
   ]
  },
  {
   "cell_type": "code",
   "execution_count": 20,
   "id": "9c71496b",
   "metadata": {},
   "outputs": [
    {
     "data": {
      "text/html": [
       "<div>\n",
       "<style scoped>\n",
       "    .dataframe tbody tr th:only-of-type {\n",
       "        vertical-align: middle;\n",
       "    }\n",
       "\n",
       "    .dataframe tbody tr th {\n",
       "        vertical-align: top;\n",
       "    }\n",
       "\n",
       "    .dataframe thead th {\n",
       "        text-align: right;\n",
       "    }\n",
       "</style>\n",
       "<table border=\"1\" class=\"dataframe\">\n",
       "  <thead>\n",
       "    <tr style=\"text-align: right;\">\n",
       "      <th></th>\n",
       "      <th>T</th>\n",
       "      <th>dof</th>\n",
       "      <th>alternative</th>\n",
       "      <th>p-val</th>\n",
       "      <th>CI95%</th>\n",
       "      <th>cohen-d</th>\n",
       "      <th>BF10</th>\n",
       "      <th>power</th>\n",
       "    </tr>\n",
       "  </thead>\n",
       "  <tbody>\n",
       "    <tr>\n",
       "      <th>T-test</th>\n",
       "      <td>-0.391569</td>\n",
       "      <td>91.479856</td>\n",
       "      <td>two-sided</td>\n",
       "      <td>0.696288</td>\n",
       "      <td>[-3.56, 2.39]</td>\n",
       "      <td>0.045562</td>\n",
       "      <td>0.134</td>\n",
       "      <td>0.068792</td>\n",
       "    </tr>\n",
       "  </tbody>\n",
       "</table>\n",
       "</div>"
      ],
      "text/plain": [
       "               T        dof alternative     p-val          CI95%   cohen-d  \\\n",
       "T-test -0.391569  91.479856   two-sided  0.696288  [-3.56, 2.39]  0.045562   \n",
       "\n",
       "         BF10     power  \n",
       "T-test  0.134  0.068792  "
      ]
     },
     "execution_count": 20,
     "metadata": {},
     "output_type": "execute_result"
    }
   ],
   "source": [
    "pg.ttest(x=df.Age, y=df_o.Age)"
   ]
  },
  {
   "cell_type": "markdown",
   "id": "2e7d902d",
   "metadata": {},
   "source": [
    "## Sex"
   ]
  },
  {
   "cell_type": "code",
   "execution_count": 21,
   "id": "d9af8eb0",
   "metadata": {},
   "outputs": [
    {
     "name": "stdout",
     "output_type": "stream",
     "text": [
      "Chi-squared test:2.23, p-value: 0.14\n"
     ]
    }
   ],
   "source": [
    "# Differnce in sex?\n",
    "m = df[df.Sex==1].shape[0]\n",
    "used = [m,df.shape[0]-m]\n",
    "m = df_o[df_o.Sex==1].shape[0]\n",
    "out = [m,df_o.shape[0]-m]\n",
    "\n",
    "contingency_table = np.array([used, out])\n",
    "\n",
    "# Perform the Chi-squared test\n",
    "chi2, p, dof, expected = chi2_contingency(contingency_table)\n",
    "\n",
    "print(\"Chi-squared test:{:.2f}, p-value: {:.2f}\".format(chi2, p))"
   ]
  },
  {
   "cell_type": "markdown",
   "id": "80afa620",
   "metadata": {},
   "source": [
    "## Extreme responses"
   ]
  },
  {
   "cell_type": "code",
   "execution_count": 22,
   "id": "4b3ff793",
   "metadata": {},
   "outputs": [
    {
     "data": {
      "text/html": [
       "<div>\n",
       "<style scoped>\n",
       "    .dataframe tbody tr th:only-of-type {\n",
       "        vertical-align: middle;\n",
       "    }\n",
       "\n",
       "    .dataframe tbody tr th {\n",
       "        vertical-align: top;\n",
       "    }\n",
       "\n",
       "    .dataframe thead th {\n",
       "        text-align: right;\n",
       "    }\n",
       "</style>\n",
       "<table border=\"1\" class=\"dataframe\">\n",
       "  <thead>\n",
       "    <tr style=\"text-align: right;\">\n",
       "      <th></th>\n",
       "      <th>T</th>\n",
       "      <th>dof</th>\n",
       "      <th>alternative</th>\n",
       "      <th>p-val</th>\n",
       "      <th>CI95%</th>\n",
       "      <th>cohen-d</th>\n",
       "      <th>BF10</th>\n",
       "      <th>power</th>\n",
       "    </tr>\n",
       "  </thead>\n",
       "  <tbody>\n",
       "    <tr>\n",
       "      <th>T-test</th>\n",
       "      <td>-4.161046</td>\n",
       "      <td>85.510996</td>\n",
       "      <td>two-sided</td>\n",
       "      <td>0.000075</td>\n",
       "      <td>[-6.41, -2.26]</td>\n",
       "      <td>0.74022</td>\n",
       "      <td>487.557</td>\n",
       "      <td>1.0</td>\n",
       "    </tr>\n",
       "  </tbody>\n",
       "</table>\n",
       "</div>"
      ],
      "text/plain": [
       "               T        dof alternative     p-val           CI95%  cohen-d  \\\n",
       "T-test -4.161046  85.510996   two-sided  0.000075  [-6.41, -2.26]  0.74022   \n",
       "\n",
       "           BF10  power  \n",
       "T-test  487.557    1.0  "
      ]
     },
     "execution_count": 22,
     "metadata": {},
     "output_type": "execute_result"
    }
   ],
   "source": [
    "df['extreme'] = (df[df.columns[3:43]] == 0).sum(axis=1) + (df[df.columns[3:43]] == 100).sum(axis=1)\n",
    "df_o['extreme'] = (df_o[df_o.columns[3:43]] == 0).sum(axis=1) + (df_o[df_o.columns[3:43]] == 100).sum(axis=1)\n",
    "\n",
    "pg.ttest(x=df.extreme, y=df_o.extreme)"
   ]
  },
  {
   "cell_type": "code",
   "execution_count": 23,
   "id": "062a1a82",
   "metadata": {},
   "outputs": [
    {
     "name": "stdout",
     "output_type": "stream",
     "text": [
      "number of extreme response valid: 5.23,\n",
      "number of extreme response outliers: 9.57\n"
     ]
    }
   ],
   "source": [
    "print(\"number of extreme response valid: {:.2f},\\nnumber of extreme response outliers: {:.2f}\".format(\n",
    "    df.extreme.sum()/df.extreme.count(),\n",
    "    df_o.extreme.sum()/df_o.extreme.count()))"
   ]
  }
 ],
 "metadata": {
  "kernelspec": {
   "display_name": "Python 3 (ipykernel)",
   "language": "python",
   "name": "python3"
  },
  "language_info": {
   "codemirror_mode": {
    "name": "ipython",
    "version": 3
   },
   "file_extension": ".py",
   "mimetype": "text/x-python",
   "name": "python",
   "nbconvert_exporter": "python",
   "pygments_lexer": "ipython3",
   "version": "3.9.13"
  }
 },
 "nbformat": 4,
 "nbformat_minor": 5
}
