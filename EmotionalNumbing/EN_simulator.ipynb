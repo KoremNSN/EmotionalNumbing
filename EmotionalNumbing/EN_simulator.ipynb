{
 "cells": [
  {
   "cell_type": "markdown",
   "id": "a58cffff",
   "metadata": {},
   "source": [
    "# Emotional numbing as a 5PL regression model\n",
    "\n",
    "y = d + (a-d)/(1+(x/c)^b)^g\n",
    "\n",
    "a theortical response at min</br>\n",
    "b slope factor</br>\n",
    "c mid range </br>\n",
    "d therotical response at max</br>\n",
    "g asymetrical factor</br>\n",
    "\n",
    "Participants will rate pictures valence.</br>\n",
    "We will fit a curve to the valence rating and \"known\" valence based on the mean from the dataset it was taken from.</br>\n",
    "Hypothesis: </br>\n",
    "    1. Depressive symptoms will be correlate with \"d\"</br>\n",
    "    2. emotional numbing symptoms will correlate with increase of \"b\""
   ]
  },
  {
   "cell_type": "code",
   "execution_count": 1,
   "id": "2c599891",
   "metadata": {},
   "outputs": [],
   "source": [
    "import pandas as pd\n",
    "import numpy as np\n",
    "\n",
    "import pymc as pm\n",
    "import pymc.sampling_jax as jx\n",
    "import arviz as az\n",
    "import jax\n",
    "\n",
    "import matplotlib.pyplot as ply\n",
    "import seaborn as sns"
   ]
  },
  {
   "cell_type": "markdown",
   "id": "1d5a7ed3",
   "metadata": {},
   "source": [
    "create a single subject"
   ]
  },
  {
   "cell_type": "code",
   "execution_count": 2,
   "id": "50a956a6",
   "metadata": {},
   "outputs": [
    {
     "data": {
      "text/plain": [
       "<AxesSubplot:xlabel='x', ylabel='y'>"
      ]
     },
     "execution_count": 2,
     "metadata": {},
     "output_type": "execute_result"
    },
    {
     "data": {
      "image/png": "[encoded data removed]",
      "text/plain": [
       "<Figure size 432x288 with 1 Axes>"
      ]
     },
     "metadata": {
      "needs_background": "light"
     },
     "output_type": "display_data"
    }
   ],
   "source": [
    "trials = 100\n",
    "min_r = 0\n",
    "max_r = 4\n",
    "a = np.random.beta(1, 20, 1)[0]\n",
    "b = np.random.normal(10, 2.5, 1)[0]\n",
    "c = np.random.normal(2.5, .5, 1)[0]\n",
    "d = np.random.beta(10, 10, 1)[0]\n",
    "g = np.random.normal(1.1, .2, 1)[0]\n",
    "x = np.arange(min_r, max_r, max_r/trials)\n",
    "df = pd.DataFrame({'a': a,     \n",
    "                   'b': b,    \n",
    "                   'c': c,\n",
    "                   'd': d,\n",
    "                   'g': g,\n",
    "                   'x': x})\n",
    "df['y'] = df.d + (df.a-df.d)/(1+(df.x/df.c)**df.b)**df.g\n",
    "\n",
    "sns.lineplot(x='x',y='y',data=df)"
   ]
  },
  {
   "cell_type": "code",
   "execution_count": 3,
   "id": "15bb1527",
   "metadata": {},
   "outputs": [
    {
     "name": "stderr",
     "output_type": "stream",
     "text": [
      "Auto-assigning NUTS sampler...\n",
      "Initializing NUTS using jitter+adapt_diag...\n",
      "Multiprocess sampling (4 chains in 4 jobs)\n",
      "NUTS: [a, b, eps]\n"
     ]
    },
    {
     "data": {
      "text/html": [
       "\n",
       "<style>\n",
       "    /* Turns off some styling */\n",
       "    progress {\n",
       "        /* gets rid of default border in Firefox and Opera. */\n",
       "        border: none;\n",
       "        /* Needs to be in here for Safari polyfill so background images work as expected. */\n",
       "        background-size: auto;\n",
       "    }\n",
       "    progress:not([value]), progress:not([value])::-webkit-progress-bar {\n",
       "        background: repeating-linear-gradient(45deg, #7e7e7e, #7e7e7e 10px, #5c5c5c 10px, #5c5c5c 20px);\n",
       "    }\n",
       "    .progress-bar-interrupted, .progress-bar-interrupted::-webkit-progress-bar {\n",
       "        background: #F44336;\n",
       "    }\n",
       "</style>\n"
      ],
      "text/plain": [
       "<IPython.core.display.HTML object>"
      ]
     },
     "metadata": {},
     "output_type": "display_data"
    },
    {
     "data": {
      "text/html": [
       "\n",
       "    <div>\n",
       "      <progress value='12000' class='' max='12000' style='width:300px; height:20px; vertical-align: middle;'></progress>\n",
       "      100.00% [12000/12000 00:06&lt;00:00 Sampling 4 chains, 0 divergences]\n",
       "    </div>\n",
       "    "
      ],
      "text/plain": [
       "<IPython.core.display.HTML object>"
      ]
     },
     "metadata": {},
     "output_type": "display_data"
    },
    {
     "name": "stderr",
     "output_type": "stream",
     "text": [
      "Sampling 4 chains for 1_000 tune and 2_000 draw iterations (4_000 + 8_000 draws total) took 7 seconds.\n"
     ]
    }
   ],
   "source": [
    "with pm.Model() as linear:\n",
    "    a = pm.Normal('a', 0, 5)\n",
    "    b = pm.Normal('b', 1, 1)\n",
    "    \n",
    "    eps = pm.Exponential('eps', 5)\n",
    "    y_hat = a + b * df.x\n",
    "       \n",
    "    # Likelihood (sampling distribution) of observations\n",
    "    rating = pm.Normal('rating',y_hat, eps, observed=df['y'].values)\n",
    "    trace_l = pm.sample(2000, return_inferencedata=True, target_accept=0.9)"
   ]
  },
  {
   "cell_type": "code",
   "execution_count": 4,
   "id": "efc24b06",
   "metadata": {},
   "outputs": [
    {
     "name": "stderr",
     "output_type": "stream",
     "text": [
      "Auto-assigning NUTS sampler...\n",
      "Initializing NUTS using jitter+adapt_diag...\n",
      "Multiprocess sampling (4 chains in 4 jobs)\n",
      "NUTS: [a, b, c, d, eps]\n"
     ]
    },
    {
     "data": {
      "text/html": [
       "\n",
       "<style>\n",
       "    /* Turns off some styling */\n",
       "    progress {\n",
       "        /* gets rid of default border in Firefox and Opera. */\n",
       "        border: none;\n",
       "        /* Needs to be in here for Safari polyfill so background images work as expected. */\n",
       "        background-size: auto;\n",
       "    }\n",
       "    progress:not([value]), progress:not([value])::-webkit-progress-bar {\n",
       "        background: repeating-linear-gradient(45deg, #7e7e7e, #7e7e7e 10px, #5c5c5c 10px, #5c5c5c 20px);\n",
       "    }\n",
       "    .progress-bar-interrupted, .progress-bar-interrupted::-webkit-progress-bar {\n",
       "        background: #F44336;\n",
       "    }\n",
       "</style>\n"
      ],
      "text/plain": [
       "<IPython.core.display.HTML object>"
      ]
     },
     "metadata": {},
     "output_type": "display_data"
    },
    {
     "data": {
      "text/html": [
       "\n",
       "    <div>\n",
       "      <progress value='12000' class='' max='12000' style='width:300px; height:20px; vertical-align: middle;'></progress>\n",
       "      100.00% [12000/12000 00:10&lt;00:00 Sampling 4 chains, 0 divergences]\n",
       "    </div>\n",
       "    "
      ],
      "text/plain": [
       "<IPython.core.display.HTML object>"
      ]
     },
     "metadata": {},
     "output_type": "display_data"
    },
    {
     "name": "stderr",
     "output_type": "stream",
     "text": [
      "Sampling 4 chains for 1_000 tune and 2_000 draw iterations (4_000 + 8_000 draws total) took 10 seconds.\n"
     ]
    }
   ],
   "source": [
    "with pm.Model() as four_PL:\n",
    "    \n",
    "    a = pm.Beta('a', 2, 10)\n",
    "    b = pm.Normal('b',10, 2.5)\n",
    "    c = pm.Normal('c',2.5, .5)\n",
    "    d = pm.Beta('d', 10, 10)\n",
    "    \n",
    "    eps = pm.Exponential('eps', 5)\n",
    "    y_hat = d + (a-d)/(1+(df['x'].values/c)**b)\n",
    "       \n",
    "    # Likelihood (sampling distribution) of observations\n",
    "    rating = pm.Normal('rating',y_hat, eps, observed=df['y'].values)\n",
    "    trace_4 = pm.sample(2000, return_inferencedata=True, target_accept=0.9)"
   ]
  },
  {
   "cell_type": "code",
   "execution_count": 93,
   "id": "db795678",
   "metadata": {},
   "outputs": [
    {
     "name": "stderr",
     "output_type": "stream",
     "text": [
      "Auto-assigning NUTS sampler...\n",
      "INFO:pymc:Auto-assigning NUTS sampler...\n",
      "Initializing NUTS using jitter+adapt_diag...\n",
      "INFO:pymc:Initializing NUTS using jitter+adapt_diag...\n",
      "Multiprocess sampling (4 chains in 4 jobs)\n",
      "INFO:pymc:Multiprocess sampling (4 chains in 4 jobs)\n",
      "NUTS: [a, b, c, d, g, eps]\n",
      "INFO:pymc:NUTS: [a, b, c, d, g, eps]\n"
     ]
    },
    {
     "data": {
      "text/html": [
       "\n",
       "<style>\n",
       "    /* Turns off some styling */\n",
       "    progress {\n",
       "        /* gets rid of default border in Firefox and Opera. */\n",
       "        border: none;\n",
       "        /* Needs to be in here for Safari polyfill so background images work as expected. */\n",
       "        background-size: auto;\n",
       "    }\n",
       "    progress:not([value]), progress:not([value])::-webkit-progress-bar {\n",
       "        background: repeating-linear-gradient(45deg, #7e7e7e, #7e7e7e 10px, #5c5c5c 10px, #5c5c5c 20px);\n",
       "    }\n",
       "    .progress-bar-interrupted, .progress-bar-interrupted::-webkit-progress-bar {\n",
       "        background: #F44336;\n",
       "    }\n",
       "</style>\n"
      ],
      "text/plain": [
       "<IPython.core.display.HTML object>"
      ]
     },
     "metadata": {},
     "output_type": "display_data"
    },
    {
     "data": {
      "text/html": [
       "\n",
       "    <div>\n",
       "      <progress value='16000' class='' max='16000' style='width:300px; height:20px; vertical-align: middle;'></progress>\n",
       "      100.00% [16000/16000 09:09&lt;00:00 Sampling 4 chains, 0 divergences]\n",
       "    </div>\n",
       "    "
      ],
      "text/plain": [
       "<IPython.core.display.HTML object>"
      ]
     },
     "metadata": {},
     "output_type": "display_data"
    },
    {
     "name": "stderr",
     "output_type": "stream",
     "text": [
      "Sampling 4 chains for 1_000 tune and 3_000 draw iterations (4_000 + 12_000 draws total) took 550 seconds.\n",
      "INFO:pymc:Sampling 4 chains for 1_000 tune and 3_000 draw iterations (4_000 + 12_000 draws total) took 550 seconds.\n",
      "The chain reached the maximum tree depth. Increase max_treedepth, increase target_accept or reparameterize.\n",
      "WARNING:pymc:The chain reached the maximum tree depth. Increase max_treedepth, increase target_accept or reparameterize.\n",
      "The chain reached the maximum tree depth. Increase max_treedepth, increase target_accept or reparameterize.\n",
      "WARNING:pymc:The chain reached the maximum tree depth. Increase max_treedepth, increase target_accept or reparameterize.\n",
      "The chain reached the maximum tree depth. Increase max_treedepth, increase target_accept or reparameterize.\n",
      "WARNING:pymc:The chain reached the maximum tree depth. Increase max_treedepth, increase target_accept or reparameterize.\n",
      "The chain reached the maximum tree depth. Increase max_treedepth, increase target_accept or reparameterize.\n",
      "WARNING:pymc:The chain reached the maximum tree depth. Increase max_treedepth, increase target_accept or reparameterize.\n"
     ]
    }
   ],
   "source": [
    "with pm.Model() as five_PL:\n",
    "    \n",
    "    a = pm.Beta('a', 1, 20)\n",
    "    b = pm.Normal('b',10, 2.5)\n",
    "    c = pm.Normal('c',2.5, .5)\n",
    "    d = pm.Beta('d', 10, 10)\n",
    "    g = pm.Normal('g', 1, .2)\n",
    "    \n",
    "    eps = pm.Exponential('eps', 5)\n",
    "    y_hat = d + (a-d)/(1+(df['x'].values/c)**b)**g\n",
    "       \n",
    "    # Likelihood (sampling distribution) of observations\n",
    "    rating = pm.Normal('rating',y_hat, eps, observed=df['y'].values)\n",
    "    trace_5 = pm.sample(3000, return_inferencedata=True, target_accept=0.95)"
   ]
  },
  {
   "cell_type": "code",
   "execution_count": 92,
   "id": "1c7b5de5",
   "metadata": {},
   "outputs": [
    {
     "name": "stdout",
     "output_type": "stream",
     "text": [
      "Compiling...\n",
      "Compilation time =  0:00:02.362020\n",
      "Sampling...\n"
     ]
    },
    {
     "data": {
      "application/vnd.jupyter.widget-view+json": {
       "model_id": "963f1180f78e42629a2e8395aa64c031",
       "version_major": 2,
       "version_minor": 0
      },
      "text/plain": [
       "  0%|          | 0/4000 [00:00<?, ?it/s]"
      ]
     },
     "metadata": {},
     "output_type": "display_data"
    },
    {
     "data": {
      "application/vnd.jupyter.widget-view+json": {
       "model_id": "5418d1656b364325bbd9a6fc9b8f6cb1",
       "version_major": 2,
       "version_minor": 0
      },
      "text/plain": [
       "  0%|          | 0/4000 [00:00<?, ?it/s]"
      ]
     },
     "metadata": {},
     "output_type": "display_data"
    },
    {
     "data": {
      "application/vnd.jupyter.widget-view+json": {
       "model_id": "70dc3ef9904047f197dc677404d4e0d1",
       "version_major": 2,
       "version_minor": 0
      },
      "text/plain": [
       "  0%|          | 0/4000 [00:00<?, ?it/s]"
      ]
     },
     "metadata": {},
     "output_type": "display_data"
    },
    {
     "data": {
      "application/vnd.jupyter.widget-view+json": {
       "model_id": "dc6c19dc057044ccb0c6bad599379b3c",
       "version_major": 2,
       "version_minor": 0
      },
      "text/plain": [
       "  0%|          | 0/4000 [00:00<?, ?it/s]"
      ]
     },
     "metadata": {},
     "output_type": "display_data"
    },
    {
     "name": "stdout",
     "output_type": "stream",
     "text": [
      "Sampling time =  0:00:35.684133\n",
      "Transforming variables...\n",
      "Transformation time =  0:00:00.114068\n",
      "Computing Log Likelihood...\n",
      "Log Likelihood time =  0:00:00.657752\n"
     ]
    }
   ],
   "source": [
    "with pm.Model() as five_PL_jax:\n",
    "    \n",
    "    a = pm.Beta('a', 1, 20)\n",
    "    b = pm.Normal('b',10, 2.5)\n",
    "    c = pm.Normal('c',2.5, .5)\n",
    "    d = pm.Beta('d', 10, 10)\n",
    "    g = pm.Normal('g', 1, .2)\n",
    "    \n",
    "    eps = pm.Exponential('eps', 5)\n",
    "    y_hat = d + (a-d)/(1+(df['x'].values/c)**b)**g\n",
    "       \n",
    "    # Likelihood (sampling distribution) of observations\n",
    "    rating = pm.Normal('rating',y_hat, eps, observed=df['y'].values)\n",
    "    trace_5_jax = pm.sampling_jax.sample_numpyro_nuts(3000, target_accept=0.95)"
   ]
  },
  {
   "cell_type": "code",
   "execution_count": 94,
   "id": "37f84fe2",
   "metadata": {},
   "outputs": [
    {
     "data": {
      "text/html": [
       "<div>\n",
       "<style scoped>\n",
       "    .dataframe tbody tr th:only-of-type {\n",
       "        vertical-align: middle;\n",
       "    }\n",
       "\n",
       "    .dataframe tbody tr th {\n",
       "        vertical-align: top;\n",
       "    }\n",
       "\n",
       "    .dataframe thead th {\n",
       "        text-align: right;\n",
       "    }\n",
       "</style>\n",
       "<table border=\"1\" class=\"dataframe\">\n",
       "  <thead>\n",
       "    <tr style=\"text-align: right;\">\n",
       "      <th></th>\n",
       "      <th>rank</th>\n",
       "      <th>loo</th>\n",
       "      <th>p_loo</th>\n",
       "      <th>d_loo</th>\n",
       "      <th>weight</th>\n",
       "      <th>se</th>\n",
       "      <th>dse</th>\n",
       "      <th>warning</th>\n",
       "      <th>loo_scale</th>\n",
       "    </tr>\n",
       "  </thead>\n",
       "  <tbody>\n",
       "    <tr>\n",
       "      <th>5PL model</th>\n",
       "      <td>0</td>\n",
       "      <td>2324.004838</td>\n",
       "      <td>2.045623</td>\n",
       "      <td>0.000000</td>\n",
       "      <td>1.000000e+00</td>\n",
       "      <td>0.114639</td>\n",
       "      <td>0.000000</td>\n",
       "      <td>False</td>\n",
       "      <td>log</td>\n",
       "    </tr>\n",
       "    <tr>\n",
       "      <th>Linear model</th>\n",
       "      <td>1</td>\n",
       "      <td>1463.276511</td>\n",
       "      <td>9.787773</td>\n",
       "      <td>860.728327</td>\n",
       "      <td>3.214154e-09</td>\n",
       "      <td>0.115975</td>\n",
       "      <td>0.006916</td>\n",
       "      <td>False</td>\n",
       "      <td>log</td>\n",
       "    </tr>\n",
       "  </tbody>\n",
       "</table>\n",
       "</div>"
      ],
      "text/plain": [
       "              rank          loo     p_loo       d_loo        weight        se  \\\n",
       "5PL model        0  2324.004838  2.045623    0.000000  1.000000e+00  0.114639   \n",
       "Linear model     1  1463.276511  9.787773  860.728327  3.214154e-09  0.115975   \n",
       "\n",
       "                   dse  warning loo_scale  \n",
       "5PL model     0.000000    False       log  \n",
       "Linear model  0.006916    False       log  "
      ]
     },
     "execution_count": 94,
     "metadata": {},
     "output_type": "execute_result"
    }
   ],
   "source": [
    "comp = az.compare({'Linear model': trace_5_jax, '5PL model':trace_5}, ic='loo')\n",
    "comp"
   ]
  },
  {
   "cell_type": "code",
   "execution_count": 6,
   "id": "3cba1294",
   "metadata": {},
   "outputs": [
    {
     "data": {
      "text/html": [
       "<div>\n",
       "<style scoped>\n",
       "    .dataframe tbody tr th:only-of-type {\n",
       "        vertical-align: middle;\n",
       "    }\n",
       "\n",
       "    .dataframe tbody tr th {\n",
       "        vertical-align: top;\n",
       "    }\n",
       "\n",
       "    .dataframe thead th {\n",
       "        text-align: right;\n",
       "    }\n",
       "</style>\n",
       "<table border=\"1\" class=\"dataframe\">\n",
       "  <thead>\n",
       "    <tr style=\"text-align: right;\">\n",
       "      <th></th>\n",
       "      <th>rank</th>\n",
       "      <th>loo</th>\n",
       "      <th>p_loo</th>\n",
       "      <th>d_loo</th>\n",
       "      <th>weight</th>\n",
       "      <th>se</th>\n",
       "      <th>dse</th>\n",
       "      <th>warning</th>\n",
       "      <th>loo_scale</th>\n",
       "    </tr>\n",
       "  </thead>\n",
       "  <tbody>\n",
       "    <tr>\n",
       "      <th>5PL model</th>\n",
       "      <td>0</td>\n",
       "      <td>2315.567883</td>\n",
       "      <td>1.662177</td>\n",
       "      <td>0.000000</td>\n",
       "      <td>1.000000e+00</td>\n",
       "      <td>0.115259</td>\n",
       "      <td>0.000000</td>\n",
       "      <td>False</td>\n",
       "      <td>log</td>\n",
       "    </tr>\n",
       "    <tr>\n",
       "      <th>4PL model</th>\n",
       "      <td>1</td>\n",
       "      <td>526.809821</td>\n",
       "      <td>4.878148</td>\n",
       "      <td>1788.758062</td>\n",
       "      <td>3.797018e-12</td>\n",
       "      <td>4.989232</td>\n",
       "      <td>4.910190</td>\n",
       "      <td>False</td>\n",
       "      <td>log</td>\n",
       "    </tr>\n",
       "    <tr>\n",
       "      <th>Linear model</th>\n",
       "      <td>2</td>\n",
       "      <td>129.544327</td>\n",
       "      <td>2.158871</td>\n",
       "      <td>2186.023555</td>\n",
       "      <td>0.000000e+00</td>\n",
       "      <td>4.045422</td>\n",
       "      <td>4.026501</td>\n",
       "      <td>False</td>\n",
       "      <td>log</td>\n",
       "    </tr>\n",
       "  </tbody>\n",
       "</table>\n",
       "</div>"
      ],
      "text/plain": [
       "              rank          loo     p_loo        d_loo        weight  \\\n",
       "5PL model        0  2315.567883  1.662177     0.000000  1.000000e+00   \n",
       "4PL model        1   526.809821  4.878148  1788.758062  3.797018e-12   \n",
       "Linear model     2   129.544327  2.158871  2186.023555  0.000000e+00   \n",
       "\n",
       "                    se       dse  warning loo_scale  \n",
       "5PL model     0.115259  0.000000    False       log  \n",
       "4PL model     4.989232  4.910190    False       log  \n",
       "Linear model  4.045422  4.026501    False       log  "
      ]
     },
     "execution_count": 6,
     "metadata": {},
     "output_type": "execute_result"
    }
   ],
   "source": [
    "comp = az.compare({'Linear model': trace_l,'4PL model': trace_4, '5PL model':trace_5}, ic='loo')\n",
    "comp"
   ]
  },
  {
   "cell_type": "code",
   "execution_count": 7,
   "id": "426446de",
   "metadata": {},
   "outputs": [
    {
     "data": {
      "text/plain": [
       "<AxesSubplot:xlabel='Log'>"
      ]
     },
     "execution_count": 7,
     "metadata": {},
     "output_type": "execute_result"
    },
    {
     "data": {
      "image/png": "[encoded data removed]",
      "text/plain": [
       "<Figure size 432x216 with 1 Axes>"
      ]
     },
     "metadata": {
      "needs_background": "light"
     },
     "output_type": "display_data"
    }
   ],
   "source": [
    "az.plot_compare(comp)"
   ]
  },
  {
   "cell_type": "code",
   "execution_count": 8,
   "id": "1d7c9818",
   "metadata": {},
   "outputs": [],
   "source": [
    "al = az.summary(trace_l, var_names=['a'])[['mean']]\n",
    "bl = az.summary(trace_l, var_names=['b'])[['mean']]\n",
    "\n",
    "df_l = pd.DataFrame({'a': al['mean'][0],     \n",
    "                     'b': bl['mean'][0],    \n",
    "                     'x': x})\n",
    "\n",
    "df_l['y'] = df_l.a + df_l.b * df_l.x"
   ]
  },
  {
   "cell_type": "code",
   "execution_count": 9,
   "id": "234e5dd0",
   "metadata": {},
   "outputs": [],
   "source": [
    "a4 = az.summary(trace_4, var_names=['a'])[['mean']]\n",
    "b4 = az.summary(trace_4, var_names=['b'])[['mean']]\n",
    "c4 = az.summary(trace_4, var_names=['c'])[['mean']]\n",
    "d4 = az.summary(trace_4, var_names=['d'])[['mean']]\n",
    "\n",
    "df_4 = pd.DataFrame({'a': a4['mean'][0],     \n",
    "                     'b': b4['mean'][0],    \n",
    "                     'c': c4['mean'][0],\n",
    "                     'd': d4['mean'][0],\n",
    "                     'x': x})\n",
    "\n",
    "df_4['y'] = df_4.d + (df_4.a-df_4.d)/(1+(df_4.x/df_4.c)**df_4.b)"
   ]
  },
  {
   "cell_type": "code",
   "execution_count": 10,
   "id": "a8ab4a45",
   "metadata": {},
   "outputs": [],
   "source": [
    "a5 = az.summary(trace_5, var_names=['a'])[['mean']]\n",
    "b5 = az.summary(trace_5, var_names=['b'])[['mean']]\n",
    "c5 = az.summary(trace_5, var_names=['c'])[['mean']]\n",
    "d5 = az.summary(trace_5, var_names=['d'])[['mean']]\n",
    "g5 = az.summary(trace_5, var_names=['g'])[['mean']]\n",
    "\n",
    "df_5 = pd.DataFrame({'a': a5['mean'][0],     \n",
    "                     'b': b5['mean'][0],    \n",
    "                     'c': c5['mean'][0],\n",
    "                     'd': d5['mean'][0],\n",
    "                     'g': g5['mean'][0],\n",
    "                     'x': x})\n",
    "\n",
    "df_5['y'] = df_5.d + (df_5.a-df_5.d)/(1+(df_5.x/df_5.c)**df_5.b)**df_5.g"
   ]
  },
  {
   "cell_type": "code",
   "execution_count": 11,
   "id": "b157bbe2",
   "metadata": {},
   "outputs": [
    {
     "data": {
      "text/plain": [
       "<AxesSubplot:xlabel='x', ylabel='y'>"
      ]
     },
     "execution_count": 11,
     "metadata": {},
     "output_type": "execute_result"
    },
    {
     "data": {
      "image/png": "[encoded data removed]",
      "text/plain": [
       "<Figure size 432x288 with 1 Axes>"
      ]
     },
     "metadata": {
      "needs_background": "light"
     },
     "output_type": "display_data"
    }
   ],
   "source": [
    "sns.lineplot(x='x',y='y',data=df, color = 'blue')\n",
    "sns.lineplot(x='x',y='y',data=df_l, color = 'orange')\n",
    "sns.lineplot(x='x',y='y',data=df_4, color = 'green')\n",
    "sns.lineplot(x='x',y='y',data=df_5, color = 'black')"
   ]
  },
  {
   "cell_type": "markdown",
   "id": "591257d5",
   "metadata": {},
   "source": [
    "No noise all models work great\n",
    "if we add small noise?"
   ]
  },
  {
   "cell_type": "code",
   "execution_count": 12,
   "id": "b8ecd93c",
   "metadata": {},
   "outputs": [
    {
     "data": {
      "text/plain": [
       "<AxesSubplot:xlabel='x', ylabel='y_05'>"
      ]
     },
     "execution_count": 12,
     "metadata": {},
     "output_type": "execute_result"
    },
    {
     "data": {
      "image/png": "[encoded data removed]",
      "text/plain": [
       "<Figure size 432x288 with 1 Axes>"
      ]
     },
     "metadata": {
      "needs_background": "light"
     },
     "output_type": "display_data"
    }
   ],
   "source": [
    "df['y_05'] = df.d + (df.a-df.d)/(1+(df.x/df.c)**df.b)**df.g + np.random.normal(0, .05, trials)\n",
    "\n",
    "sns.lineplot(x='x',y='y_05',data=df)"
   ]
  },
  {
   "cell_type": "code",
   "execution_count": 13,
   "id": "02da7b78",
   "metadata": {},
   "outputs": [
    {
     "name": "stderr",
     "output_type": "stream",
     "text": [
      "Auto-assigning NUTS sampler...\n",
      "Initializing NUTS using jitter+adapt_diag...\n",
      "Multiprocess sampling (4 chains in 4 jobs)\n",
      "NUTS: [a, b, c, d, g, eps]\n"
     ]
    },
    {
     "data": {
      "text/html": [
       "\n",
       "<style>\n",
       "    /* Turns off some styling */\n",
       "    progress {\n",
       "        /* gets rid of default border in Firefox and Opera. */\n",
       "        border: none;\n",
       "        /* Needs to be in here for Safari polyfill so background images work as expected. */\n",
       "        background-size: auto;\n",
       "    }\n",
       "    progress:not([value]), progress:not([value])::-webkit-progress-bar {\n",
       "        background: repeating-linear-gradient(45deg, #7e7e7e, #7e7e7e 10px, #5c5c5c 10px, #5c5c5c 20px);\n",
       "    }\n",
       "    .progress-bar-interrupted, .progress-bar-interrupted::-webkit-progress-bar {\n",
       "        background: #F44336;\n",
       "    }\n",
       "</style>\n"
      ],
      "text/plain": [
       "<IPython.core.display.HTML object>"
      ]
     },
     "metadata": {},
     "output_type": "display_data"
    },
    {
     "data": {
      "text/html": [
       "\n",
       "    <div>\n",
       "      <progress value='16000' class='' max='16000' style='width:300px; height:20px; vertical-align: middle;'></progress>\n",
       "      100.00% [16000/16000 00:24&lt;00:00 Sampling 4 chains, 0 divergences]\n",
       "    </div>\n",
       "    "
      ],
      "text/plain": [
       "<IPython.core.display.HTML object>"
      ]
     },
     "metadata": {},
     "output_type": "display_data"
    },
    {
     "name": "stderr",
     "output_type": "stream",
     "text": [
      "Sampling 4 chains for 1_000 tune and 3_000 draw iterations (4_000 + 12_000 draws total) took 24 seconds.\n"
     ]
    }
   ],
   "source": [
    "with pm.Model() as five_PL:\n",
    "        \n",
    "    \n",
    "    a = pm.Beta('a', 1, 20)\n",
    "    b = pm.Normal('b',10, 2.5)\n",
    "    c = pm.Normal('c',2.5, .5)\n",
    "    d = pm.Beta('d', 10, 10)\n",
    "    g = pm.Normal('g', 1, .2)\n",
    "    \n",
    "    eps = pm.Exponential('eps', 5)\n",
    "    y_hat = d + (a-d)/(1+(df['x'].values/c)**b)**g\n",
    "       \n",
    "    # Likelihood (sampling distribution) of observations\n",
    "    rating = pm.Normal('rating',y_hat, eps, observed=df['y_05'].values)\n",
    "    \n",
    "    trace_5_n = pm.sample(3000, return_inferencedata=True, target_accept=0.95)"
   ]
  },
  {
   "cell_type": "code",
   "execution_count": 14,
   "id": "5208b308",
   "metadata": {},
   "outputs": [],
   "source": [
    "a5 = az.summary(trace_5_n, var_names=['a'])[['mean']]\n",
    "b5 = az.summary(trace_5_n, var_names=['b'])[['mean']]\n",
    "c5 = az.summary(trace_5_n, var_names=['c'])[['mean']]\n",
    "d5 = az.summary(trace_5_n, var_names=['d'])[['mean']]\n",
    "g5 = az.summary(trace_5_n, var_names=['g'])[['mean']]\n",
    "\n",
    "df_5_n = pd.DataFrame({'a': a5['mean'][0],     \n",
    "                       'b': b5['mean'][0],    \n",
    "                       'c': c5['mean'][0],\n",
    "                       'd': d5['mean'][0],\n",
    "                       'g': g5['mean'][0],\n",
    "                       'x': x})\n",
    "\n",
    "df_5_n['y'] = df_5_n.d + (df_5_n.a-df_5_n.d)/(1+(df_5_n.x/df_5_n.c)**df_5_n.b)**df_5_n.g"
   ]
  },
  {
   "cell_type": "code",
   "execution_count": 15,
   "id": "0e48ae71",
   "metadata": {},
   "outputs": [
    {
     "data": {
      "text/plain": [
       "<AxesSubplot:xlabel='x', ylabel='y_05'>"
      ]
     },
     "execution_count": 15,
     "metadata": {},
     "output_type": "execute_result"
    },
    {
     "data": {
      "image/png": "[encoded data removed]",
      "text/plain": [
       "<Figure size 432x288 with 1 Axes>"
      ]
     },
     "metadata": {
      "needs_background": "light"
     },
     "output_type": "display_data"
    }
   ],
   "source": [
    "sns.lineplot(x='x',y='y_05',data=df)\n",
    "sns.lineplot(x='x',y='y',data=df_5_n)"
   ]
  },
  {
   "cell_type": "code",
   "execution_count": 16,
   "id": "7066ab3a",
   "metadata": {},
   "outputs": [
    {
     "data": {
      "text/plain": [
       "<AxesSubplot:xlabel='x', ylabel='y_1'>"
      ]
     },
     "execution_count": 16,
     "metadata": {},
     "output_type": "execute_result"
    },
    {
     "data": {
      "image/png": "[encoded data removed]",
      "text/plain": [
       "<Figure size 432x288 with 1 Axes>"
      ]
     },
     "metadata": {
      "needs_background": "light"
     },
     "output_type": "display_data"
    }
   ],
   "source": [
    "df['y_1'] = df.d + (df.a-df.d)/(1+(df.x/df.c)**df.b)**df.g + np.random.normal(0, .1, trials)\n",
    "\n",
    "sns.lineplot(x='x',y='y_1',data=df)"
   ]
  },
  {
   "cell_type": "code",
   "execution_count": 17,
   "id": "7c1143e9",
   "metadata": {},
   "outputs": [
    {
     "name": "stderr",
     "output_type": "stream",
     "text": [
      "Auto-assigning NUTS sampler...\n",
      "Initializing NUTS using jitter+adapt_diag...\n",
      "Multiprocess sampling (4 chains in 4 jobs)\n",
      "NUTS: [a, b, c, d, g, eps]\n"
     ]
    },
    {
     "data": {
      "text/html": [
       "\n",
       "<style>\n",
       "    /* Turns off some styling */\n",
       "    progress {\n",
       "        /* gets rid of default border in Firefox and Opera. */\n",
       "        border: none;\n",
       "        /* Needs to be in here for Safari polyfill so background images work as expected. */\n",
       "        background-size: auto;\n",
       "    }\n",
       "    progress:not([value]), progress:not([value])::-webkit-progress-bar {\n",
       "        background: repeating-linear-gradient(45deg, #7e7e7e, #7e7e7e 10px, #5c5c5c 10px, #5c5c5c 20px);\n",
       "    }\n",
       "    .progress-bar-interrupted, .progress-bar-interrupted::-webkit-progress-bar {\n",
       "        background: #F44336;\n",
       "    }\n",
       "</style>\n"
      ],
      "text/plain": [
       "<IPython.core.display.HTML object>"
      ]
     },
     "metadata": {},
     "output_type": "display_data"
    },
    {
     "data": {
      "text/html": [
       "\n",
       "    <div>\n",
       "      <progress value='16000' class='' max='16000' style='width:300px; height:20px; vertical-align: middle;'></progress>\n",
       "      100.00% [16000/16000 00:19&lt;00:00 Sampling 4 chains, 0 divergences]\n",
       "    </div>\n",
       "    "
      ],
      "text/plain": [
       "<IPython.core.display.HTML object>"
      ]
     },
     "metadata": {},
     "output_type": "display_data"
    },
    {
     "name": "stderr",
     "output_type": "stream",
     "text": [
      "Sampling 4 chains for 1_000 tune and 3_000 draw iterations (4_000 + 12_000 draws total) took 20 seconds.\n"
     ]
    }
   ],
   "source": [
    "with pm.Model() as five_PL:\n",
    "        \n",
    "    \n",
    "    a = pm.Beta('a', 1, 20)\n",
    "    b = pm.Normal('b',10, 2.5)\n",
    "    c = pm.Normal('c',2.5, .5)\n",
    "    d = pm.Beta('d', 10, 10)\n",
    "    g = pm.Normal('g', 1, .2)\n",
    "    \n",
    "    eps = pm.Exponential('eps', 5)\n",
    "    y_hat = d + (a-d)/(1+(df['x'].values/c)**b)**g\n",
    "       \n",
    "    # Likelihood (sampling distribution) of observations\n",
    "    rating = pm.Normal('rating',y_hat, eps, observed=df['y_1'].values)\n",
    "    \n",
    "    trace_5_n = pm.sample(3000, return_inferencedata=True, target_accept=0.95)"
   ]
  },
  {
   "cell_type": "code",
   "execution_count": 18,
   "id": "82613672",
   "metadata": {},
   "outputs": [],
   "source": [
    "a5 = az.summary(trace_5_n, var_names=['a'])[['mean']]\n",
    "b5 = az.summary(trace_5_n, var_names=['b'])[['mean']]\n",
    "c5 = az.summary(trace_5_n, var_names=['c'])[['mean']]\n",
    "d5 = az.summary(trace_5_n, var_names=['d'])[['mean']]\n",
    "g5 = az.summary(trace_5_n, var_names=['g'])[['mean']]\n",
    "\n",
    "df_5_n = pd.DataFrame({'a': a5['mean'][0],     \n",
    "                       'b': b5['mean'][0],    \n",
    "                       'c': c5['mean'][0],\n",
    "                       'd': d5['mean'][0],\n",
    "                       'g': g5['mean'][0],\n",
    "                       'x': x})\n",
    "\n",
    "df_5_n['y'] = df_5_n.d + (df_5_n.a-df_5_n.d)/(1+(df_5_n.x/df_5_n.c)**df_5_n.b)**df_5_n.g"
   ]
  },
  {
   "cell_type": "code",
   "execution_count": 19,
   "id": "164bac5f",
   "metadata": {},
   "outputs": [
    {
     "data": {
      "text/plain": [
       "<AxesSubplot:xlabel='x', ylabel='y_1'>"
      ]
     },
     "execution_count": 19,
     "metadata": {},
     "output_type": "execute_result"
    },
    {
     "data": {
      "image/png": "[encoded data removed]",
      "text/plain": [
       "<Figure size 432x288 with 1 Axes>"
      ]
     },
     "metadata": {
      "needs_background": "light"
     },
     "output_type": "display_data"
    }
   ],
   "source": [
    "sns.lineplot(x='x',y='y_1',data=df)\n",
    "sns.lineplot(x='x',y='y',data=df_5_n)"
   ]
  },
  {
   "cell_type": "code",
   "execution_count": 20,
   "id": "b41a35d9",
   "metadata": {},
   "outputs": [
    {
     "data": {
      "text/plain": [
       "<AxesSubplot:xlabel='x', ylabel='y_2'>"
      ]
     },
     "execution_count": 20,
     "metadata": {},
     "output_type": "execute_result"
    },
    {
     "data": {
      "image/png": "[encoded data removed]",
      "text/plain": [
       "<Figure size 432x288 with 1 Axes>"
      ]
     },
     "metadata": {
      "needs_background": "light"
     },
     "output_type": "display_data"
    }
   ],
   "source": [
    "# Even more noise\n",
    "df['y_2'] = df.d + (df.a-df.d)/(1+(df.x/df.c)**df.b)**df.g + np.random.normal(0, .2, trials)\n",
    "\n",
    "sns.lineplot(x='x',y='y_2',data=df)"
   ]
  },
  {
   "cell_type": "code",
   "execution_count": 22,
   "id": "e2f9e7b3",
   "metadata": {},
   "outputs": [
    {
     "name": "stderr",
     "output_type": "stream",
     "text": [
      "Auto-assigning NUTS sampler...\n",
      "Initializing NUTS using jitter+adapt_diag...\n",
      "Multiprocess sampling (4 chains in 4 jobs)\n",
      "NUTS: [a, b, c, d, g, eps]\n"
     ]
    },
    {
     "data": {
      "text/html": [
       "\n",
       "<style>\n",
       "    /* Turns off some styling */\n",
       "    progress {\n",
       "        /* gets rid of default border in Firefox and Opera. */\n",
       "        border: none;\n",
       "        /* Needs to be in here for Safari polyfill so background images work as expected. */\n",
       "        background-size: auto;\n",
       "    }\n",
       "    progress:not([value]), progress:not([value])::-webkit-progress-bar {\n",
       "        background: repeating-linear-gradient(45deg, #7e7e7e, #7e7e7e 10px, #5c5c5c 10px, #5c5c5c 20px);\n",
       "    }\n",
       "    .progress-bar-interrupted, .progress-bar-interrupted::-webkit-progress-bar {\n",
       "        background: #F44336;\n",
       "    }\n",
       "</style>\n"
      ],
      "text/plain": [
       "<IPython.core.display.HTML object>"
      ]
     },
     "metadata": {},
     "output_type": "display_data"
    },
    {
     "data": {
      "text/html": [
       "\n",
       "    <div>\n",
       "      <progress value='16000' class='' max='16000' style='width:300px; height:20px; vertical-align: middle;'></progress>\n",
       "      100.00% [16000/16000 00:15&lt;00:00 Sampling 4 chains, 0 divergences]\n",
       "    </div>\n",
       "    "
      ],
      "text/plain": [
       "<IPython.core.display.HTML object>"
      ]
     },
     "metadata": {},
     "output_type": "display_data"
    },
    {
     "name": "stderr",
     "output_type": "stream",
     "text": [
      "Sampling 4 chains for 1_000 tune and 3_000 draw iterations (4_000 + 12_000 draws total) took 16 seconds.\n"
     ]
    }
   ],
   "source": [
    "with pm.Model() as five_PL:\n",
    "        \n",
    "    \n",
    "    a = pm.Beta('a', 1, 20)\n",
    "    b = pm.Normal('b',10, 2.5)\n",
    "    c = pm.Normal('c',2.5, .5)\n",
    "    d = pm.Beta('d', 10, 10)\n",
    "    g = pm.Normal('g', 1, .2)\n",
    "    \n",
    "    eps = pm.Exponential('eps', 5)\n",
    "    y_hat = d + (a-d)/(1+(df['x'].values/c)**b)**g\n",
    "       \n",
    "    # Likelihood (sampling distribution) of observations\n",
    "    rating = pm.Normal('rating',y_hat, eps, observed=df['y_2'].values)\n",
    "    \n",
    "    trace_5_n = pm.sample(3000, return_inferencedata=True, target_accept=0.95)"
   ]
  },
  {
   "cell_type": "code",
   "execution_count": 23,
   "id": "189b1bfa",
   "metadata": {},
   "outputs": [],
   "source": [
    "a5 = az.summary(trace_5_n, var_names=['a'])[['mean']]\n",
    "b5 = az.summary(trace_5_n, var_names=['b'])[['mean']]\n",
    "c5 = az.summary(trace_5_n, var_names=['c'])[['mean']]\n",
    "d5 = az.summary(trace_5_n, var_names=['d'])[['mean']]\n",
    "g5 = az.summary(trace_5_n, var_names=['g'])[['mean']]\n",
    "\n",
    "df_5_n = pd.DataFrame({'a': a5['mean'][0],     \n",
    "                       'b': b5['mean'][0],    \n",
    "                       'c': c5['mean'][0],\n",
    "                       'd': d5['mean'][0],\n",
    "                       'g': g5['mean'][0],\n",
    "                       'x': x})\n",
    "\n",
    "df_5_n['y'] = df_5_n.d + (df_5_n.a-df_5_n.d)/(1+(df_5_n.x/df_5_n.c)**df_5_n.b)**df_5_n.g"
   ]
  },
  {
   "cell_type": "code",
   "execution_count": 24,
   "id": "bdc69cdd",
   "metadata": {},
   "outputs": [
    {
     "data": {
      "text/plain": [
       "<AxesSubplot:xlabel='x', ylabel='y_2'>"
      ]
     },
     "execution_count": 24,
     "metadata": {},
     "output_type": "execute_result"
    },
    {
     "data": {
      "image/png": "[encoded data removed]",
      "text/plain": [
       "<Figure size 432x288 with 1 Axes>"
      ]
     },
     "metadata": {
      "needs_background": "light"
     },
     "output_type": "display_data"
    }
   ],
   "source": [
    "sns.lineplot(x='x',y='y_2',data=df)\n",
    "sns.lineplot(x='x',y='y',data=df_5_n)"
   ]
  },
  {
   "cell_type": "markdown",
   "id": "0042c510",
   "metadata": {},
   "source": [
    "Can I fit a 5PL model to linear data?"
   ]
  },
  {
   "cell_type": "code",
   "execution_count": 25,
   "id": "9daf1cf2",
   "metadata": {},
   "outputs": [
    {
     "data": {
      "text/plain": [
       "<AxesSubplot:>"
      ]
     },
     "execution_count": 25,
     "metadata": {},
     "output_type": "execute_result"
    },
    {
     "data": {
      "image/png": "[encoded data removed]",
      "text/plain": [
       "<Figure size 432x288 with 1 Axes>"
      ]
     },
     "metadata": {
      "needs_background": "light"
     },
     "output_type": "display_data"
    }
   ],
   "source": [
    "y = x/8\n",
    "sns.lineplot(x=x,y=y)"
   ]
  },
  {
   "cell_type": "code",
   "execution_count": 26,
   "id": "dc5e91dc",
   "metadata": {},
   "outputs": [
    {
     "name": "stderr",
     "output_type": "stream",
     "text": [
      "Auto-assigning NUTS sampler...\n",
      "Initializing NUTS using jitter+adapt_diag...\n",
      "Multiprocess sampling (4 chains in 4 jobs)\n",
      "NUTS: [a, b, c, d, g, eps]\n"
     ]
    },
    {
     "data": {
      "text/html": [
       "\n",
       "<style>\n",
       "    /* Turns off some styling */\n",
       "    progress {\n",
       "        /* gets rid of default border in Firefox and Opera. */\n",
       "        border: none;\n",
       "        /* Needs to be in here for Safari polyfill so background images work as expected. */\n",
       "        background-size: auto;\n",
       "    }\n",
       "    progress:not([value]), progress:not([value])::-webkit-progress-bar {\n",
       "        background: repeating-linear-gradient(45deg, #7e7e7e, #7e7e7e 10px, #5c5c5c 10px, #5c5c5c 20px);\n",
       "    }\n",
       "    .progress-bar-interrupted, .progress-bar-interrupted::-webkit-progress-bar {\n",
       "        background: #F44336;\n",
       "    }\n",
       "</style>\n"
      ],
      "text/plain": [
       "<IPython.core.display.HTML object>"
      ]
     },
     "metadata": {},
     "output_type": "display_data"
    },
    {
     "data": {
      "text/html": [
       "\n",
       "    <div>\n",
       "      <progress value='16000' class='' max='16000' style='width:300px; height:20px; vertical-align: middle;'></progress>\n",
       "      100.00% [16000/16000 03:08&lt;00:00 Sampling 4 chains, 0 divergences]\n",
       "    </div>\n",
       "    "
      ],
      "text/plain": [
       "<IPython.core.display.HTML object>"
      ]
     },
     "metadata": {},
     "output_type": "display_data"
    },
    {
     "name": "stderr",
     "output_type": "stream",
     "text": [
      "Sampling 4 chains for 1_000 tune and 3_000 draw iterations (4_000 + 12_000 draws total) took 189 seconds.\n"
     ]
    }
   ],
   "source": [
    "with pm.Model() as five_PL:\n",
    "        \n",
    "    \n",
    "    a = pm.Beta('a', 1, 20)\n",
    "    b = pm.Normal('b',10, 2.5)\n",
    "    c = pm.Normal('c',2.5, .5)\n",
    "    d = pm.Beta('d', 10, 10)\n",
    "    g = pm.Normal('g', 1, .2)\n",
    "    \n",
    "    eps = pm.Exponential('eps', 5)\n",
    "    y_hat = d + (a-d)/(1+(x/c)**b)**g\n",
    "       \n",
    "    # Likelihood (sampling distribution) of observations\n",
    "    rating = pm.Normal('rating',y_hat, eps, observed=y)\n",
    "    \n",
    "    trace_5_lin = pm.sample(3000, return_inferencedata=True, target_accept=0.95)"
   ]
  },
  {
   "cell_type": "code",
   "execution_count": 27,
   "id": "0c7b1691",
   "metadata": {},
   "outputs": [],
   "source": [
    "a5 = az.summary(trace_5_lin, var_names=['a'])[['mean']]\n",
    "b5 = az.summary(trace_5_lin, var_names=['b'])[['mean']]\n",
    "c5 = az.summary(trace_5_lin, var_names=['c'])[['mean']]\n",
    "d5 = az.summary(trace_5_lin, var_names=['d'])[['mean']]\n",
    "g5 = az.summary(trace_5_lin, var_names=['g'])[['mean']]\n",
    "\n",
    "df_5_lin = pd.DataFrame({'a': a5['mean'][0],     \n",
    "                       'b': b5['mean'][0],    \n",
    "                       'c': c5['mean'][0],\n",
    "                       'd': d5['mean'][0],\n",
    "                       'g': g5['mean'][0],\n",
    "                       'x': x})\n",
    "\n",
    "df_5_lin['y'] = df_5_lin.d + (df_5_lin.a-df_5_lin.d)/(1+(df_5_lin.x/df_5_lin.c)**df_5_lin.b)**df_5_lin.g"
   ]
  },
  {
   "cell_type": "code",
   "execution_count": 28,
   "id": "563922a3",
   "metadata": {},
   "outputs": [
    {
     "data": {
      "text/html": [
       "<div>\n",
       "<style scoped>\n",
       "    .dataframe tbody tr th:only-of-type {\n",
       "        vertical-align: middle;\n",
       "    }\n",
       "\n",
       "    .dataframe tbody tr th {\n",
       "        vertical-align: top;\n",
       "    }\n",
       "\n",
       "    .dataframe thead th {\n",
       "        text-align: right;\n",
       "    }\n",
       "</style>\n",
       "<table border=\"1\" class=\"dataframe\">\n",
       "  <thead>\n",
       "    <tr style=\"text-align: right;\">\n",
       "      <th></th>\n",
       "      <th>a</th>\n",
       "      <th>b</th>\n",
       "      <th>c</th>\n",
       "      <th>d</th>\n",
       "      <th>g</th>\n",
       "      <th>x</th>\n",
       "      <th>y</th>\n",
       "    </tr>\n",
       "  </thead>\n",
       "  <tbody>\n",
       "    <tr>\n",
       "      <th>0</th>\n",
       "      <td>0.022</td>\n",
       "      <td>1.539</td>\n",
       "      <td>4.524</td>\n",
       "      <td>0.913</td>\n",
       "      <td>1.208</td>\n",
       "      <td>0.00</td>\n",
       "      <td>0.022000</td>\n",
       "    </tr>\n",
       "    <tr>\n",
       "      <th>1</th>\n",
       "      <td>0.022</td>\n",
       "      <td>1.539</td>\n",
       "      <td>4.524</td>\n",
       "      <td>0.913</td>\n",
       "      <td>1.208</td>\n",
       "      <td>0.04</td>\n",
       "      <td>0.022744</td>\n",
       "    </tr>\n",
       "    <tr>\n",
       "      <th>2</th>\n",
       "      <td>0.022</td>\n",
       "      <td>1.539</td>\n",
       "      <td>4.524</td>\n",
       "      <td>0.913</td>\n",
       "      <td>1.208</td>\n",
       "      <td>0.08</td>\n",
       "      <td>0.024158</td>\n",
       "    </tr>\n",
       "    <tr>\n",
       "      <th>3</th>\n",
       "      <td>0.022</td>\n",
       "      <td>1.539</td>\n",
       "      <td>4.524</td>\n",
       "      <td>0.913</td>\n",
       "      <td>1.208</td>\n",
       "      <td>0.12</td>\n",
       "      <td>0.026019</td>\n",
       "    </tr>\n",
       "    <tr>\n",
       "      <th>4</th>\n",
       "      <td>0.022</td>\n",
       "      <td>1.539</td>\n",
       "      <td>4.524</td>\n",
       "      <td>0.913</td>\n",
       "      <td>1.208</td>\n",
       "      <td>0.16</td>\n",
       "      <td>0.028244</td>\n",
       "    </tr>\n",
       "  </tbody>\n",
       "</table>\n",
       "</div>"
      ],
      "text/plain": [
       "       a      b      c      d      g     x         y\n",
       "0  0.022  1.539  4.524  0.913  1.208  0.00  0.022000\n",
       "1  0.022  1.539  4.524  0.913  1.208  0.04  0.022744\n",
       "2  0.022  1.539  4.524  0.913  1.208  0.08  0.024158\n",
       "3  0.022  1.539  4.524  0.913  1.208  0.12  0.026019\n",
       "4  0.022  1.539  4.524  0.913  1.208  0.16  0.028244"
      ]
     },
     "execution_count": 28,
     "metadata": {},
     "output_type": "execute_result"
    }
   ],
   "source": [
    "df_5_lin.head(5)"
   ]
  },
  {
   "cell_type": "code",
   "execution_count": 29,
   "id": "3208d7d5",
   "metadata": {},
   "outputs": [
    {
     "data": {
      "text/plain": [
       "<AxesSubplot:xlabel='x', ylabel='y'>"
      ]
     },
     "execution_count": 29,
     "metadata": {},
     "output_type": "execute_result"
    },
    {
     "data": {
      "image/png": "[encoded data removed]",
      "text/plain": [
       "<Figure size 432x288 with 1 Axes>"
      ]
     },
     "metadata": {
      "needs_background": "light"
     },
     "output_type": "display_data"
    }
   ],
   "source": [
    "sns.lineplot(x=x,y=y)\n",
    "sns.lineplot(x='x',y='y',data=df_5_lin)"
   ]
  },
  {
   "cell_type": "code",
   "execution_count": 30,
   "id": "894bea91",
   "metadata": {},
   "outputs": [
    {
     "data": {
      "text/plain": [
       "<AxesSubplot:>"
      ]
     },
     "execution_count": 30,
     "metadata": {},
     "output_type": "execute_result"
    },
    {
     "data": {
      "image/png": "[encoded data removed]",
      "text/plain": [
       "<Figure size 432x288 with 1 Axes>"
      ]
     },
     "metadata": {
      "needs_background": "light"
     },
     "output_type": "display_data"
    }
   ],
   "source": [
    "y = x/8 + np.random.normal(0, .1, trials)\n",
    "\n",
    "sns.lineplot(x=x,y=y)"
   ]
  },
  {
   "cell_type": "code",
   "execution_count": 31,
   "id": "3c862b77",
   "metadata": {},
   "outputs": [
    {
     "name": "stderr",
     "output_type": "stream",
     "text": [
      "Auto-assigning NUTS sampler...\n",
      "Initializing NUTS using jitter+adapt_diag...\n",
      "Multiprocess sampling (4 chains in 4 jobs)\n",
      "NUTS: [a, b, c, d, g, eps]\n"
     ]
    },
    {
     "data": {
      "text/html": [
       "\n",
       "<style>\n",
       "    /* Turns off some styling */\n",
       "    progress {\n",
       "        /* gets rid of default border in Firefox and Opera. */\n",
       "        border: none;\n",
       "        /* Needs to be in here for Safari polyfill so background images work as expected. */\n",
       "        background-size: auto;\n",
       "    }\n",
       "    progress:not([value]), progress:not([value])::-webkit-progress-bar {\n",
       "        background: repeating-linear-gradient(45deg, #7e7e7e, #7e7e7e 10px, #5c5c5c 10px, #5c5c5c 20px);\n",
       "    }\n",
       "    .progress-bar-interrupted, .progress-bar-interrupted::-webkit-progress-bar {\n",
       "        background: #F44336;\n",
       "    }\n",
       "</style>\n"
      ],
      "text/plain": [
       "<IPython.core.display.HTML object>"
      ]
     },
     "metadata": {},
     "output_type": "display_data"
    },
    {
     "data": {
      "text/html": [
       "\n",
       "    <div>\n",
       "      <progress value='16000' class='' max='16000' style='width:300px; height:20px; vertical-align: middle;'></progress>\n",
       "      100.00% [16000/16000 00:38&lt;00:00 Sampling 4 chains, 4 divergences]\n",
       "    </div>\n",
       "    "
      ],
      "text/plain": [
       "<IPython.core.display.HTML object>"
      ]
     },
     "metadata": {},
     "output_type": "display_data"
    },
    {
     "name": "stderr",
     "output_type": "stream",
     "text": [
      "Sampling 4 chains for 1_000 tune and 3_000 draw iterations (4_000 + 12_000 draws total) took 39 seconds.\n",
      "There was 1 divergence after tuning. Increase `target_accept` or reparameterize.\n",
      "There were 2 divergences after tuning. Increase `target_accept` or reparameterize.\n",
      "There was 1 divergence after tuning. Increase `target_accept` or reparameterize.\n"
     ]
    }
   ],
   "source": [
    "with pm.Model() as five_PL:\n",
    "        \n",
    "    \n",
    "    a = pm.Beta('a', 1, 20)\n",
    "    b = pm.Normal('b',10, 2.5)\n",
    "    c = pm.Normal('c',2.5, .5)\n",
    "    d = pm.Beta('d', 10, 10)\n",
    "    g = pm.Normal('g', 1, .2)\n",
    "    \n",
    "    eps = pm.Exponential('eps', 5)\n",
    "    y_hat = d + (a-d)/(1+(x/c)**b)**g\n",
    "       \n",
    "    # Likelihood (sampling distribution) of observations\n",
    "    rating = pm.Normal('rating',y_hat, eps, observed=y)\n",
    "    \n",
    "    trace_5_lin_n = pm.sample(3000, return_inferencedata=True, target_accept=0.95)"
   ]
  },
  {
   "cell_type": "code",
   "execution_count": 32,
   "id": "2e61b2d3",
   "metadata": {},
   "outputs": [
    {
     "name": "stderr",
     "output_type": "stream",
     "text": [
      "Auto-assigning NUTS sampler...\n",
      "Initializing NUTS using jitter+adapt_diag...\n",
      "Multiprocess sampling (4 chains in 4 jobs)\n",
      "NUTS: [a, b, eps]\n"
     ]
    },
    {
     "data": {
      "text/html": [
       "\n",
       "<style>\n",
       "    /* Turns off some styling */\n",
       "    progress {\n",
       "        /* gets rid of default border in Firefox and Opera. */\n",
       "        border: none;\n",
       "        /* Needs to be in here for Safari polyfill so background images work as expected. */\n",
       "        background-size: auto;\n",
       "    }\n",
       "    progress:not([value]), progress:not([value])::-webkit-progress-bar {\n",
       "        background: repeating-linear-gradient(45deg, #7e7e7e, #7e7e7e 10px, #5c5c5c 10px, #5c5c5c 20px);\n",
       "    }\n",
       "    .progress-bar-interrupted, .progress-bar-interrupted::-webkit-progress-bar {\n",
       "        background: #F44336;\n",
       "    }\n",
       "</style>\n"
      ],
      "text/plain": [
       "<IPython.core.display.HTML object>"
      ]
     },
     "metadata": {},
     "output_type": "display_data"
    },
    {
     "data": {
      "text/html": [
       "\n",
       "    <div>\n",
       "      <progress value='12000' class='' max='12000' style='width:300px; height:20px; vertical-align: middle;'></progress>\n",
       "      100.00% [12000/12000 00:07&lt;00:00 Sampling 4 chains, 0 divergences]\n",
       "    </div>\n",
       "    "
      ],
      "text/plain": [
       "<IPython.core.display.HTML object>"
      ]
     },
     "metadata": {},
     "output_type": "display_data"
    },
    {
     "name": "stderr",
     "output_type": "stream",
     "text": [
      "Sampling 4 chains for 1_000 tune and 2_000 draw iterations (4_000 + 8_000 draws total) took 7 seconds.\n"
     ]
    }
   ],
   "source": [
    "with pm.Model() as linear:\n",
    "    a = pm.Normal('a', 0, 5)\n",
    "    b = pm.Normal('b', 1, 1)\n",
    "    \n",
    "    eps = pm.Exponential('eps', 5)\n",
    "    y_hat = a + b * x\n",
    "       \n",
    "    # Likelihood (sampling distribution) of observations\n",
    "    rating = pm.Normal('rating',y_hat, eps, observed=y)\n",
    "    trace_l_n = pm.sample(2000, return_inferencedata=True, target_accept=0.9)"
   ]
  },
  {
   "cell_type": "code",
   "execution_count": 33,
   "id": "2daeb2ab",
   "metadata": {},
   "outputs": [
    {
     "data": {
      "text/html": [
       "<div>\n",
       "<style scoped>\n",
       "    .dataframe tbody tr th:only-of-type {\n",
       "        vertical-align: middle;\n",
       "    }\n",
       "\n",
       "    .dataframe tbody tr th {\n",
       "        vertical-align: top;\n",
       "    }\n",
       "\n",
       "    .dataframe thead th {\n",
       "        text-align: right;\n",
       "    }\n",
       "</style>\n",
       "<table border=\"1\" class=\"dataframe\">\n",
       "  <thead>\n",
       "    <tr style=\"text-align: right;\">\n",
       "      <th></th>\n",
       "      <th>rank</th>\n",
       "      <th>loo</th>\n",
       "      <th>p_loo</th>\n",
       "      <th>d_loo</th>\n",
       "      <th>weight</th>\n",
       "      <th>se</th>\n",
       "      <th>dse</th>\n",
       "      <th>warning</th>\n",
       "      <th>loo_scale</th>\n",
       "    </tr>\n",
       "  </thead>\n",
       "  <tbody>\n",
       "    <tr>\n",
       "      <th>Linear model</th>\n",
       "      <td>0</td>\n",
       "      <td>98.320631</td>\n",
       "      <td>3.380228</td>\n",
       "      <td>0.000000</td>\n",
       "      <td>1.0</td>\n",
       "      <td>8.224639</td>\n",
       "      <td>0.000000</td>\n",
       "      <td>False</td>\n",
       "      <td>log</td>\n",
       "    </tr>\n",
       "    <tr>\n",
       "      <th>5PL model</th>\n",
       "      <td>1</td>\n",
       "      <td>93.503033</td>\n",
       "      <td>5.921298</td>\n",
       "      <td>4.817598</td>\n",
       "      <td>0.0</td>\n",
       "      <td>8.129484</td>\n",
       "      <td>1.873747</td>\n",
       "      <td>False</td>\n",
       "      <td>log</td>\n",
       "    </tr>\n",
       "  </tbody>\n",
       "</table>\n",
       "</div>"
      ],
      "text/plain": [
       "              rank        loo     p_loo     d_loo  weight        se       dse  \\\n",
       "Linear model     0  98.320631  3.380228  0.000000     1.0  8.224639  0.000000   \n",
       "5PL model        1  93.503033  5.921298  4.817598     0.0  8.129484  1.873747   \n",
       "\n",
       "              warning loo_scale  \n",
       "Linear model    False       log  \n",
       "5PL model       False       log  "
      ]
     },
     "execution_count": 33,
     "metadata": {},
     "output_type": "execute_result"
    }
   ],
   "source": [
    "comp = az.compare({'Linear model': trace_l_n, '5PL model':trace_5_lin_n}, ic='loo')\n",
    "comp"
   ]
  },
  {
   "cell_type": "code",
   "execution_count": 34,
   "id": "263b846c",
   "metadata": {},
   "outputs": [],
   "source": [
    "a5 = az.summary(trace_5_lin_n, var_names=['a'])[['mean']]\n",
    "b5 = az.summary(trace_5_lin_n, var_names=['b'])[['mean']]\n",
    "c5 = az.summary(trace_5_lin_n, var_names=['c'])[['mean']]\n",
    "d5 = az.summary(trace_5_lin_n, var_names=['d'])[['mean']]\n",
    "g5 = az.summary(trace_5_lin_n, var_names=['g'])[['mean']]\n",
    "\n",
    "df_5_lin_n = pd.DataFrame({'a': a5['mean'][0],     \n",
    "                       'b': b5['mean'][0],    \n",
    "                       'c': c5['mean'][0],\n",
    "                       'd': d5['mean'][0],\n",
    "                       'g': g5['mean'][0],\n",
    "                       'x': x})\n",
    "\n",
    "df_5_lin_n['y'] = df_5_lin_n.d + (df_5_lin_n.a-df_5_lin_n.d)/(1+(df_5_lin_n.x/df_5_lin_n.c)**df_5_lin_n.b)**df_5_lin_n.g"
   ]
  },
  {
   "cell_type": "code",
   "execution_count": 35,
   "id": "c566dff6",
   "metadata": {},
   "outputs": [],
   "source": [
    "al = az.summary(trace_l_n, var_names=['a'])[['mean']]\n",
    "bl = az.summary(trace_l_n, var_names=['b'])[['mean']]\n",
    "\n",
    "df_l_n = pd.DataFrame({'a': al['mean'][0],     \n",
    "                     'b': bl['mean'][0],    \n",
    "                     'x': x})\n",
    "\n",
    "df_l_n['y'] = df_l_n.a + df_l_n.b * df_l_n.x"
   ]
  },
  {
   "cell_type": "code",
   "execution_count": 36,
   "id": "12638969",
   "metadata": {},
   "outputs": [
    {
     "data": {
      "text/plain": [
       "<AxesSubplot:xlabel='x', ylabel='y'>"
      ]
     },
     "execution_count": 36,
     "metadata": {},
     "output_type": "execute_result"
    },
    {
     "data": {
      "image/png": "[encoded data removed]",
      "text/plain": [
       "<Figure size 432x288 with 1 Axes>"
      ]
     },
     "metadata": {
      "needs_background": "light"
     },
     "output_type": "display_data"
    }
   ],
   "source": [
    "sns.lineplot(x=x,y=y)\n",
    "sns.lineplot(x='x',y='y',data=df_l_n)\n",
    "sns.lineplot(x='x',y='y',data=df_5_lin_n)"
   ]
  },
  {
   "cell_type": "markdown",
   "id": "68bcbb36",
   "metadata": {},
   "source": [
    "## Multi subject analysis\n",
    "\n",
    "Create n people n/2 healthy with a linear slope and n/2 with 5 PL slope."
   ]
  },
  {
   "cell_type": "code",
   "execution_count": 37,
   "id": "cc3186d7",
   "metadata": {},
   "outputs": [],
   "source": [
    "def add_sub(PTSD = 1, trials = 100, min_r = 0, max_r = 4, noise = .1):\n",
    "    \n",
    "    x = np.arange(min_r, max_r, max_r/trials)\n",
    "    a = np.random.beta(1, 20, 1)[0]\n",
    "    c = np.random.normal(2.5, .5, 1)[0]\n",
    "    d = np.random.beta(10, 10, 1)[0]\n",
    "    g = np.random.normal(1.1, .2, 1)[0]\n",
    "    if PTSD == 1:\n",
    "        b = np.random.normal(10, 2, 1)[0]\n",
    "    else:\n",
    "        b = np.random.normal(8, 2, 1)[0]\n",
    "        \n",
    "    y = d + (a-d)/(1+(x/c)**b)**g + np.random.normal(0, noise, trials)\n",
    "    \n",
    "    for i in range(trials):\n",
    "        if y[i] < 0:\n",
    "            y[i]=0\n",
    "    \n",
    "\n",
    "    df = pd.DataFrame({'x': x, 'y': y})\n",
    "    return(df)"
   ]
  },
  {
   "cell_type": "code",
   "execution_count": 38,
   "id": "036bd8b8",
   "metadata": {},
   "outputs": [
    {
     "data": {
      "text/plain": [
       "<AxesSubplot:xlabel='x', ylabel='y'>"
      ]
     },
     "execution_count": 38,
     "metadata": {},
     "output_type": "execute_result"
    },
    {
     "data": {
      "image/png": "[encoded data removed]",
      "text/plain": [
       "<Figure size 432x288 with 1 Axes>"
      ]
     },
     "metadata": {
      "needs_background": "light"
     },
     "output_type": "display_data"
    }
   ],
   "source": [
    "en_df = add_sub(PTSD=1, noise = .1)\n",
    "\n",
    "sns.lineplot(x='x',y='y',data=en_df)"
   ]
  },
  {
   "cell_type": "code",
   "execution_count": 39,
   "id": "18993bfd",
   "metadata": {},
   "outputs": [],
   "source": [
    "n_subs = 50\n",
    "ptsd_df = pd.DataFrame()\n",
    "cont_df = pd.DataFrame()\n",
    "for i in range(n_subs):\n",
    "    \n",
    "    temp_p = add_sub(PTSD = 1)\n",
    "    temp_c = add_sub(PTSD = 0)\n",
    "    temp_p['sub'] = i\n",
    "    temp_c['sub'] = i\n",
    "    ptsd_df = pd.concat([ptsd_df, temp_p])\n",
    "    cont_df = pd.concat([cont_df, temp_c])\n",
    "    \n",
    "sub_idxP = list(ptsd_df['sub'])\n",
    "sub_idxC = list(cont_df['sub'])"
   ]
  },
  {
   "cell_type": "code",
   "execution_count": 40,
   "id": "903f4141",
   "metadata": {},
   "outputs": [
    {
     "name": "stderr",
     "output_type": "stream",
     "text": [
      "Auto-assigning NUTS sampler...\n",
      "Initializing NUTS using jitter+adapt_diag...\n",
      "Multiprocess sampling (4 chains in 4 jobs)\n",
      "NUTS: [b_h, interceptP, slopeP, interceptC, slopeC, eps]\n"
     ]
    },
    {
     "data": {
      "text/html": [
       "\n",
       "<style>\n",
       "    /* Turns off some styling */\n",
       "    progress {\n",
       "        /* gets rid of default border in Firefox and Opera. */\n",
       "        border: none;\n",
       "        /* Needs to be in here for Safari polyfill so background images work as expected. */\n",
       "        background-size: auto;\n",
       "    }\n",
       "    progress:not([value]), progress:not([value])::-webkit-progress-bar {\n",
       "        background: repeating-linear-gradient(45deg, #7e7e7e, #7e7e7e 10px, #5c5c5c 10px, #5c5c5c 20px);\n",
       "    }\n",
       "    .progress-bar-interrupted, .progress-bar-interrupted::-webkit-progress-bar {\n",
       "        background: #F44336;\n",
       "    }\n",
       "</style>\n"
      ],
      "text/plain": [
       "<IPython.core.display.HTML object>"
      ]
     },
     "metadata": {},
     "output_type": "display_data"
    },
    {
     "data": {
      "text/html": [
       "\n",
       "    <div>\n",
       "      <progress value='16000' class='' max='16000' style='width:300px; height:20px; vertical-align: middle;'></progress>\n",
       "      100.00% [16000/16000 02:34&lt;00:00 Sampling 4 chains, 0 divergences]\n",
       "    </div>\n",
       "    "
      ],
      "text/plain": [
       "<IPython.core.display.HTML object>"
      ]
     },
     "metadata": {},
     "output_type": "display_data"
    },
    {
     "name": "stderr",
     "output_type": "stream",
     "text": [
      "Sampling 4 chains for 1_000 tune and 3_000 draw iterations (4_000 + 12_000 draws total) took 155 seconds.\n"
     ]
    }
   ],
   "source": [
    "with pm.Model() as linear:\n",
    "    \n",
    "    b_h = pm.Normal('b_h', 1, 1, shape=2)\n",
    "    \n",
    "    aP = pm.Normal('interceptP', 0, 5, shape = n_subs)\n",
    "    bP = pm.Normal('slopeP', b_h[0], 1, shape = n_subs)\n",
    "    \n",
    "    aC = pm.Normal('interceptC', 0, 5, shape = n_subs)\n",
    "    bC = pm.Normal('slopeC', b_h[1], 1, shape = n_subs)\n",
    "    \n",
    "    eps = pm.Exponential('eps', 5, shape=2)\n",
    "    y_hatP = aP[sub_idxP] + bP[sub_idxP] * ptsd_df.x\n",
    "    y_hatC = aC[sub_idxC] + bC[sub_idxC] * cont_df.x\n",
    "       \n",
    "    # Likelihood (sampling distribution) of observations\n",
    "    ratingP = pm.Normal('ratingP',y_hatP, eps[0], observed=ptsd_df.y)\n",
    "    ratingC = pm.Normal('ratingC',y_hatC, eps[1], observed=cont_df.y)\n",
    "    \n",
    "    trace_linear = pm.sample(3000, return_inferencedata=True, target_accept=0.9)"
   ]
  },
  {
   "cell_type": "code",
   "execution_count": 41,
   "id": "cf6ce770",
   "metadata": {},
   "outputs": [
    {
     "name": "stderr",
     "output_type": "stream",
     "text": [
      "Auto-assigning NUTS sampler...\n",
      "Initializing NUTS using jitter+adapt_diag...\n",
      "Multiprocess sampling (4 chains in 4 jobs)\n",
      "NUTS: [aC, bC, cC, dC, gC, aP, bP, cP, dP, gP, eps]\n"
     ]
    },
    {
     "data": {
      "text/html": [
       "\n",
       "<style>\n",
       "    /* Turns off some styling */\n",
       "    progress {\n",
       "        /* gets rid of default border in Firefox and Opera. */\n",
       "        border: none;\n",
       "        /* Needs to be in here for Safari polyfill so background images work as expected. */\n",
       "        background-size: auto;\n",
       "    }\n",
       "    progress:not([value]), progress:not([value])::-webkit-progress-bar {\n",
       "        background: repeating-linear-gradient(45deg, #7e7e7e, #7e7e7e 10px, #5c5c5c 10px, #5c5c5c 20px);\n",
       "    }\n",
       "    .progress-bar-interrupted, .progress-bar-interrupted::-webkit-progress-bar {\n",
       "        background: #F44336;\n",
       "    }\n",
       "</style>\n"
      ],
      "text/plain": [
       "<IPython.core.display.HTML object>"
      ]
     },
     "metadata": {},
     "output_type": "display_data"
    },
    {
     "data": {
      "text/html": [
       "\n",
       "    <div>\n",
       "      <progress value='16000' class='' max='16000' style='width:300px; height:20px; vertical-align: middle;'></progress>\n",
       "      100.00% [16000/16000 35:16&lt;00:00 Sampling 4 chains, 12 divergences]\n",
       "    </div>\n",
       "    "
      ],
      "text/plain": [
       "<IPython.core.display.HTML object>"
      ]
     },
     "metadata": {},
     "output_type": "display_data"
    },
    {
     "name": "stderr",
     "output_type": "stream",
     "text": [
      "Sampling 4 chains for 1_000 tune and 3_000 draw iterations (4_000 + 12_000 draws total) took 2117 seconds.\n",
      "There were 2 divergences after tuning. Increase `target_accept` or reparameterize.\n",
      "There was 1 divergence after tuning. Increase `target_accept` or reparameterize.\n",
      "There were 5 divergences after tuning. Increase `target_accept` or reparameterize.\n",
      "There were 4 divergences after tuning. Increase `target_accept` or reparameterize.\n"
     ]
    }
   ],
   "source": [
    "with pm.Model() as five_PL_ns:\n",
    "    \n",
    "    aC = pm.Beta('aC',   1,   20)\n",
    "    bC = pm.Normal('bC', 10,  2.5)\n",
    "    cC = pm.Normal('cC', 2.5, .5)\n",
    "    dC = pm.Beta('dC',   10,  10)\n",
    "    gC = pm.Normal('gC', 1,   .2)\n",
    "    \n",
    "    aP = pm.Beta('aP',   1,   20)\n",
    "    bP = pm.Normal('bP', 10,  2.5)\n",
    "    cP = pm.Normal('cP', 2.5, .5)\n",
    "    dP = pm.Beta('dP',   10,  10)\n",
    "    gP = pm.Normal('gP', 1,   .2)\n",
    "    \n",
    "    \n",
    "    eps = pm.Exponential('eps', 1, shape=2)\n",
    "    \n",
    "    y_hatP = dP + (aP-dP)/(1+(ptsd_df['x'].values/cP)**bP)**gP\n",
    "    y_hatC = dC + (aC-dC)/(1+(cont_df['x'].values/cC)**bC)**gC\n",
    "    \n",
    "    # Likelihood (sampling distribution) of observations\n",
    "    ratingP = pm.TruncatedNormal('ratingP',y_hatP, eps[0], lower=0, observed=ptsd_df.y)\n",
    "    ratingC = pm.TruncatedNormal('ratingC',y_hatC, eps[1], lower=0, observed=cont_df.y)\n",
    "    trace_PL5_ns = pm.sample(3000, return_inferencedata=True, target_accept=0.95)"
   ]
  },
  {
   "cell_type": "code",
   "execution_count": 42,
   "id": "16cdbb72",
   "metadata": {},
   "outputs": [
    {
     "name": "stderr",
     "output_type": "stream",
     "text": [
      "Auto-assigning NUTS sampler...\n",
      "Initializing NUTS using jitter+adapt_diag...\n",
      "Multiprocess sampling (4 chains in 4 jobs)\n",
      "NUTS: [b, b_sd, aC, bC, cC, dC, gC, aP, bP, cP, dP, gP, eps]\n"
     ]
    },
    {
     "data": {
      "text/html": [
       "\n",
       "<style>\n",
       "    /* Turns off some styling */\n",
       "    progress {\n",
       "        /* gets rid of default border in Firefox and Opera. */\n",
       "        border: none;\n",
       "        /* Needs to be in here for Safari polyfill so background images work as expected. */\n",
       "        background-size: auto;\n",
       "    }\n",
       "    progress:not([value]), progress:not([value])::-webkit-progress-bar {\n",
       "        background: repeating-linear-gradient(45deg, #7e7e7e, #7e7e7e 10px, #5c5c5c 10px, #5c5c5c 20px);\n",
       "    }\n",
       "    .progress-bar-interrupted, .progress-bar-interrupted::-webkit-progress-bar {\n",
       "        background: #F44336;\n",
       "    }\n",
       "</style>\n"
      ],
      "text/plain": [
       "<IPython.core.display.HTML object>"
      ]
     },
     "metadata": {},
     "output_type": "display_data"
    },
    {
     "data": {
      "text/html": [
       "\n",
       "    <div>\n",
       "      <progress value='16000' class='' max='16000' style='width:300px; height:20px; vertical-align: middle;'></progress>\n",
       "      100.00% [16000/16000 16:17&lt;00:00 Sampling 4 chains, 0 divergences]\n",
       "    </div>\n",
       "    "
      ],
      "text/plain": [
       "<IPython.core.display.HTML object>"
      ]
     },
     "metadata": {},
     "output_type": "display_data"
    },
    {
     "name": "stderr",
     "output_type": "stream",
     "text": [
      "Sampling 4 chains for 1_000 tune and 3_000 draw iterations (4_000 + 12_000 draws total) took 979 seconds.\n"
     ]
    }
   ],
   "source": [
    "with pm.Model() as five_PL:\n",
    "    \n",
    "    b = pm.Normal('b', 6, 3, shape=2)\n",
    "    b_sd = pm.Exponential('b_sd', 5, shape=2)\n",
    "    \n",
    "    aC = pm.Beta('aC',   1,   20,  shape = n_subs)\n",
    "    bC = pm.Normal('bC', b[0], 2,  shape = n_subs)\n",
    "    cC = pm.Normal('cC', 2.5, .5,  shape = n_subs)\n",
    "    dC = pm.Beta('dC',   10,  10,  shape = n_subs)\n",
    "    gC = pm.Normal('gC', 1,   .2,  shape = n_subs)\n",
    "    \n",
    "    aP = pm.Beta('aP',   1,   20,  shape = n_subs)\n",
    "    bP = pm.Normal('bP', b[1], 2,  shape = n_subs)\n",
    "    cP = pm.Normal('cP', 2.5, .5,  shape = n_subs)\n",
    "    dP = pm.Beta('dP',   10,  10,  shape = n_subs)\n",
    "    gP = pm.Normal('gP', 1,   .2,  shape = n_subs)\n",
    "    \n",
    "    \n",
    "    eps = pm.Exponential('eps', 1, shape=2)\n",
    "    \n",
    "    y_hatP = dP[sub_idxP] + (aP[sub_idxP]-dP[sub_idxP])/(1+(ptsd_df['x'].values/cP[sub_idxP])**bP[sub_idxP])**gP[sub_idxP]\n",
    "    y_hatC = dC[sub_idxC] + (aC[sub_idxC]-dC[sub_idxC])/(1+(cont_df['x'].values/cC[sub_idxC])**bC[sub_idxC])**gC[sub_idxC]\n",
    "    \n",
    "    # Likelihood (sampling distribution) of observations\n",
    "    ratingP = pm.Normal('ratingP',y_hatP, eps[0], observed=ptsd_df.y)\n",
    "    ratingC = pm.Normal('ratingC',y_hatC, eps[1], observed=cont_df.y)\n",
    "    \n",
    "    trace_PL5 = pm.sample(3000, return_inferencedata=True, target_accept=0.95)"
   ]
  },
  {
   "cell_type": "code",
   "execution_count": 43,
   "id": "51c51edf",
   "metadata": {},
   "outputs": [
    {
     "data": {
      "text/plain": [
       "<AxesSubplot:ylabel='Count'>"
      ]
     },
     "execution_count": 43,
     "metadata": {},
     "output_type": "execute_result"
    },
    {
     "data": {
      "image/png": "[encoded data removed]",
      "text/plain": [
       "<Figure size 432x288 with 1 Axes>"
      ]
     },
     "metadata": {
      "needs_background": "light"
     },
     "output_type": "display_data"
    }
   ],
   "source": [
    "tr2 = trace_PL5.posterior.stack(draws=(\"chain\", \"draw\"))\n",
    "\n",
    "Control = np.mean(tr2.bC[:,:].values, axis = 0)\n",
    "PTSD    = np.mean(tr2.bP[:,:].values, axis = 0)\n",
    "\n",
    "sns.histplot(Control)\n",
    "sns.histplot(PTSD)"
   ]
  },
  {
   "cell_type": "code",
   "execution_count": 44,
   "id": "f61f72e5",
   "metadata": {},
   "outputs": [
    {
     "data": {
      "text/plain": [
       "Text(0.5, 1.0, '')"
      ]
     },
     "execution_count": 44,
     "metadata": {},
     "output_type": "execute_result"
    },
    {
     "data": {
      "image/png": "[encoded data removed]",
      "text/plain": [
       "<Figure size 432x288 with 1 Axes>"
      ]
     },
     "metadata": {
      "needs_background": "light"
     },
     "output_type": "display_data"
    }
   ],
   "source": [
    "Group = PTSD - Control\n",
    "az.plot_posterior(Group, point_estimate='mean', kind='hist', ref_val=0).set_title(\"\")"
   ]
  },
  {
   "cell_type": "markdown",
   "id": "6811aae9",
   "metadata": {},
   "source": [
    "## If healthy participants react linearly \n"
   ]
  },
  {
   "cell_type": "code",
   "execution_count": 45,
   "id": "c0bddbf7",
   "metadata": {},
   "outputs": [],
   "source": [
    "def add_sub_l(PTSD, trials = 100, min_r = 0, max_r = 4, noise = .1):\n",
    "    \n",
    "    x = np.arange(min_r, max_r, max_r/trials)\n",
    "    a = np.random.beta(1, 20, 1)[0]\n",
    "    c = np.random.normal(2.5, .5, 1)[0]\n",
    "    d = np.random.beta(10, 10, 1)[0]\n",
    "    g = np.random.normal(1.1, .2, 1)[0]\n",
    "\n",
    "    if PTSD == 1:\n",
    "        b = np.random.normal(10, 2, 1)[0]\n",
    "        y = d + (a-d)/(1+(x/c)**b)**g + np.random.normal(0, noise, trials)\n",
    "    else:\n",
    "        slope = 1/8\n",
    "        y = slope*x + np.random.normal(0, noise, trials)\n",
    "       \n",
    "    \n",
    "    for i in range(trials):\n",
    "        if y[i] < 0:\n",
    "            y[i]=0\n",
    "    \n",
    "\n",
    "    df = pd.DataFrame({'x': x, 'y': y})\n",
    "    return(df)"
   ]
  },
  {
   "cell_type": "code",
   "execution_count": 46,
   "id": "457cbab4",
   "metadata": {},
   "outputs": [],
   "source": [
    "n_subs = 50\n",
    "ptsd_df = pd.DataFrame()\n",
    "cont_df = pd.DataFrame()\n",
    "for i in range(n_subs):\n",
    "    \n",
    "    temp_p = add_sub_l(PTSD = 1)\n",
    "    temp_c = add_sub_l(PTSD = 0)\n",
    "    temp_p['sub'] = i\n",
    "    temp_c['sub'] = i\n",
    "    ptsd_df = pd.concat([ptsd_df, temp_p])\n",
    "    cont_df = pd.concat([cont_df, temp_c])\n",
    "    \n",
    "sub_idxP = list(ptsd_df['sub'])\n",
    "sub_idxC = list(cont_df['sub'])"
   ]
  },
  {
   "cell_type": "code",
   "execution_count": 47,
   "id": "b0246600",
   "metadata": {},
   "outputs": [
    {
     "data": {
      "text/plain": [
       "<AxesSubplot:xlabel='x', ylabel='y'>"
      ]
     },
     "execution_count": 47,
     "metadata": {},
     "output_type": "execute_result"
    },
    {
     "data": {
      "image/png": "[encoded data removed]",
      "text/plain": [
       "<Figure size 432x288 with 1 Axes>"
      ]
     },
     "metadata": {
      "needs_background": "light"
     },
     "output_type": "display_data"
    }
   ],
   "source": [
    "sns.lineplot(x='x', y='y', data=cont_df)\n",
    "sns.lineplot(x='x', y='y', data=ptsd_df)"
   ]
  },
  {
   "cell_type": "code",
   "execution_count": 56,
   "id": "0726b4e1",
   "metadata": {
    "scrolled": true
   },
   "outputs": [
    {
     "name": "stderr",
     "output_type": "stream",
     "text": [
      "Auto-assigning NUTS sampler...\n",
      "Initializing NUTS using jitter+adapt_diag...\n",
      "Multiprocess sampling (4 chains in 4 jobs)\n",
      "NUTS: [b, c, g, aC, bC, cC, dC, gC, aP, bP, cP, dP, gP, eps]\n"
     ]
    },
    {
     "data": {
      "text/html": [
       "\n",
       "<style>\n",
       "    /* Turns off some styling */\n",
       "    progress {\n",
       "        /* gets rid of default border in Firefox and Opera. */\n",
       "        border: none;\n",
       "        /* Needs to be in here for Safari polyfill so background images work as expected. */\n",
       "        background-size: auto;\n",
       "    }\n",
       "    progress:not([value]), progress:not([value])::-webkit-progress-bar {\n",
       "        background: repeating-linear-gradient(45deg, #7e7e7e, #7e7e7e 10px, #5c5c5c 10px, #5c5c5c 20px);\n",
       "    }\n",
       "    .progress-bar-interrupted, .progress-bar-interrupted::-webkit-progress-bar {\n",
       "        background: #F44336;\n",
       "    }\n",
       "</style>\n"
      ],
      "text/plain": [
       "<IPython.core.display.HTML object>"
      ]
     },
     "metadata": {},
     "output_type": "display_data"
    },
    {
     "data": {
      "text/html": [
       "\n",
       "    <div>\n",
       "      <progress value='16000' class='' max='16000' style='width:300px; height:20px; vertical-align: middle;'></progress>\n",
       "      100.00% [16000/16000 23:59&lt;00:00 Sampling 4 chains, 143 divergences]\n",
       "    </div>\n",
       "    "
      ],
      "text/plain": [
       "<IPython.core.display.HTML object>"
      ]
     },
     "metadata": {},
     "output_type": "display_data"
    },
    {
     "name": "stderr",
     "output_type": "stream",
     "text": [
      "Sampling 4 chains for 1_000 tune and 3_000 draw iterations (4_000 + 12_000 draws total) took 1440 seconds.\n",
      "There were 27 divergences after tuning. Increase `target_accept` or reparameterize.\n",
      "There were 39 divergences after tuning. Increase `target_accept` or reparameterize.\n",
      "There were 35 divergences after tuning. Increase `target_accept` or reparameterize.\n",
      "There were 42 divergences after tuning. Increase `target_accept` or reparameterize.\n"
     ]
    }
   ],
   "source": [
    "with pm.Model() as five_PL:\n",
    "    \n",
    "    b = pm.Normal('b', 6,   3, shape=2)\n",
    "    c = pm.Normal('c', 2.5, 1, shape=2)\n",
    "    g = pm.Normal('g', 1,   1, shape=2)\n",
    "    \n",
    "    # a1 = pm.TruncatedNormal('a1', 20, 1, lower = 0.1, shape=2)\n",
    "    # a2 = pm.Normal('a2',         1, 10,              shape=2)\n",
    "    \n",
    "    # d1 = pm.Normal('d1',         10, 5,              shape=2)\n",
    "    # d2 = pm.Normal('d2', 2, 10, lower = 0.1, shape=2)\n",
    "    \n",
    "    aC = pm.Beta('aC',   1, 20, shape = n_subs)\n",
    "    bC = pm.Normal('bC', b[0],      2, shape = n_subs)\n",
    "    cC = pm.Normal('cC', c[0],     .5, shape = n_subs)\n",
    "    dC = pm.Beta('dC',   10, 10, shape = n_subs)\n",
    "    gC = pm.Normal('gC', g[0],     .2, shape = n_subs)\n",
    "    \n",
    "    aP = pm.Beta('aP',   1, 20, shape = n_subs)\n",
    "    bP = pm.Normal('bP', b[1],      2, shape = n_subs)\n",
    "    cP = pm.Normal('cP', c[1],     .5, shape = n_subs)\n",
    "    dP = pm.Beta('dP',   10, 10, shape = n_subs)\n",
    "    gP = pm.Normal('gP', g[1],     .2, shape = n_subs)\n",
    "    \n",
    "    \n",
    "    eps = pm.Exponential('eps', 1, shape=2)\n",
    "    \n",
    "    y_hatP = dP[sub_idxP] + (aP[sub_idxP]-dP[sub_idxP])/(1+(ptsd_df['x'].values/cP[sub_idxP])**bP[sub_idxP])**gP[sub_idxP]\n",
    "    y_hatC = dC[sub_idxC] + (aC[sub_idxC]-dC[sub_idxC])/(1+(cont_df['x'].values/cC[sub_idxC])**bC[sub_idxC])**gC[sub_idxC]\n",
    "    \n",
    "    # Likelihood (sampling distribution) of observations\n",
    "    ratingP = pm.Normal('ratingP',y_hatP, eps[0], observed=ptsd_df.y)\n",
    "    ratingC = pm.Normal('ratingC',y_hatC, eps[1], observed=cont_df.y)\n",
    "    \n",
    "    trace_PL5 = pm.sample(3000, return_inferencedata=True, target_accept=0.95)"
   ]
  },
  {
   "cell_type": "code",
   "execution_count": 57,
   "id": "af3717de",
   "metadata": {},
   "outputs": [
    {
     "data": {
      "text/plain": [
       "<AxesSubplot:ylabel='Count'>"
      ]
     },
     "execution_count": 57,
     "metadata": {},
     "output_type": "execute_result"
    },
    {
     "data": {
      "image/png": "[encoded data removed]",
      "text/plain": [
       "<Figure size 432x288 with 1 Axes>"
      ]
     },
     "metadata": {
      "needs_background": "light"
     },
     "output_type": "display_data"
    }
   ],
   "source": [
    "tr2 = trace_PL5.posterior.stack(draws=(\"chain\", \"draw\"))\n",
    "\n",
    "Control = np.mean(tr2.bC[:,:].values, axis = 0)\n",
    "PTSD    = np.mean(tr2.bP[:,:].values, axis = 0)\n",
    "\n",
    "sns.histplot(Control)\n",
    "sns.histplot(PTSD)"
   ]
  },
  {
   "cell_type": "code",
   "execution_count": 58,
   "id": "425b060f",
   "metadata": {},
   "outputs": [
    {
     "data": {
      "text/plain": [
       "Text(0.5, 1.0, '')"
      ]
     },
     "execution_count": 58,
     "metadata": {},
     "output_type": "execute_result"
    },
    {
     "data": {
      "image/png": "[encoded data removed]",
      "text/plain": [
       "<Figure size 432x288 with 1 Axes>"
      ]
     },
     "metadata": {
      "needs_background": "light"
     },
     "output_type": "display_data"
    }
   ],
   "source": [
    "Group = PTSD - Control\n",
    "az.plot_posterior(Group, point_estimate='mean', kind='hist', ref_val=0).set_title(\"\")"
   ]
  },
  {
   "cell_type": "code",
   "execution_count": 59,
   "id": "67232f7d",
   "metadata": {},
   "outputs": [
    {
     "data": {
      "text/plain": [
       "<AxesSubplot:xlabel='x', ylabel='y'>"
      ]
     },
     "execution_count": 59,
     "metadata": {},
     "output_type": "execute_result"
    },
    {
     "data": {
      "image/png": "[encoded data removed]",
      "text/plain": [
       "<Figure size 432x288 with 1 Axes>"
      ]
     },
     "metadata": {
      "needs_background": "light"
     },
     "output_type": "display_data"
    }
   ],
   "source": [
    "a5 = az.summary(trace_PL5, var_names=['aC'])[['mean']]\n",
    "b5 = az.summary(trace_PL5, var_names=['bC'])[['mean']]\n",
    "c5 = az.summary(trace_PL5, var_names=['cC'])[['mean']]\n",
    "d5 = az.summary(trace_PL5, var_names=['dC'])[['mean']]\n",
    "g5 = az.summary(trace_PL5, var_names=['gC'])[['mean']]\n",
    "\n",
    "df_C = pd.DataFrame({'a': a5['mean'][0],\n",
    "                     'b': b5['mean'][0],\n",
    "                     'c': c5['mean'][0],\n",
    "                     'd': d5['mean'][0],\n",
    "                     'g': g5['mean'][0],\n",
    "                     'x': x})\n",
    "\n",
    "df_C['y'] = df_C.d + (df_C.a-df_C.d)/(1+(df_C.x/df_C.c)**df_C.b)**df_C.g\n",
    "\n",
    "sns.lineplot(x='x',y='y',data=cont_df)\n",
    "sns.lineplot(x='x',y='y',data=df_C)"
   ]
  },
  {
   "cell_type": "code",
   "execution_count": 90,
   "id": "9a1d52dc",
   "metadata": {},
   "outputs": [
    {
     "data": {
      "text/plain": [
       "<AxesSubplot:xlabel='x', ylabel='y'>"
      ]
     },
     "execution_count": 90,
     "metadata": {},
     "output_type": "execute_result"
    },
    {
     "data": {
      "image/png": "[encoded data removed]",
      "text/plain": [
       "<Figure size 432x288 with 1 Axes>"
      ]
     },
     "metadata": {
      "needs_background": "light"
     },
     "output_type": "display_data"
    }
   ],
   "source": [
    "a5 = az.summary(trace_PL5, var_names=['aP'])[['mean']]\n",
    "b5 = az.summary(trace_PL5, var_names=['bP'])[['mean']]\n",
    "c5 = az.summary(trace_PL5, var_names=['cP'])[['mean']]\n",
    "d5 = az.summary(trace_PL5, var_names=['dP'])[['mean']]\n",
    "g5 = az.summary(trace_PL5, var_names=['gP'])[['mean']]\n",
    "\n",
    "df_P = pd.DataFrame({'a': np.mean(a5['mean']),\n",
    "                     'b': np.mean(b5['mean']),\n",
    "                     'c': np.mean(c5['mean']),\n",
    "                     'd': np.mean(d5['mean']),\n",
    "                     'g': np.mean(g5['mean']),\n",
    "                     'x': x})\n",
    "\n",
    "df_P['y'] = df_P.d + (df_P.a-df_P.d)/(1+(df_P.x/df_P.c)**df_P.b)**df_P.g\n",
    "\n",
    "sns.lineplot(x='x',y='y',data=ptsd_df)\n",
    "sns.lineplot(x='x',y='y',data=df_P)"
   ]
  },
  {
   "cell_type": "code",
   "execution_count": 67,
   "id": "3255fe68",
   "metadata": {},
   "outputs": [
    {
     "name": "stderr",
     "output_type": "stream",
     "text": [
      "Auto-assigning NUTS sampler...\n",
      "Initializing NUTS using jitter+adapt_diag...\n",
      "Multiprocess sampling (4 chains in 4 jobs)\n",
      "NUTS: [b, aP, bP, cP, dP, gP, eps]\n"
     ]
    },
    {
     "data": {
      "text/html": [
       "\n",
       "<style>\n",
       "    /* Turns off some styling */\n",
       "    progress {\n",
       "        /* gets rid of default border in Firefox and Opera. */\n",
       "        border: none;\n",
       "        /* Needs to be in here for Safari polyfill so background images work as expected. */\n",
       "        background-size: auto;\n",
       "    }\n",
       "    progress:not([value]), progress:not([value])::-webkit-progress-bar {\n",
       "        background: repeating-linear-gradient(45deg, #7e7e7e, #7e7e7e 10px, #5c5c5c 10px, #5c5c5c 20px);\n",
       "    }\n",
       "    .progress-bar-interrupted, .progress-bar-interrupted::-webkit-progress-bar {\n",
       "        background: #F44336;\n",
       "    }\n",
       "</style>\n"
      ],
      "text/plain": [
       "<IPython.core.display.HTML object>"
      ]
     },
     "metadata": {},
     "output_type": "display_data"
    },
    {
     "data": {
      "text/html": [
       "\n",
       "    <div>\n",
       "      <progress value='16000' class='' max='16000' style='width:300px; height:20px; vertical-align: middle;'></progress>\n",
       "      100.00% [16000/16000 07:52&lt;00:00 Sampling 4 chains, 0 divergences]\n",
       "    </div>\n",
       "    "
      ],
      "text/plain": [
       "<IPython.core.display.HTML object>"
      ]
     },
     "metadata": {},
     "output_type": "display_data"
    },
    {
     "name": "stderr",
     "output_type": "stream",
     "text": [
      "Sampling 4 chains for 1_000 tune and 3_000 draw iterations (4_000 + 12_000 draws total) took 473 seconds.\n"
     ]
    }
   ],
   "source": [
    "with pm.Model() as five_PL:\n",
    "        \n",
    "    b = pm.Normal('b', 6, 3)\n",
    "    \n",
    "    aP = pm.Beta('aP',   1,   20, shape = n_subs)\n",
    "    bP = pm.Normal('bP', b,    2, shape = n_subs)\n",
    "    cP = pm.Normal('cP', 2.5, .5, shape = n_subs)\n",
    "    dP = pm.Beta('dP',   10,  10, shape = n_subs)\n",
    "    gP = pm.Normal('gP', 1,   .2, shape = n_subs)\n",
    "    \n",
    "    eps = pm.Exponential('eps', 1)\n",
    "    y_hatP = dP[sub_idxP] + (aP[sub_idxP]-dP[sub_idxP])/(1+(ptsd_df['x'].values/cP[sub_idxP])**bP[sub_idxP])**gP[sub_idxP]\n",
    "       \n",
    "    # Likelihood (sampling distribution) of observations\n",
    "    rating = pm.Normal('rating',y_hatP, eps, observed=ptsd_df['y'])\n",
    "    \n",
    "    trace_5_alone = pm.sample(3000, return_inferencedata=True, target_accept=0.95)"
   ]
  },
  {
   "cell_type": "code",
   "execution_count": 89,
   "id": "a46c3f81",
   "metadata": {},
   "outputs": [
    {
     "data": {
      "text/plain": [
       "<AxesSubplot:xlabel='x', ylabel='y'>"
      ]
     },
     "execution_count": 89,
     "metadata": {},
     "output_type": "execute_result"
    },
    {
     "data": {
      "image/png": "[encoded data removed]",
      "text/plain": [
       "<Figure size 432x288 with 1 Axes>"
      ]
     },
     "metadata": {
      "needs_background": "light"
     },
     "output_type": "display_data"
    }
   ],
   "source": [
    "a5 = az.summary(trace_5_alone, var_names=['aP'])[['mean']]\n",
    "b5 = az.summary(trace_5_alone, var_names=['bP'])[['mean']]\n",
    "c5 = az.summary(trace_5_alone, var_names=['cP'])[['mean']]\n",
    "d5 = az.summary(trace_5_alone, var_names=['dP'])[['mean']]\n",
    "g5 = az.summary(trace_5_alone, var_names=['gP'])[['mean']]\n",
    "\n",
    "df_P = pd.DataFrame({'a': np.mean(a5['mean']),\n",
    "                     'b': np.mean(b5['mean']),\n",
    "                     'c': np.mean(c5['mean']),\n",
    "                     'd': np.mean(d5['mean']),\n",
    "                     'g': np.mean(g5['mean']),\n",
    "                     'x': x})\n",
    "\n",
    "df_P['y'] = df_P.d + (df_P.a-df_P.d)/(1+(df_P.x/df_P.c)**df_P.b)**df_P.g\n",
    "\n",
    "sns.lineplot(x='x',y='y',data=ptsd_df)\n",
    "sns.lineplot(x='x',y='y',data=df_P)"
   ]
  },
  {
   "cell_type": "code",
   "execution_count": 80,
   "id": "df69a570",
   "metadata": {},
   "outputs": [
    {
     "name": "stderr",
     "output_type": "stream",
     "text": [
      "Auto-assigning NUTS sampler...\n",
      "INFO:pymc:Auto-assigning NUTS sampler...\n",
      "Initializing NUTS using jitter+adapt_diag...\n",
      "INFO:pymc:Initializing NUTS using jitter+adapt_diag...\n",
      "Multiprocess sampling (4 chains in 4 jobs)\n",
      "INFO:pymc:Multiprocess sampling (4 chains in 4 jobs)\n",
      "NUTS: [b, aP, bP, cP, dP, gP, eps]\n",
      "INFO:pymc:NUTS: [b, aP, bP, cP, dP, gP, eps]\n"
     ]
    },
    {
     "data": {
      "text/html": [
       "\n",
       "<style>\n",
       "    /* Turns off some styling */\n",
       "    progress {\n",
       "        /* gets rid of default border in Firefox and Opera. */\n",
       "        border: none;\n",
       "        /* Needs to be in here for Safari polyfill so background images work as expected. */\n",
       "        background-size: auto;\n",
       "    }\n",
       "    progress:not([value]), progress:not([value])::-webkit-progress-bar {\n",
       "        background: repeating-linear-gradient(45deg, #7e7e7e, #7e7e7e 10px, #5c5c5c 10px, #5c5c5c 20px);\n",
       "    }\n",
       "    .progress-bar-interrupted, .progress-bar-interrupted::-webkit-progress-bar {\n",
       "        background: #F44336;\n",
       "    }\n",
       "</style>\n"
      ],
      "text/plain": [
       "<IPython.core.display.HTML object>"
      ]
     },
     "metadata": {},
     "output_type": "display_data"
    },
    {
     "data": {
      "text/html": [
       "\n",
       "    <div>\n",
       "      <progress value='16000' class='' max='16000' style='width:300px; height:20px; vertical-align: middle;'></progress>\n",
       "      100.00% [16000/16000 06:41&lt;00:00 Sampling 4 chains, 5 divergences]\n",
       "    </div>\n",
       "    "
      ],
      "text/plain": [
       "<IPython.core.display.HTML object>"
      ]
     },
     "metadata": {},
     "output_type": "display_data"
    },
    {
     "name": "stderr",
     "output_type": "stream",
     "text": [
      "Sampling 4 chains for 1_000 tune and 3_000 draw iterations (4_000 + 12_000 draws total) took 402 seconds.\n",
      "INFO:pymc:Sampling 4 chains for 1_000 tune and 3_000 draw iterations (4_000 + 12_000 draws total) took 402 seconds.\n",
      "There were 5 divergences after tuning. Increase `target_accept` or reparameterize.\n",
      "ERROR:pymc:There were 5 divergences after tuning. Increase `target_accept` or reparameterize.\n"
     ]
    }
   ],
   "source": [
    "with pm.Model() as five_PL:\n",
    "        \n",
    "    b = pm.Normal('b', 6, 3)\n",
    "\n",
    "    aP = pm.Beta('aP',    1, 20,  shape = n_subs)\n",
    "    bP = pm.Normal('bP',  b, 2.5, shape = n_subs)\n",
    "    cP = pm.Normal('cP',2.5, .5,  shape = n_subs)\n",
    "    dP = pm.Beta('dP',   10, 10,  shape = n_subs)\n",
    "    gP = pm.Normal('gP',  1, .2,  shape = n_subs)\n",
    "    \n",
    "    eps = pm.Exponential('eps', 5)\n",
    "    y_hat = dP[sub_idxP] + (aP[sub_idxP]-dP[sub_idxP])/(1+(ptsd_df['x'].values/cP[sub_idxP])**bP[sub_idxP])**gP[sub_idxP]\n",
    "       \n",
    "    # Likelihood (sampling distribution) of observations\n",
    "    rating = pm.Normal('rating',y_hat, eps, observed=ptsd_df['y'].values)\n",
    "    \n",
    "    trace_5_alone = pm.sample(3000, return_inferencedata=True, target_accept=0.95)"
   ]
  },
  {
   "cell_type": "code",
   "execution_count": 87,
   "id": "fd408d5b",
   "metadata": {},
   "outputs": [
    {
     "data": {
      "text/plain": [
       "<AxesSubplot:xlabel='x', ylabel='y'>"
      ]
     },
     "execution_count": 87,
     "metadata": {},
     "output_type": "execute_result"
    },
    {
     "data": {
      "image/png": "[encoded data removed]",
      "text/plain": [
       "<Figure size 432x288 with 1 Axes>"
      ]
     },
     "metadata": {
      "needs_background": "light"
     },
     "output_type": "display_data"
    }
   ],
   "source": [
    "a5 = az.summary(trace_5_alone, var_names=['aP'])[['mean']]\n",
    "b5 = az.summary(trace_5_alone, var_names=['bP'])[['mean']]\n",
    "c5 = az.summary(trace_5_alone, var_names=['cP'])[['mean']]\n",
    "d5 = az.summary(trace_5_alone, var_names=['dP'])[['mean']]\n",
    "g5 = az.summary(trace_5_alone, var_names=['gP'])[['mean']]\n",
    "\n",
    "df_P = pd.DataFrame({'a': np.mean(a5['mean']),\n",
    "                     'b': np.mean(b5['mean']),\n",
    "                     'c': np.mean(c5['mean']),\n",
    "                     'd': np.mean(d5['mean']),\n",
    "                     'g': np.mean(g5['mean']),\n",
    "                     'x': x})\n",
    "\n",
    "df_P['y'] = df_P.d + (df_P.a-df_P.d)/(1+(df_P.x/df_P.c)**df_P.b)**df_P.g\n",
    "\n",
    "sns.lineplot(x='x',y='y',data=ptsd_df)\n",
    "sns.lineplot(x='x',y='y',data=df_P)"
   ]
  },
  {
   "cell_type": "code",
   "execution_count": 85,
   "id": "f9ac1ed1",
   "metadata": {},
   "outputs": [
    {
     "data": {
      "text/plain": [
       "0.5092"
      ]
     },
     "execution_count": 85,
     "metadata": {},
     "output_type": "execute_result"
    }
   ],
   "source": [
    "np.mean(az.summary(trace_5_alone, var_names=['dP'])['mean'])"
   ]
  }
 ],
 "metadata": {
  "kernelspec": {
   "display_name": "Python 3 (ipykernel)",
   "language": "python",
   "name": "python3"
  },
  "language_info": {
   "codemirror_mode": {
    "name": "ipython",
    "version": 3
   },
   "file_extension": ".py",
   "mimetype": "text/x-python",
   "name": "python",
   "nbconvert_exporter": "python",
   "pygments_lexer": "ipython3",
   "version": "3.9.12"
  }
 },
 "nbformat": 4,
 "nbformat_minor": 5
}
