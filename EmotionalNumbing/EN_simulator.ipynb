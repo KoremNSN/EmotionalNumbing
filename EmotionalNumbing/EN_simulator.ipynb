{
 "cells": [
  {
   "cell_type": "markdown",
   "id": "a58cffff",
   "metadata": {},
   "source": [
    "# Emotional numbing as a 5PL regression model\n",
    "\n",
    "y = d + (a-d)/(1+(x/c)^b)^g\n",
    "\n",
    "a theortical response at min</br>\n",
    "b slope factor</br>\n",
    "c mid range </br>\n",
    "d therotical response at max</br>\n",
    "g asymetrical factor</br>\n",
    "\n",
    "Participants will rate pictures valence.</br>\n",
    "We will fit a curve to the valence rating and \"known\" valence based on the mean from the dataset it was taken from.</br>\n",
    "Hypothesis: </br>\n",
    "    1. Depressive symptoms will be correlate with \"d\"</br>\n",
    "    2. emotional numbing symptoms will correlate with increase of \"b\""
   ]
  },
  {
   "cell_type": "code",
   "execution_count": 1,
   "id": "2c599891",
   "metadata": {},
   "outputs": [],
   "source": [
    "import pandas as pd\n",
    "import numpy as np\n",
    "import pymc as pm\n",
    "import arviz as az\n",
    "\n",
    "import matplotlib.pyplot as ply\n",
    "import seaborn as sns"
   ]
  },
  {
   "cell_type": "markdown",
   "id": "1d5a7ed3",
   "metadata": {},
   "source": [
    "create a single subject"
   ]
  },
  {
   "cell_type": "code",
   "execution_count": 2,
   "id": "50a956a6",
   "metadata": {},
   "outputs": [
    {
     "data": {
      "text/plain": [
       "<AxesSubplot:xlabel='x', ylabel='y'>"
      ]
     },
     "execution_count": 2,
     "metadata": {},
     "output_type": "execute_result"
    },
    {
     "data": {
      "image/png": "[encoded data removed]",
      "text/plain": [
       "<Figure size 432x288 with 1 Axes>"
      ]
     },
     "metadata": {
      "needs_background": "light"
     },
     "output_type": "display_data"
    }
   ],
   "source": [
    "trials = 100\n",
    "min_r = 0\n",
    "max_r = 4\n",
    "a = np.random.beta(1, 20, 1)[0]\n",
    "b = np.random.normal(10, 2.5, 1)[0]\n",
    "c = np.random.normal(2.5, .5, 1)[0]\n",
    "d = np.random.beta(10, 10, 1)[0]\n",
    "g = np.random.normal(1.1, .2, 1)[0]\n",
    "x = np.arange(min_r, max_r, max_r/trials)\n",
    "df = pd.DataFrame({'a': a,     \n",
    "                   'b': b,    \n",
    "                   'c': c,\n",
    "                   'd': d,\n",
    "                   'g': g,\n",
    "                   'x': x})\n",
    "#df['x'] = df.x/20\n",
    "df['y'] = df.d + (df.a-df.d)/(1+(df.x/df.c)**df.b)**df.g\n",
    "\n",
    "\n",
    "sns.lineplot(x='x',y='y',data=df)"
   ]
  },
  {
   "cell_type": "code",
   "execution_count": 3,
   "id": "15bb1527",
   "metadata": {},
   "outputs": [
    {
     "name": "stderr",
     "output_type": "stream",
     "text": [
      "Auto-assigning NUTS sampler...\n",
      "Initializing NUTS using jitter+adapt_diag...\n",
      "Multiprocess sampling (4 chains in 4 jobs)\n",
      "NUTS: [a, b, eps]\n"
     ]
    },
    {
     "data": {
      "text/html": [
       "\n",
       "<style>\n",
       "    /* Turns off some styling */\n",
       "    progress {\n",
       "        /* gets rid of default border in Firefox and Opera. */\n",
       "        border: none;\n",
       "        /* Needs to be in here for Safari polyfill so background images work as expected. */\n",
       "        background-size: auto;\n",
       "    }\n",
       "    progress:not([value]), progress:not([value])::-webkit-progress-bar {\n",
       "        background: repeating-linear-gradient(45deg, #7e7e7e, #7e7e7e 10px, #5c5c5c 10px, #5c5c5c 20px);\n",
       "    }\n",
       "    .progress-bar-interrupted, .progress-bar-interrupted::-webkit-progress-bar {\n",
       "        background: #F44336;\n",
       "    }\n",
       "</style>\n"
      ],
      "text/plain": [
       "<IPython.core.display.HTML object>"
      ]
     },
     "metadata": {},
     "output_type": "display_data"
    },
    {
     "data": {
      "text/html": [
       "\n",
       "    <div>\n",
       "      <progress value='12000' class='' max='12000' style='width:300px; height:20px; vertical-align: middle;'></progress>\n",
       "      100.00% [12000/12000 00:05&lt;00:00 Sampling 4 chains, 0 divergences]\n",
       "    </div>\n",
       "    "
      ],
      "text/plain": [
       "<IPython.core.display.HTML object>"
      ]
     },
     "metadata": {},
     "output_type": "display_data"
    },
    {
     "name": "stderr",
     "output_type": "stream",
     "text": [
      "Sampling 4 chains for 1_000 tune and 2_000 draw iterations (4_000 + 8_000 draws total) took 6 seconds.\n"
     ]
    }
   ],
   "source": [
    "with pm.Model() as linear:\n",
    "    a = pm.Normal('a', 0, 5)\n",
    "    b = pm.Normal('b', 1, 1)\n",
    "    \n",
    "    eps = pm.Exponential('eps', 5)\n",
    "    y_hat = a + b * df.x\n",
    "       \n",
    "    # Likelihood (sampling distribution) of observations\n",
    "    rating = pm.Normal('rating',y_hat, eps, observed=df['y'].values)\n",
    "    trace_l = pm.sample(2000, return_inferencedata=True, target_accept=0.9)"
   ]
  },
  {
   "cell_type": "code",
   "execution_count": 4,
   "id": "efc24b06",
   "metadata": {},
   "outputs": [
    {
     "name": "stderr",
     "output_type": "stream",
     "text": [
      "Auto-assigning NUTS sampler...\n",
      "Initializing NUTS using jitter+adapt_diag...\n",
      "Multiprocess sampling (4 chains in 4 jobs)\n",
      "NUTS: [a, b, c, d, eps]\n"
     ]
    },
    {
     "data": {
      "text/html": [
       "\n",
       "<style>\n",
       "    /* Turns off some styling */\n",
       "    progress {\n",
       "        /* gets rid of default border in Firefox and Opera. */\n",
       "        border: none;\n",
       "        /* Needs to be in here for Safari polyfill so background images work as expected. */\n",
       "        background-size: auto;\n",
       "    }\n",
       "    progress:not([value]), progress:not([value])::-webkit-progress-bar {\n",
       "        background: repeating-linear-gradient(45deg, #7e7e7e, #7e7e7e 10px, #5c5c5c 10px, #5c5c5c 20px);\n",
       "    }\n",
       "    .progress-bar-interrupted, .progress-bar-interrupted::-webkit-progress-bar {\n",
       "        background: #F44336;\n",
       "    }\n",
       "</style>\n"
      ],
      "text/plain": [
       "<IPython.core.display.HTML object>"
      ]
     },
     "metadata": {},
     "output_type": "display_data"
    },
    {
     "data": {
      "text/html": [
       "\n",
       "    <div>\n",
       "      <progress value='12000' class='' max='12000' style='width:300px; height:20px; vertical-align: middle;'></progress>\n",
       "      100.00% [12000/12000 00:08&lt;00:00 Sampling 4 chains, 0 divergences]\n",
       "    </div>\n",
       "    "
      ],
      "text/plain": [
       "<IPython.core.display.HTML object>"
      ]
     },
     "metadata": {},
     "output_type": "display_data"
    },
    {
     "name": "stderr",
     "output_type": "stream",
     "text": [
      "Sampling 4 chains for 1_000 tune and 2_000 draw iterations (4_000 + 8_000 draws total) took 9 seconds.\n"
     ]
    }
   ],
   "source": [
    "with pm.Model() as four_PL:\n",
    "    \n",
    "    \n",
    "    a = pm.Beta('a', 2, 10)\n",
    "    b = pm.Normal('b',10, 2.5)\n",
    "    c = pm.Normal('c',2.5, .5)\n",
    "    d = pm.Beta('d', 10, 10)\n",
    "    \n",
    "    eps = pm.Exponential('eps', 5)\n",
    "    y_hat = d + (a-d)/(1+(df['x'].values/c)**b)\n",
    "       \n",
    "    # Likelihood (sampling distribution) of observations\n",
    "    rating = pm.Normal('rating',y_hat, eps, observed=df['y'].values)\n",
    "    trace_4 = pm.sample(2000, return_inferencedata=True, target_accept=0.9)"
   ]
  },
  {
   "cell_type": "code",
   "execution_count": 5,
   "id": "db795678",
   "metadata": {},
   "outputs": [
    {
     "name": "stderr",
     "output_type": "stream",
     "text": [
      "Auto-assigning NUTS sampler...\n",
      "Initializing NUTS using jitter+adapt_diag...\n",
      "Multiprocess sampling (4 chains in 4 jobs)\n",
      "NUTS: [a, b, c, d, g, eps]\n"
     ]
    },
    {
     "data": {
      "text/html": [
       "\n",
       "<style>\n",
       "    /* Turns off some styling */\n",
       "    progress {\n",
       "        /* gets rid of default border in Firefox and Opera. */\n",
       "        border: none;\n",
       "        /* Needs to be in here for Safari polyfill so background images work as expected. */\n",
       "        background-size: auto;\n",
       "    }\n",
       "    progress:not([value]), progress:not([value])::-webkit-progress-bar {\n",
       "        background: repeating-linear-gradient(45deg, #7e7e7e, #7e7e7e 10px, #5c5c5c 10px, #5c5c5c 20px);\n",
       "    }\n",
       "    .progress-bar-interrupted, .progress-bar-interrupted::-webkit-progress-bar {\n",
       "        background: #F44336;\n",
       "    }\n",
       "</style>\n"
      ],
      "text/plain": [
       "<IPython.core.display.HTML object>"
      ]
     },
     "metadata": {},
     "output_type": "display_data"
    },
    {
     "data": {
      "text/html": [
       "\n",
       "    <div>\n",
       "      <progress value='16000' class='' max='16000' style='width:300px; height:20px; vertical-align: middle;'></progress>\n",
       "      100.00% [16000/16000 05:43&lt;00:00 Sampling 4 chains, 0 divergences]\n",
       "    </div>\n",
       "    "
      ],
      "text/plain": [
       "<IPython.core.display.HTML object>"
      ]
     },
     "metadata": {},
     "output_type": "display_data"
    },
    {
     "name": "stderr",
     "output_type": "stream",
     "text": [
      "Sampling 4 chains for 1_000 tune and 3_000 draw iterations (4_000 + 12_000 draws total) took 343 seconds.\n",
      "The chain reached the maximum tree depth. Increase max_treedepth, increase target_accept or reparameterize.\n",
      "The chain reached the maximum tree depth. Increase max_treedepth, increase target_accept or reparameterize.\n",
      "The chain reached the maximum tree depth. Increase max_treedepth, increase target_accept or reparameterize.\n",
      "The chain reached the maximum tree depth. Increase max_treedepth, increase target_accept or reparameterize.\n"
     ]
    }
   ],
   "source": [
    "with pm.Model() as five_PL:\n",
    "    \n",
    "    \n",
    "    a = pm.Beta('a', 1, 20)\n",
    "    b = pm.Normal('b',10, 2.5)\n",
    "    c = pm.Normal('c',2.5, .5)\n",
    "    d = pm.Beta('d', 10, 10)\n",
    "    g = pm.Normal('g', 1, .2)\n",
    "    \n",
    "    eps = pm.Exponential('eps', 5)\n",
    "    y_hat = d + (a-d)/(1+(df['x'].values/c)**b)**g\n",
    "       \n",
    "    # Likelihood (sampling distribution) of observations\n",
    "    rating = pm.Normal('rating',y_hat, eps, observed=df['y'].values)\n",
    "    trace_5 = pm.sample(3000, return_inferencedata=True, target_accept=0.95)"
   ]
  },
  {
   "cell_type": "code",
   "execution_count": 6,
   "id": "3cba1294",
   "metadata": {},
   "outputs": [
    {
     "data": {
      "text/html": [
       "<div>\n",
       "<style scoped>\n",
       "    .dataframe tbody tr th:only-of-type {\n",
       "        vertical-align: middle;\n",
       "    }\n",
       "\n",
       "    .dataframe tbody tr th {\n",
       "        vertical-align: top;\n",
       "    }\n",
       "\n",
       "    .dataframe thead th {\n",
       "        text-align: right;\n",
       "    }\n",
       "</style>\n",
       "<table border=\"1\" class=\"dataframe\">\n",
       "  <thead>\n",
       "    <tr style=\"text-align: right;\">\n",
       "      <th></th>\n",
       "      <th>rank</th>\n",
       "      <th>loo</th>\n",
       "      <th>p_loo</th>\n",
       "      <th>d_loo</th>\n",
       "      <th>weight</th>\n",
       "      <th>se</th>\n",
       "      <th>dse</th>\n",
       "      <th>warning</th>\n",
       "      <th>loo_scale</th>\n",
       "    </tr>\n",
       "  </thead>\n",
       "  <tbody>\n",
       "    <tr>\n",
       "      <th>5PL model</th>\n",
       "      <td>0</td>\n",
       "      <td>2341.780563</td>\n",
       "      <td>4.283183</td>\n",
       "      <td>0.000000</td>\n",
       "      <td>1.000000e+00</td>\n",
       "      <td>0.083230</td>\n",
       "      <td>0.000000</td>\n",
       "      <td>False</td>\n",
       "      <td>log</td>\n",
       "    </tr>\n",
       "    <tr>\n",
       "      <th>4PL model</th>\n",
       "      <td>1</td>\n",
       "      <td>586.803483</td>\n",
       "      <td>4.544468</td>\n",
       "      <td>1754.977080</td>\n",
       "      <td>4.107470e-11</td>\n",
       "      <td>4.608562</td>\n",
       "      <td>4.546194</td>\n",
       "      <td>False</td>\n",
       "      <td>log</td>\n",
       "    </tr>\n",
       "    <tr>\n",
       "      <th>Linear model</th>\n",
       "      <td>2</td>\n",
       "      <td>145.942062</td>\n",
       "      <td>2.357653</td>\n",
       "      <td>2195.838501</td>\n",
       "      <td>0.000000e+00</td>\n",
       "      <td>4.526657</td>\n",
       "      <td>4.525875</td>\n",
       "      <td>False</td>\n",
       "      <td>log</td>\n",
       "    </tr>\n",
       "  </tbody>\n",
       "</table>\n",
       "</div>"
      ],
      "text/plain": [
       "              rank          loo     p_loo        d_loo        weight  \\\n",
       "5PL model        0  2341.780563  4.283183     0.000000  1.000000e+00   \n",
       "4PL model        1   586.803483  4.544468  1754.977080  4.107470e-11   \n",
       "Linear model     2   145.942062  2.357653  2195.838501  0.000000e+00   \n",
       "\n",
       "                    se       dse  warning loo_scale  \n",
       "5PL model     0.083230  0.000000    False       log  \n",
       "4PL model     4.608562  4.546194    False       log  \n",
       "Linear model  4.526657  4.525875    False       log  "
      ]
     },
     "execution_count": 6,
     "metadata": {},
     "output_type": "execute_result"
    }
   ],
   "source": [
    "comp = az.compare({'Linear model': trace_l,'4PL model': trace_4, '5PL model':trace_5}, ic='loo')\n",
    "comp"
   ]
  },
  {
   "cell_type": "code",
   "execution_count": 7,
   "id": "426446de",
   "metadata": {},
   "outputs": [
    {
     "data": {
      "text/plain": [
       "<AxesSubplot:xlabel='Log'>"
      ]
     },
     "execution_count": 7,
     "metadata": {},
     "output_type": "execute_result"
    },
    {
     "data": {
      "image/png": "[encoded data removed]",
      "text/plain": [
       "<Figure size 432x216 with 1 Axes>"
      ]
     },
     "metadata": {
      "needs_background": "light"
     },
     "output_type": "display_data"
    }
   ],
   "source": [
    "az.plot_compare(comp)"
   ]
  },
  {
   "cell_type": "code",
   "execution_count": 8,
   "id": "1d7c9818",
   "metadata": {},
   "outputs": [],
   "source": [
    "al = az.summary(trace_l, var_names=['a'])[['mean']]\n",
    "bl = az.summary(trace_l, var_names=['b'])[['mean']]\n",
    "\n",
    "df_l = pd.DataFrame({'a': al['mean'][0],     \n",
    "                     'b': bl['mean'][0],    \n",
    "                     'x': x})\n",
    "\n",
    "df_l['y'] = df_l.a + df_l.b * df_l.x"
   ]
  },
  {
   "cell_type": "code",
   "execution_count": 9,
   "id": "234e5dd0",
   "metadata": {},
   "outputs": [],
   "source": [
    "a4 = az.summary(trace_4, var_names=['a'])[['mean']]\n",
    "b4 = az.summary(trace_4, var_names=['b'])[['mean']]\n",
    "c4 = az.summary(trace_4, var_names=['c'])[['mean']]\n",
    "d4 = az.summary(trace_4, var_names=['d'])[['mean']]\n",
    "\n",
    "df_4 = pd.DataFrame({'a': a4['mean'][0],     \n",
    "                     'b': b4['mean'][0],    \n",
    "                     'c': c4['mean'][0],\n",
    "                     'd': d4['mean'][0],\n",
    "                     'x': x})\n",
    "\n",
    "df_4['y'] = df_4.d + (df_4.a-df_4.d)/(1+(df_4.x/df_4.c)**df_4.b)"
   ]
  },
  {
   "cell_type": "code",
   "execution_count": 10,
   "id": "a8ab4a45",
   "metadata": {},
   "outputs": [],
   "source": [
    "a5 = az.summary(trace_5, var_names=['a'])[['mean']]\n",
    "b5 = az.summary(trace_5, var_names=['b'])[['mean']]\n",
    "c5 = az.summary(trace_5, var_names=['c'])[['mean']]\n",
    "d5 = az.summary(trace_5, var_names=['d'])[['mean']]\n",
    "g5 = az.summary(trace_5, var_names=['g'])[['mean']]\n",
    "\n",
    "df_5 = pd.DataFrame({'a': a5['mean'][0],     \n",
    "                     'b': b5['mean'][0],    \n",
    "                     'c': c5['mean'][0],\n",
    "                     'd': d5['mean'][0],\n",
    "                     'g': g5['mean'][0],\n",
    "                     'x': x})\n",
    "\n",
    "df_5['y'] = df_5.d + (df_5.a-df_5.d)/(1+(df_5.x/df_5.c)**df_5.b)**df_5.g"
   ]
  },
  {
   "cell_type": "code",
   "execution_count": 11,
   "id": "b157bbe2",
   "metadata": {},
   "outputs": [
    {
     "data": {
      "text/plain": [
       "<AxesSubplot:xlabel='x', ylabel='y'>"
      ]
     },
     "execution_count": 11,
     "metadata": {},
     "output_type": "execute_result"
    },
    {
     "data": {
      "image/png": "[encoded data removed]",
      "text/plain": [
       "<Figure size 432x288 with 1 Axes>"
      ]
     },
     "metadata": {
      "needs_background": "light"
     },
     "output_type": "display_data"
    }
   ],
   "source": [
    "sns.lineplot(x='x',y='y',data=df, color = 'blue')\n",
    "sns.lineplot(x='x',y='y',data=df_l, color = 'orange')\n",
    "sns.lineplot(x='x',y='y',data=df_4, color = 'green')\n",
    "sns.lineplot(x='x',y='y',data=df_5, color = 'black')"
   ]
  },
  {
   "cell_type": "markdown",
   "id": "591257d5",
   "metadata": {},
   "source": [
    "No noise all models work great\n",
    "if we add small noise?"
   ]
  },
  {
   "cell_type": "code",
   "execution_count": 12,
   "id": "b8ecd93c",
   "metadata": {},
   "outputs": [
    {
     "data": {
      "text/plain": [
       "<AxesSubplot:xlabel='x', ylabel='y'>"
      ]
     },
     "execution_count": 12,
     "metadata": {},
     "output_type": "execute_result"
    },
    {
     "data": {
      "image/png": "[encoded data removed]",
      "text/plain": [
       "<Figure size 432x288 with 1 Axes>"
      ]
     },
     "metadata": {
      "needs_background": "light"
     },
     "output_type": "display_data"
    }
   ],
   "source": [
    "df_noise = pd.DataFrame()\n",
    "df_noise['a'] = df.a #+ np.random.normal(.02, .01, trials)**2\n",
    "df_noise['b'] = df.b #+ np.random.normal(1, 1, trials)\n",
    "df_noise['c'] = df.c #+ np.random.normal(.1, .1, trials)\n",
    "df_noise['d'] = df.d #+ np.random.normal(.01, .01, trials)**2\n",
    "df_noise['g'] = df.g #+ np.random.normal(.2, .2, trials)\n",
    "df_noise['x'] = df.x\n",
    "df_noise['y'] = df_noise.d + (df_noise.a-df_noise.d)/(1+(df_noise.x/df_noise.c)**df_noise.b)**df_noise.g + np.random.normal(0, .05, trials)\n",
    "\n",
    "sns.lineplot(x='x',y='y',data=df_noise)"
   ]
  },
  {
   "cell_type": "code",
   "execution_count": 13,
   "id": "02da7b78",
   "metadata": {},
   "outputs": [
    {
     "name": "stderr",
     "output_type": "stream",
     "text": [
      "Auto-assigning NUTS sampler...\n",
      "Initializing NUTS using jitter+adapt_diag...\n",
      "Multiprocess sampling (4 chains in 4 jobs)\n",
      "NUTS: [a, b, c, d, g, eps]\n"
     ]
    },
    {
     "data": {
      "text/html": [
       "\n",
       "<style>\n",
       "    /* Turns off some styling */\n",
       "    progress {\n",
       "        /* gets rid of default border in Firefox and Opera. */\n",
       "        border: none;\n",
       "        /* Needs to be in here for Safari polyfill so background images work as expected. */\n",
       "        background-size: auto;\n",
       "    }\n",
       "    progress:not([value]), progress:not([value])::-webkit-progress-bar {\n",
       "        background: repeating-linear-gradient(45deg, #7e7e7e, #7e7e7e 10px, #5c5c5c 10px, #5c5c5c 20px);\n",
       "    }\n",
       "    .progress-bar-interrupted, .progress-bar-interrupted::-webkit-progress-bar {\n",
       "        background: #F44336;\n",
       "    }\n",
       "</style>\n"
      ],
      "text/plain": [
       "<IPython.core.display.HTML object>"
      ]
     },
     "metadata": {},
     "output_type": "display_data"
    },
    {
     "data": {
      "text/html": [
       "\n",
       "    <div>\n",
       "      <progress value='16000' class='' max='16000' style='width:300px; height:20px; vertical-align: middle;'></progress>\n",
       "      100.00% [16000/16000 00:21&lt;00:00 Sampling 4 chains, 1 divergences]\n",
       "    </div>\n",
       "    "
      ],
      "text/plain": [
       "<IPython.core.display.HTML object>"
      ]
     },
     "metadata": {},
     "output_type": "display_data"
    },
    {
     "name": "stderr",
     "output_type": "stream",
     "text": [
      "Sampling 4 chains for 1_000 tune and 3_000 draw iterations (4_000 + 12_000 draws total) took 22 seconds.\n",
      "There was 1 divergence after tuning. Increase `target_accept` or reparameterize.\n"
     ]
    }
   ],
   "source": [
    "with pm.Model() as five_PL:\n",
    "        \n",
    "    \n",
    "    a = pm.Beta('a', 1, 20)\n",
    "    b = pm.Normal('b',10, 2.5)\n",
    "    c = pm.Normal('c',2.5, .5)\n",
    "    d = pm.Beta('d', 10, 10)\n",
    "    g = pm.Normal('g', 1, .2)\n",
    "    \n",
    "    eps = pm.Exponential('eps', 5)\n",
    "    y_hat = d + (a-d)/(1+(df_noise['x'].values/c)**b)**g\n",
    "       \n",
    "    # Likelihood (sampling distribution) of observations\n",
    "    rating = pm.Normal('rating',y_hat, eps, observed=df_noise['y'].values)\n",
    "    \n",
    "    trace_5_n = pm.sample(3000, return_inferencedata=True, target_accept=0.95)"
   ]
  },
  {
   "cell_type": "code",
   "execution_count": 14,
   "id": "5208b308",
   "metadata": {},
   "outputs": [],
   "source": [
    "a5 = az.summary(trace_5_n, var_names=['a'])[['mean']]\n",
    "b5 = az.summary(trace_5_n, var_names=['b'])[['mean']]\n",
    "c5 = az.summary(trace_5_n, var_names=['c'])[['mean']]\n",
    "d5 = az.summary(trace_5_n, var_names=['d'])[['mean']]\n",
    "g5 = az.summary(trace_5_n, var_names=['g'])[['mean']]\n",
    "\n",
    "df_5_n = pd.DataFrame({'a': a5['mean'][0],     \n",
    "                       'b': b5['mean'][0],    \n",
    "                       'c': c5['mean'][0],\n",
    "                       'd': d5['mean'][0],\n",
    "                       'g': g5['mean'][0],\n",
    "                       'x': x})\n",
    "\n",
    "df_5_n['y'] = df_5_n.d + (df_5_n.a-df_5_n.d)/(1+(df_5_n.x/df_5_n.c)**df_5_n.b)**df_5_n.g"
   ]
  },
  {
   "cell_type": "code",
   "execution_count": 15,
   "id": "0e48ae71",
   "metadata": {},
   "outputs": [
    {
     "data": {
      "text/plain": [
       "<AxesSubplot:xlabel='x', ylabel='y'>"
      ]
     },
     "execution_count": 15,
     "metadata": {},
     "output_type": "execute_result"
    },
    {
     "data": {
      "image/png": "[encoded data removed]",
      "text/plain": [
       "<Figure size 432x288 with 1 Axes>"
      ]
     },
     "metadata": {
      "needs_background": "light"
     },
     "output_type": "display_data"
    }
   ],
   "source": [
    "sns.lineplot(x='x',y='y',data=df_noise)\n",
    "sns.lineplot(x='x',y='y',data=df_5_n)"
   ]
  },
  {
   "cell_type": "code",
   "execution_count": 16,
   "id": "7066ab3a",
   "metadata": {},
   "outputs": [
    {
     "data": {
      "text/plain": [
       "<AxesSubplot:xlabel='x', ylabel='y'>"
      ]
     },
     "execution_count": 16,
     "metadata": {},
     "output_type": "execute_result"
    },
    {
     "data": {
      "image/png": "[encoded data removed]",
      "text/plain": [
       "<Figure size 432x288 with 1 Axes>"
      ]
     },
     "metadata": {
      "needs_background": "light"
     },
     "output_type": "display_data"
    }
   ],
   "source": [
    "# More noise\n",
    "df_noise = pd.DataFrame()\n",
    "df_noise['a'] = df.a #+ np.random.normal(.02, .01, trials)**2\n",
    "df_noise['b'] = df.b #+ np.random.normal(1, 1, trials)\n",
    "df_noise['c'] = df.c #+ np.random.normal(.1, .1, trials)\n",
    "df_noise['d'] = df.d #+ np.random.normal(.01, .01, trials)**2\n",
    "df_noise['g'] = df.g #+ np.random.normal(.2, .2, trials)\n",
    "df_noise['x'] = df.x\n",
    "df_noise['y'] = df_noise.d + (df_noise.a-df_noise.d)/(1+(df_noise.x/df_noise.c)**df_noise.b)**df_noise.g + np.random.normal(0, .1, trials)\n",
    "\n",
    "sns.lineplot(x='x',y='y',data=df_noise)"
   ]
  },
  {
   "cell_type": "code",
   "execution_count": 17,
   "id": "7c1143e9",
   "metadata": {},
   "outputs": [
    {
     "name": "stderr",
     "output_type": "stream",
     "text": [
      "Auto-assigning NUTS sampler...\n",
      "Initializing NUTS using jitter+adapt_diag...\n",
      "Multiprocess sampling (4 chains in 4 jobs)\n",
      "NUTS: [a, b, c, d, g, eps]\n"
     ]
    },
    {
     "data": {
      "text/html": [
       "\n",
       "<style>\n",
       "    /* Turns off some styling */\n",
       "    progress {\n",
       "        /* gets rid of default border in Firefox and Opera. */\n",
       "        border: none;\n",
       "        /* Needs to be in here for Safari polyfill so background images work as expected. */\n",
       "        background-size: auto;\n",
       "    }\n",
       "    progress:not([value]), progress:not([value])::-webkit-progress-bar {\n",
       "        background: repeating-linear-gradient(45deg, #7e7e7e, #7e7e7e 10px, #5c5c5c 10px, #5c5c5c 20px);\n",
       "    }\n",
       "    .progress-bar-interrupted, .progress-bar-interrupted::-webkit-progress-bar {\n",
       "        background: #F44336;\n",
       "    }\n",
       "</style>\n"
      ],
      "text/plain": [
       "<IPython.core.display.HTML object>"
      ]
     },
     "metadata": {},
     "output_type": "display_data"
    },
    {
     "data": {
      "text/html": [
       "\n",
       "    <div>\n",
       "      <progress value='16000' class='' max='16000' style='width:300px; height:20px; vertical-align: middle;'></progress>\n",
       "      100.00% [16000/16000 00:18&lt;00:00 Sampling 4 chains, 0 divergences]\n",
       "    </div>\n",
       "    "
      ],
      "text/plain": [
       "<IPython.core.display.HTML object>"
      ]
     },
     "metadata": {},
     "output_type": "display_data"
    },
    {
     "name": "stderr",
     "output_type": "stream",
     "text": [
      "Sampling 4 chains for 1_000 tune and 3_000 draw iterations (4_000 + 12_000 draws total) took 19 seconds.\n"
     ]
    }
   ],
   "source": [
    "with pm.Model() as five_PL:\n",
    "        \n",
    "    \n",
    "    a = pm.Beta('a', 1, 20)\n",
    "    b = pm.Normal('b',10, 2.5)\n",
    "    c = pm.Normal('c',2.5, .5)\n",
    "    d = pm.Beta('d', 10, 10)\n",
    "    g = pm.Normal('g', 1, .2)\n",
    "    \n",
    "    eps = pm.Exponential('eps', 5)\n",
    "    y_hat = d + (a-d)/(1+(df_noise['x'].values/c)**b)**g\n",
    "       \n",
    "    # Likelihood (sampling distribution) of observations\n",
    "    rating = pm.Normal('rating',y_hat, eps, observed=df_noise['y'].values)\n",
    "    \n",
    "    trace_5_n = pm.sample(3000, return_inferencedata=True, target_accept=0.95)"
   ]
  },
  {
   "cell_type": "code",
   "execution_count": 18,
   "id": "82613672",
   "metadata": {},
   "outputs": [],
   "source": [
    "a5 = az.summary(trace_5_n, var_names=['a'])[['mean']]\n",
    "b5 = az.summary(trace_5_n, var_names=['b'])[['mean']]\n",
    "c5 = az.summary(trace_5_n, var_names=['c'])[['mean']]\n",
    "d5 = az.summary(trace_5_n, var_names=['d'])[['mean']]\n",
    "g5 = az.summary(trace_5_n, var_names=['g'])[['mean']]\n",
    "\n",
    "df_5_n = pd.DataFrame({'a': a5['mean'][0],     \n",
    "                       'b': b5['mean'][0],    \n",
    "                       'c': c5['mean'][0],\n",
    "                       'd': d5['mean'][0],\n",
    "                       'g': g5['mean'][0],\n",
    "                       'x': x})\n",
    "\n",
    "df_5_n['y'] = df_5_n.d + (df_5_n.a-df_5_n.d)/(1+(df_5_n.x/df_5_n.c)**df_5_n.b)**df_5_n.g"
   ]
  },
  {
   "cell_type": "code",
   "execution_count": 19,
   "id": "164bac5f",
   "metadata": {},
   "outputs": [
    {
     "data": {
      "text/plain": [
       "<AxesSubplot:xlabel='x', ylabel='y'>"
      ]
     },
     "execution_count": 19,
     "metadata": {},
     "output_type": "execute_result"
    },
    {
     "data": {
      "image/png": "[encoded data removed]",
      "text/plain": [
       "<Figure size 432x288 with 1 Axes>"
      ]
     },
     "metadata": {
      "needs_background": "light"
     },
     "output_type": "display_data"
    }
   ],
   "source": [
    "sns.lineplot(x='x',y='y',data=df_noise)\n",
    "sns.lineplot(x='x',y='y',data=df_5_n)"
   ]
  },
  {
   "cell_type": "code",
   "execution_count": 20,
   "id": "b41a35d9",
   "metadata": {},
   "outputs": [
    {
     "data": {
      "text/plain": [
       "<AxesSubplot:xlabel='x', ylabel='y'>"
      ]
     },
     "execution_count": 20,
     "metadata": {},
     "output_type": "execute_result"
    },
    {
     "data": {
      "image/png": "[encoded data removed]",
      "text/plain": [
       "<Figure size 432x288 with 1 Axes>"
      ]
     },
     "metadata": {
      "needs_background": "light"
     },
     "output_type": "display_data"
    }
   ],
   "source": [
    "# Even more noise\n",
    "df_noise = pd.DataFrame()\n",
    "df_noise['a'] = df.a #+ np.random.normal(.02, .01, trials)**2\n",
    "df_noise['b'] = df.b #+ np.random.normal(1, 1, trials)\n",
    "df_noise['c'] = df.c #+ np.random.normal(.1, .1, trials)\n",
    "df_noise['d'] = df.d #+ np.random.normal(.01, .01, trials)**2\n",
    "df_noise['g'] = df.g #+ np.random.normal(.2, .2, trials)\n",
    "df_noise['x'] = df.x\n",
    "df_noise['y'] = df_noise.d + (df_noise.a-df_noise.d)/(1+(df_noise.x/df_noise.c)**df_noise.b)**df_noise.g + np.random.normal(0, .2, trials)\n",
    "\n",
    "sns.lineplot(x='x',y='y',data=df_noise)"
   ]
  },
  {
   "cell_type": "code",
   "execution_count": 21,
   "id": "e2f9e7b3",
   "metadata": {},
   "outputs": [
    {
     "name": "stderr",
     "output_type": "stream",
     "text": [
      "Auto-assigning NUTS sampler...\n",
      "Initializing NUTS using jitter+adapt_diag...\n",
      "Multiprocess sampling (4 chains in 4 jobs)\n",
      "NUTS: [a, b, c, d, g, eps]\n"
     ]
    },
    {
     "data": {
      "text/html": [
       "\n",
       "<style>\n",
       "    /* Turns off some styling */\n",
       "    progress {\n",
       "        /* gets rid of default border in Firefox and Opera. */\n",
       "        border: none;\n",
       "        /* Needs to be in here for Safari polyfill so background images work as expected. */\n",
       "        background-size: auto;\n",
       "    }\n",
       "    progress:not([value]), progress:not([value])::-webkit-progress-bar {\n",
       "        background: repeating-linear-gradient(45deg, #7e7e7e, #7e7e7e 10px, #5c5c5c 10px, #5c5c5c 20px);\n",
       "    }\n",
       "    .progress-bar-interrupted, .progress-bar-interrupted::-webkit-progress-bar {\n",
       "        background: #F44336;\n",
       "    }\n",
       "</style>\n"
      ],
      "text/plain": [
       "<IPython.core.display.HTML object>"
      ]
     },
     "metadata": {},
     "output_type": "display_data"
    },
    {
     "data": {
      "text/html": [
       "\n",
       "    <div>\n",
       "      <progress value='16000' class='' max='16000' style='width:300px; height:20px; vertical-align: middle;'></progress>\n",
       "      100.00% [16000/16000 00:11&lt;00:00 Sampling 4 chains, 0 divergences]\n",
       "    </div>\n",
       "    "
      ],
      "text/plain": [
       "<IPython.core.display.HTML object>"
      ]
     },
     "metadata": {},
     "output_type": "display_data"
    },
    {
     "name": "stderr",
     "output_type": "stream",
     "text": [
      "Sampling 4 chains for 1_000 tune and 3_000 draw iterations (4_000 + 12_000 draws total) took 12 seconds.\n"
     ]
    }
   ],
   "source": [
    "with pm.Model() as five_PL:\n",
    "        \n",
    "    \n",
    "    a = pm.Beta('a', 1, 20)\n",
    "    b = pm.Normal('b',10, 2.5)\n",
    "    c = pm.Normal('c',2.5, .5)\n",
    "    d = pm.Beta('d', 10, 10)\n",
    "    g = pm.Normal('g', 1, .2)\n",
    "    \n",
    "    eps = pm.Exponential('eps', 5)\n",
    "    y_hat = d + (a-d)/(1+(df_noise['x'].values/c)**b)**g\n",
    "       \n",
    "    # Likelihood (sampling distribution) of observations\n",
    "    rating = pm.Normal('rating',y_hat, eps, observed=df_noise['y'].values)\n",
    "    \n",
    "    trace_5_n = pm.sample(3000, return_inferencedata=True, target_accept=0.95)"
   ]
  },
  {
   "cell_type": "code",
   "execution_count": 22,
   "id": "189b1bfa",
   "metadata": {},
   "outputs": [],
   "source": [
    "a5 = az.summary(trace_5_n, var_names=['a'])[['mean']]\n",
    "b5 = az.summary(trace_5_n, var_names=['b'])[['mean']]\n",
    "c5 = az.summary(trace_5_n, var_names=['c'])[['mean']]\n",
    "d5 = az.summary(trace_5_n, var_names=['d'])[['mean']]\n",
    "g5 = az.summary(trace_5_n, var_names=['g'])[['mean']]\n",
    "\n",
    "df_5_n = pd.DataFrame({'a': a5['mean'][0],     \n",
    "                       'b': b5['mean'][0],    \n",
    "                       'c': c5['mean'][0],\n",
    "                       'd': d5['mean'][0],\n",
    "                       'g': g5['mean'][0],\n",
    "                       'x': x})\n",
    "\n",
    "df_5_n['y'] = df_5_n.d + (df_5_n.a-df_5_n.d)/(1+(df_5_n.x/df_5_n.c)**df_5_n.b)**df_5_n.g"
   ]
  },
  {
   "cell_type": "code",
   "execution_count": 23,
   "id": "bdc69cdd",
   "metadata": {},
   "outputs": [
    {
     "data": {
      "text/plain": [
       "<AxesSubplot:xlabel='x', ylabel='y'>"
      ]
     },
     "execution_count": 23,
     "metadata": {},
     "output_type": "execute_result"
    },
    {
     "data": {
      "image/png": "[encoded data removed]",
      "text/plain": [
       "<Figure size 432x288 with 1 Axes>"
      ]
     },
     "metadata": {
      "needs_background": "light"
     },
     "output_type": "display_data"
    }
   ],
   "source": [
    "sns.lineplot(x='x',y='y',data=df_noise)\n",
    "sns.lineplot(x='x',y='y',data=df_5_n)"
   ]
  },
  {
   "cell_type": "markdown",
   "id": "8a4146e1",
   "metadata": {},
   "source": [
    "Can I fit a 5PL model to linear data?"
   ]
  },
  {
   "cell_type": "code",
   "execution_count": 29,
   "id": "e3045da6",
   "metadata": {},
   "outputs": [
    {
     "data": {
      "text/plain": [
       "<AxesSubplot:>"
      ]
     },
     "execution_count": 29,
     "metadata": {},
     "output_type": "execute_result"
    },
    {
     "data": {
      "image/png": "[encoded data removed]",
      "text/plain": [
       "<Figure size 432x288 with 1 Axes>"
      ]
     },
     "metadata": {
      "needs_background": "light"
     },
     "output_type": "display_data"
    }
   ],
   "source": [
    "y = x/8\n",
    "sns.lineplot(x=x,y=y)"
   ]
  },
  {
   "cell_type": "code",
   "execution_count": 30,
   "id": "28f736d7",
   "metadata": {},
   "outputs": [
    {
     "name": "stderr",
     "output_type": "stream",
     "text": [
      "Auto-assigning NUTS sampler...\n",
      "Initializing NUTS using jitter+adapt_diag...\n",
      "Multiprocess sampling (4 chains in 4 jobs)\n",
      "NUTS: [a, b, c, d, g, eps]\n"
     ]
    },
    {
     "data": {
      "text/html": [
       "\n",
       "<style>\n",
       "    /* Turns off some styling */\n",
       "    progress {\n",
       "        /* gets rid of default border in Firefox and Opera. */\n",
       "        border: none;\n",
       "        /* Needs to be in here for Safari polyfill so background images work as expected. */\n",
       "        background-size: auto;\n",
       "    }\n",
       "    progress:not([value]), progress:not([value])::-webkit-progress-bar {\n",
       "        background: repeating-linear-gradient(45deg, #7e7e7e, #7e7e7e 10px, #5c5c5c 10px, #5c5c5c 20px);\n",
       "    }\n",
       "    .progress-bar-interrupted, .progress-bar-interrupted::-webkit-progress-bar {\n",
       "        background: #F44336;\n",
       "    }\n",
       "</style>\n"
      ],
      "text/plain": [
       "<IPython.core.display.HTML object>"
      ]
     },
     "metadata": {},
     "output_type": "display_data"
    },
    {
     "data": {
      "text/html": [
       "\n",
       "    <div>\n",
       "      <progress value='16000' class='' max='16000' style='width:300px; height:20px; vertical-align: middle;'></progress>\n",
       "      100.00% [16000/16000 01:56&lt;00:00 Sampling 4 chains, 0 divergences]\n",
       "    </div>\n",
       "    "
      ],
      "text/plain": [
       "<IPython.core.display.HTML object>"
      ]
     },
     "metadata": {},
     "output_type": "display_data"
    },
    {
     "name": "stderr",
     "output_type": "stream",
     "text": [
      "Sampling 4 chains for 1_000 tune and 3_000 draw iterations (4_000 + 12_000 draws total) took 117 seconds.\n"
     ]
    }
   ],
   "source": [
    "with pm.Model() as five_PL:\n",
    "        \n",
    "    \n",
    "    a = pm.Beta('a', 1, 20)\n",
    "    b = pm.Normal('b',10, 2.5)\n",
    "    c = pm.Normal('c',2.5, .5)\n",
    "    d = pm.Beta('d', 10, 10)\n",
    "    g = pm.Normal('g', 1, .2)\n",
    "    \n",
    "    eps = pm.Exponential('eps', 5)\n",
    "    y_hat = d + (a-d)/(1+(x/c)**b)**g\n",
    "       \n",
    "    # Likelihood (sampling distribution) of observations\n",
    "    rating = pm.Normal('rating',y_hat, eps, observed=y)\n",
    "    \n",
    "    trace_5_lin = pm.sample(3000, return_inferencedata=True, target_accept=0.95)"
   ]
  },
  {
   "cell_type": "code",
   "execution_count": 31,
   "id": "8298da0d",
   "metadata": {},
   "outputs": [],
   "source": [
    "a5 = az.summary(trace_5_lin, var_names=['a'])[['mean']]\n",
    "b5 = az.summary(trace_5_lin, var_names=['b'])[['mean']]\n",
    "c5 = az.summary(trace_5_lin, var_names=['c'])[['mean']]\n",
    "d5 = az.summary(trace_5_lin, var_names=['d'])[['mean']]\n",
    "g5 = az.summary(trace_5_lin, var_names=['g'])[['mean']]\n",
    "\n",
    "df_5_lin = pd.DataFrame({'a': a5['mean'][0],     \n",
    "                       'b': b5['mean'][0],    \n",
    "                       'c': c5['mean'][0],\n",
    "                       'd': d5['mean'][0],\n",
    "                       'g': g5['mean'][0],\n",
    "                       'x': x})\n",
    "\n",
    "df_5_lin['y'] = df_5_lin.d + (df_5_lin.a-df_5_lin.d)/(1+(df_5_lin.x/df_5_lin.c)**df_5_lin.b)**df_5_lin.g"
   ]
  },
  {
   "cell_type": "code",
   "execution_count": 32,
   "id": "6c3e99cb",
   "metadata": {},
   "outputs": [
    {
     "data": {
      "text/plain": [
       "<AxesSubplot:xlabel='x', ylabel='y'>"
      ]
     },
     "execution_count": 32,
     "metadata": {},
     "output_type": "execute_result"
    },
    {
     "data": {
      "image/png": "[encoded data removed]",
      "text/plain": [
       "<Figure size 432x288 with 1 Axes>"
      ]
     },
     "metadata": {
      "needs_background": "light"
     },
     "output_type": "display_data"
    }
   ],
   "source": [
    "sns.lineplot(x=x,y=y)\n",
    "sns.lineplot(x='x',y='y',data=df_5_lin)"
   ]
  }
 ],
 "metadata": {
  "kernelspec": {
   "display_name": "Python 3 (ipykernel)",
   "language": "python",
   "name": "python3"
  },
  "language_info": {
   "codemirror_mode": {
    "name": "ipython",
    "version": 3
   },
   "file_extension": ".py",
   "mimetype": "text/x-python",
   "name": "python",
   "nbconvert_exporter": "python",
   "pygments_lexer": "ipython3",
   "version": "3.9.13"
  }
 },
 "nbformat": 4,
 "nbformat_minor": 5
}
