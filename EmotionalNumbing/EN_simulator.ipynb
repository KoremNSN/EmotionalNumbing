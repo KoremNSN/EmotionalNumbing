{
 "cells": [
  {
   "cell_type": "markdown",
   "id": "a58cffff",
   "metadata": {},
   "source": [
    "# Emotional numbing as a 5PL regression model\n",
    "\n",
    "y = d + (a-d)/(1+(x/c)^b)^g\n",
    "\n",
    "a theortical response at min</br>\n",
    "b slope factor</br>\n",
    "c mid range </br>\n",
    "d therotical response at max</br>\n",
    "g asymetrical factor</br>\n",
    "\n",
    "Participants will rate pictures valence.</br>\n",
    "We will fit a curve to the valence rating and \"known\" valence based on the mean from the dataset it was taken from.</br>\n",
    "Hypothesis: </br>\n",
    "    1. Depressive symptoms will be correlate with \"d\"</br>\n",
    "    2. emotional numbing symptoms will correlate with increase of \"b\""
   ]
  },
  {
   "cell_type": "code",
   "execution_count": 1,
   "id": "2c599891",
   "metadata": {},
   "outputs": [],
   "source": [
    "import pandas as pd\n",
    "import numpy as np\n",
    "\n",
    "import pymc as pm\n",
    "import arviz as az\n",
    "\n",
    "import matplotlib.pyplot as ply\n",
    "import seaborn as sns"
   ]
  },
  {
   "cell_type": "markdown",
   "id": "1d5a7ed3",
   "metadata": {},
   "source": [
    "create a single subject"
   ]
  },
  {
   "cell_type": "code",
   "execution_count": 2,
   "id": "50a956a6",
   "metadata": {},
   "outputs": [
    {
     "data": {
      "text/plain": [
       "<AxesSubplot:xlabel='x', ylabel='y'>"
      ]
     },
     "execution_count": 2,
     "metadata": {},
     "output_type": "execute_result"
    },
    {
     "data": {
      "image/png": "[encoded data removed]",
      "text/plain": [
       "<Figure size 432x288 with 1 Axes>"
      ]
     },
     "metadata": {
      "needs_background": "light"
     },
     "output_type": "display_data"
    }
   ],
   "source": [
    "trials = 100\n",
    "min_r = 0\n",
    "max_r = 4\n",
    "a = np.random.beta(1, 20, 1)[0]\n",
    "b = np.random.normal(10, 2.5, 1)[0]\n",
    "c = np.random.normal(2.5, .5, 1)[0]\n",
    "d = np.random.beta(10, 10, 1)[0]\n",
    "g = np.random.normal(1.1, .2, 1)[0]\n",
    "x = np.arange(min_r, max_r, max_r/trials)\n",
    "df = pd.DataFrame({'a': a,     \n",
    "                   'b': b,    \n",
    "                   'c': c,\n",
    "                   'd': d,\n",
    "                   'g': g,\n",
    "                   'x': x})\n",
    "df['y'] = df.d + (df.a-df.d)/(1+(df.x/df.c)**df.b)**df.g\n",
    "\n",
    "sns.lineplot(x='x',y='y',data=df)"
   ]
  },
  {
   "cell_type": "code",
   "execution_count": 3,
   "id": "15bb1527",
   "metadata": {},
   "outputs": [
    {
     "name": "stderr",
     "output_type": "stream",
     "text": [
      "Auto-assigning NUTS sampler...\n",
      "Initializing NUTS using jitter+adapt_diag...\n",
      "Multiprocess sampling (4 chains in 4 jobs)\n",
      "NUTS: [a, b, eps]\n"
     ]
    },
    {
     "data": {
      "text/html": [
       "\n",
       "<style>\n",
       "    /* Turns off some styling */\n",
       "    progress {\n",
       "        /* gets rid of default border in Firefox and Opera. */\n",
       "        border: none;\n",
       "        /* Needs to be in here for Safari polyfill so background images work as expected. */\n",
       "        background-size: auto;\n",
       "    }\n",
       "    progress:not([value]), progress:not([value])::-webkit-progress-bar {\n",
       "        background: repeating-linear-gradient(45deg, #7e7e7e, #7e7e7e 10px, #5c5c5c 10px, #5c5c5c 20px);\n",
       "    }\n",
       "    .progress-bar-interrupted, .progress-bar-interrupted::-webkit-progress-bar {\n",
       "        background: #F44336;\n",
       "    }\n",
       "</style>\n"
      ],
      "text/plain": [
       "<IPython.core.display.HTML object>"
      ]
     },
     "metadata": {},
     "output_type": "display_data"
    },
    {
     "data": {
      "text/html": [
       "\n",
       "    <div>\n",
       "      <progress value='12000' class='' max='12000' style='width:300px; height:20px; vertical-align: middle;'></progress>\n",
       "      100.00% [12000/12000 00:07&lt;00:00 Sampling 4 chains, 0 divergences]\n",
       "    </div>\n",
       "    "
      ],
      "text/plain": [
       "<IPython.core.display.HTML object>"
      ]
     },
     "metadata": {},
     "output_type": "display_data"
    },
    {
     "name": "stderr",
     "output_type": "stream",
     "text": [
      "Sampling 4 chains for 1_000 tune and 2_000 draw iterations (4_000 + 8_000 draws total) took 7 seconds.\n"
     ]
    }
   ],
   "source": [
    "with pm.Model() as linear:\n",
    "    a = pm.Normal('a', 0, 5)\n",
    "    b = pm.Normal('b', 1, 1)\n",
    "    \n",
    "    eps = pm.Exponential('eps', 5)\n",
    "    y_hat = a + b * df.x\n",
    "       \n",
    "    # Likelihood (sampling distribution) of observations\n",
    "    rating = pm.Normal('rating',y_hat, eps, observed=df['y'].values)\n",
    "    trace_l = pm.sample(2000, return_inferencedata=True, target_accept=0.9)"
   ]
  },
  {
   "cell_type": "code",
   "execution_count": 4,
   "id": "db795678",
   "metadata": {},
   "outputs": [
    {
     "name": "stderr",
     "output_type": "stream",
     "text": [
      "Auto-assigning NUTS sampler...\n",
      "Initializing NUTS using jitter+adapt_diag...\n",
      "Multiprocess sampling (4 chains in 4 jobs)\n",
      "NUTS: [a, b, c, d, g, eps]\n"
     ]
    },
    {
     "data": {
      "text/html": [
       "\n",
       "<style>\n",
       "    /* Turns off some styling */\n",
       "    progress {\n",
       "        /* gets rid of default border in Firefox and Opera. */\n",
       "        border: none;\n",
       "        /* Needs to be in here for Safari polyfill so background images work as expected. */\n",
       "        background-size: auto;\n",
       "    }\n",
       "    progress:not([value]), progress:not([value])::-webkit-progress-bar {\n",
       "        background: repeating-linear-gradient(45deg, #7e7e7e, #7e7e7e 10px, #5c5c5c 10px, #5c5c5c 20px);\n",
       "    }\n",
       "    .progress-bar-interrupted, .progress-bar-interrupted::-webkit-progress-bar {\n",
       "        background: #F44336;\n",
       "    }\n",
       "</style>\n"
      ],
      "text/plain": [
       "<IPython.core.display.HTML object>"
      ]
     },
     "metadata": {},
     "output_type": "display_data"
    },
    {
     "data": {
      "text/html": [
       "\n",
       "    <div>\n",
       "      <progress value='16000' class='' max='16000' style='width:300px; height:20px; vertical-align: middle;'></progress>\n",
       "      100.00% [16000/16000 07:59&lt;00:00 Sampling 4 chains, 0 divergences]\n",
       "    </div>\n",
       "    "
      ],
      "text/plain": [
       "<IPython.core.display.HTML object>"
      ]
     },
     "metadata": {},
     "output_type": "display_data"
    },
    {
     "name": "stderr",
     "output_type": "stream",
     "text": [
      "Sampling 4 chains for 1_000 tune and 3_000 draw iterations (4_000 + 12_000 draws total) took 479 seconds.\n",
      "The chain reached the maximum tree depth. Increase max_treedepth, increase target_accept or reparameterize.\n",
      "The chain reached the maximum tree depth. Increase max_treedepth, increase target_accept or reparameterize.\n",
      "The chain reached the maximum tree depth. Increase max_treedepth, increase target_accept or reparameterize.\n",
      "The chain reached the maximum tree depth. Increase max_treedepth, increase target_accept or reparameterize.\n"
     ]
    }
   ],
   "source": [
    "with pm.Model() as five_PL:\n",
    "    \n",
    "    a = pm.Beta('a', 1, 20)\n",
    "    b = pm.Normal('b',10, 2.5)\n",
    "    c = pm.Normal('c',2.5, .5)\n",
    "    d = pm.Beta('d', 10, 10)\n",
    "    g = pm.Normal('g', 1, .2)\n",
    "    \n",
    "    eps = pm.Exponential('eps', 5)\n",
    "    y_hat = d + (a-d)/(1+(df['x'].values/c)**b)**g\n",
    "       \n",
    "    # Likelihood (sampling distribution) of observations\n",
    "    rating = pm.Normal('rating',y_hat, eps, observed=df['y'].values)\n",
    "    trace_5 = pm.sample(3000, return_inferencedata=True, target_accept=0.95)"
   ]
  },
  {
   "cell_type": "code",
   "execution_count": 6,
   "id": "1c7b5de5",
   "metadata": {},
   "outputs": [
    {
     "name": "stderr",
     "output_type": "stream",
     "text": [
      "Auto-assigning NUTS sampler...\n",
      "Initializing NUTS using jitter+adapt_diag...\n",
      "Multiprocess sampling (4 chains in 4 jobs)\n",
      "NUTS: [mu_b, mu_c, mu_g, a1, a2, d1, d2, a, b, c, d, g, eps]\n"
     ]
    },
    {
     "data": {
      "text/html": [
       "\n",
       "<style>\n",
       "    /* Turns off some styling */\n",
       "    progress {\n",
       "        /* gets rid of default border in Firefox and Opera. */\n",
       "        border: none;\n",
       "        /* Needs to be in here for Safari polyfill so background images work as expected. */\n",
       "        background-size: auto;\n",
       "    }\n",
       "    progress:not([value]), progress:not([value])::-webkit-progress-bar {\n",
       "        background: repeating-linear-gradient(45deg, #7e7e7e, #7e7e7e 10px, #5c5c5c 10px, #5c5c5c 20px);\n",
       "    }\n",
       "    .progress-bar-interrupted, .progress-bar-interrupted::-webkit-progress-bar {\n",
       "        background: #F44336;\n",
       "    }\n",
       "</style>\n"
      ],
      "text/plain": [
       "<IPython.core.display.HTML object>"
      ]
     },
     "metadata": {},
     "output_type": "display_data"
    },
    {
     "data": {
      "text/html": [
       "\n",
       "    <div>\n",
       "      <progress value='16000' class='' max='16000' style='width:300px; height:20px; vertical-align: middle;'></progress>\n",
       "      100.00% [16000/16000 25:48&lt;00:00 Sampling 4 chains, 0 divergences]\n",
       "    </div>\n",
       "    "
      ],
      "text/plain": [
       "<IPython.core.display.HTML object>"
      ]
     },
     "metadata": {},
     "output_type": "display_data"
    },
    {
     "name": "stderr",
     "output_type": "stream",
     "text": [
      "Sampling 4 chains for 1_000 tune and 3_000 draw iterations (4_000 + 12_000 draws total) took 1549 seconds.\n",
      "The chain reached the maximum tree depth. Increase max_treedepth, increase target_accept or reparameterize.\n",
      "The chain reached the maximum tree depth. Increase max_treedepth, increase target_accept or reparameterize.\n",
      "The chain reached the maximum tree depth. Increase max_treedepth, increase target_accept or reparameterize.\n",
      "The chain reached the maximum tree depth. Increase max_treedepth, increase target_accept or reparameterize.\n"
     ]
    }
   ],
   "source": [
    "with pm.Model() as five_PL_hier:\n",
    "    \n",
    "    # hyper prior per group\n",
    "    mu_b = pm.Normal('mu_b', 6,    3)\n",
    "    mu_c = pm.Normal('mu_c', 3.5,  1)\n",
    "    mu_g = pm.Normal('mu_g', 1.1, .5)\n",
    "    \n",
    "    a1 = pm.TruncatedNormal('a1', 1, .5, lower = 0)\n",
    "    a2 = pm.Normal('a2', 20, 2)\n",
    "    \n",
    "    d1 = pm.Normal('d1', 12, 2)\n",
    "    d2 = pm.Normal('d2', 8,  2)\n",
    "    \n",
    "    # priors\n",
    "    \n",
    "    a = pm.Beta('a',   a1, a2)\n",
    "    b = pm.Normal('b', mu_b,   2)\n",
    "    c = pm.Normal('c', mu_c,   5)\n",
    "    d = pm.Beta('d',   d1, d2)\n",
    "    g = pm.Normal('g', mu_g,  .2)\n",
    "    \n",
    "    \n",
    "    eps = pm.Exponential('eps', 1)\n",
    "    \n",
    "    # model prediction using the 5PL regression    \n",
    "    y_hat = d + (a-d)/(1+(df['x'].values/c)**b)**g\n",
    "\n",
    "    # Likelihood (sampling distribution) of observations\n",
    "    rating = pm.Normal('rating',y_hat, eps, observed=df.y)\n",
    "\n",
    "    trace_PL5 = pm.sample(3000, return_inferencedata=True, target_accept=0.95)"
   ]
  },
  {
   "cell_type": "code",
   "execution_count": 7,
   "id": "37f84fe2",
   "metadata": {},
   "outputs": [
    {
     "data": {
      "text/html": [
       "<div>\n",
       "<style scoped>\n",
       "    .dataframe tbody tr th:only-of-type {\n",
       "        vertical-align: middle;\n",
       "    }\n",
       "\n",
       "    .dataframe tbody tr th {\n",
       "        vertical-align: top;\n",
       "    }\n",
       "\n",
       "    .dataframe thead th {\n",
       "        text-align: right;\n",
       "    }\n",
       "</style>\n",
       "<table border=\"1\" class=\"dataframe\">\n",
       "  <thead>\n",
       "    <tr style=\"text-align: right;\">\n",
       "      <th></th>\n",
       "      <th>rank</th>\n",
       "      <th>loo</th>\n",
       "      <th>p_loo</th>\n",
       "      <th>d_loo</th>\n",
       "      <th>weight</th>\n",
       "      <th>se</th>\n",
       "      <th>dse</th>\n",
       "      <th>warning</th>\n",
       "      <th>loo_scale</th>\n",
       "    </tr>\n",
       "  </thead>\n",
       "  <tbody>\n",
       "    <tr>\n",
       "      <th>hier</th>\n",
       "      <td>0</td>\n",
       "      <td>2342.159386</td>\n",
       "      <td>4.924699</td>\n",
       "      <td>0.000000</td>\n",
       "      <td>1.000000e+00</td>\n",
       "      <td>0.172681</td>\n",
       "      <td>0.000000</td>\n",
       "      <td>False</td>\n",
       "      <td>log</td>\n",
       "    </tr>\n",
       "    <tr>\n",
       "      <th>5PL model</th>\n",
       "      <td>1</td>\n",
       "      <td>2292.791027</td>\n",
       "      <td>0.825193</td>\n",
       "      <td>49.368359</td>\n",
       "      <td>0.000000e+00</td>\n",
       "      <td>0.169603</td>\n",
       "      <td>0.007153</td>\n",
       "      <td>False</td>\n",
       "      <td>log</td>\n",
       "    </tr>\n",
       "    <tr>\n",
       "      <th>Linear model</th>\n",
       "      <td>2</td>\n",
       "      <td>91.603867</td>\n",
       "      <td>2.130740</td>\n",
       "      <td>2250.555519</td>\n",
       "      <td>4.846856e-11</td>\n",
       "      <td>4.316058</td>\n",
       "      <td>4.281462</td>\n",
       "      <td>False</td>\n",
       "      <td>log</td>\n",
       "    </tr>\n",
       "  </tbody>\n",
       "</table>\n",
       "</div>"
      ],
      "text/plain": [
       "              rank          loo     p_loo        d_loo        weight  \\\n",
       "hier             0  2342.159386  4.924699     0.000000  1.000000e+00   \n",
       "5PL model        1  2292.791027  0.825193    49.368359  0.000000e+00   \n",
       "Linear model     2    91.603867  2.130740  2250.555519  4.846856e-11   \n",
       "\n",
       "                    se       dse  warning loo_scale  \n",
       "hier          0.172681  0.000000    False       log  \n",
       "5PL model     0.169603  0.007153    False       log  \n",
       "Linear model  4.316058  4.281462    False       log  "
      ]
     },
     "execution_count": 7,
     "metadata": {},
     "output_type": "execute_result"
    }
   ],
   "source": [
    "comp = az.compare({'Linear model': trace_l, '5PL model':trace_5, 'hier': trace_PL5}, ic='loo')\n",
    "comp"
   ]
  },
  {
   "cell_type": "code",
   "execution_count": 8,
   "id": "426446de",
   "metadata": {},
   "outputs": [
    {
     "data": {
      "text/plain": [
       "<AxesSubplot:xlabel='Log'>"
      ]
     },
     "execution_count": 8,
     "metadata": {},
     "output_type": "execute_result"
    },
    {
     "data": {
      "image/png": "[encoded data removed]",
      "text/plain": [
       "<Figure size 432x216 with 1 Axes>"
      ]
     },
     "metadata": {
      "needs_background": "light"
     },
     "output_type": "display_data"
    }
   ],
   "source": [
    "az.plot_compare(comp)"
   ]
  },
  {
   "cell_type": "code",
   "execution_count": 9,
   "id": "1d7c9818",
   "metadata": {},
   "outputs": [],
   "source": [
    "al = az.summary(trace_l, var_names=['a'])[['mean']]\n",
    "bl = az.summary(trace_l, var_names=['b'])[['mean']]\n",
    "\n",
    "df_l = pd.DataFrame({'a': al['mean'][0],     \n",
    "                     'b': bl['mean'][0],    \n",
    "                     'x': x})\n",
    "\n",
    "df_l['y'] = df_l.a + df_l.b * df_l.x"
   ]
  },
  {
   "cell_type": "code",
   "execution_count": 10,
   "id": "a8ab4a45",
   "metadata": {},
   "outputs": [],
   "source": [
    "a5 = az.summary(trace_PL5, var_names=['a'])[['mean']]\n",
    "b5 = az.summary(trace_PL5, var_names=['b'])[['mean']]\n",
    "c5 = az.summary(trace_PL5, var_names=['c'])[['mean']]\n",
    "d5 = az.summary(trace_PL5, var_names=['d'])[['mean']]\n",
    "g5 = az.summary(trace_PL5, var_names=['g'])[['mean']]\n",
    "\n",
    "df_5 = pd.DataFrame({'a': a5['mean'][0],     \n",
    "                     'b': b5['mean'][0],    \n",
    "                     'c': c5['mean'][0],\n",
    "                     'd': d5['mean'][0],\n",
    "                     'g': g5['mean'][0],\n",
    "                     'x': x})\n",
    "\n",
    "df_5['y'] = df_5.d + (df_5.a-df_5.d)/(1+(df_5.x/df_5.c)**df_5.b)**df_5.g"
   ]
  },
  {
   "cell_type": "code",
   "execution_count": 11,
   "id": "b157bbe2",
   "metadata": {},
   "outputs": [
    {
     "data": {
      "text/plain": [
       "<AxesSubplot:xlabel='x', ylabel='y'>"
      ]
     },
     "execution_count": 11,
     "metadata": {},
     "output_type": "execute_result"
    },
    {
     "data": {
      "image/png": "[encoded data removed]",
      "text/plain": [
       "<Figure size 432x288 with 1 Axes>"
      ]
     },
     "metadata": {
      "needs_background": "light"
     },
     "output_type": "display_data"
    }
   ],
   "source": [
    "sns.lineplot(x='x',y='y',data=df, color = 'blue')\n",
    "sns.lineplot(x='x',y='y',data=df_l, color = 'orange')\n",
    "sns.lineplot(x='x',y='y',data=df_5, color = 'black')"
   ]
  },
  {
   "cell_type": "markdown",
   "id": "591257d5",
   "metadata": {},
   "source": [
    "No noise all models work great\n",
    "if we add small noise?"
   ]
  },
  {
   "cell_type": "code",
   "execution_count": 12,
   "id": "b8ecd93c",
   "metadata": {},
   "outputs": [
    {
     "data": {
      "text/plain": [
       "<AxesSubplot:xlabel='x', ylabel='y_05'>"
      ]
     },
     "execution_count": 12,
     "metadata": {},
     "output_type": "execute_result"
    },
    {
     "data": {
      "image/png": "[encoded data removed]",
      "text/plain": [
       "<Figure size 432x288 with 1 Axes>"
      ]
     },
     "metadata": {
      "needs_background": "light"
     },
     "output_type": "display_data"
    }
   ],
   "source": [
    "df['y_05'] = df.d + (df.a-df.d)/(1+(df.x/df.c)**df.b)**df.g + np.random.normal(0, .05, trials)\n",
    "\n",
    "sns.lineplot(x='x',y='y_05',data=df)"
   ]
  },
  {
   "cell_type": "code",
   "execution_count": 13,
   "id": "02da7b78",
   "metadata": {},
   "outputs": [
    {
     "name": "stderr",
     "output_type": "stream",
     "text": [
      "Auto-assigning NUTS sampler...\n",
      "Initializing NUTS using jitter+adapt_diag...\n",
      "Multiprocess sampling (4 chains in 4 jobs)\n",
      "NUTS: [mu_b, mu_c, mu_g, a1, a2, d1, d2, a, b, c, d, g, eps]\n"
     ]
    },
    {
     "data": {
      "text/html": [
       "\n",
       "<style>\n",
       "    /* Turns off some styling */\n",
       "    progress {\n",
       "        /* gets rid of default border in Firefox and Opera. */\n",
       "        border: none;\n",
       "        /* Needs to be in here for Safari polyfill so background images work as expected. */\n",
       "        background-size: auto;\n",
       "    }\n",
       "    progress:not([value]), progress:not([value])::-webkit-progress-bar {\n",
       "        background: repeating-linear-gradient(45deg, #7e7e7e, #7e7e7e 10px, #5c5c5c 10px, #5c5c5c 20px);\n",
       "    }\n",
       "    .progress-bar-interrupted, .progress-bar-interrupted::-webkit-progress-bar {\n",
       "        background: #F44336;\n",
       "    }\n",
       "</style>\n"
      ],
      "text/plain": [
       "<IPython.core.display.HTML object>"
      ]
     },
     "metadata": {},
     "output_type": "display_data"
    },
    {
     "data": {
      "text/html": [
       "\n",
       "    <div>\n",
       "      <progress value='16000' class='' max='16000' style='width:300px; height:20px; vertical-align: middle;'></progress>\n",
       "      100.00% [16000/16000 02:16&lt;00:00 Sampling 4 chains, 12 divergences]\n",
       "    </div>\n",
       "    "
      ],
      "text/plain": [
       "<IPython.core.display.HTML object>"
      ]
     },
     "metadata": {},
     "output_type": "display_data"
    },
    {
     "name": "stderr",
     "output_type": "stream",
     "text": [
      "Sampling 4 chains for 1_000 tune and 3_000 draw iterations (4_000 + 12_000 draws total) took 137 seconds.\n",
      "There were 6 divergences after tuning. Increase `target_accept` or reparameterize.\n",
      "There were 6 divergences after tuning. Increase `target_accept` or reparameterize.\n"
     ]
    }
   ],
   "source": [
    "with pm.Model() as five_PL:\n",
    "        \n",
    "    \n",
    "    # hyper prior per group\n",
    "    mu_b = pm.Normal('mu_b', 6,    3)\n",
    "    mu_c = pm.Normal('mu_c', 3.5,  1)\n",
    "    mu_g = pm.Normal('mu_g', 1.1, .5)\n",
    "    \n",
    "    a1 = pm.TruncatedNormal('a1', 1, .5, lower = 0)\n",
    "    a2 = pm.Normal('a2', 20, 2)\n",
    "    \n",
    "    d1 = pm.Normal('d1', 12, 2)\n",
    "    d2 = pm.Normal('d2', 8,  2)\n",
    "    \n",
    "    # priors\n",
    "    \n",
    "    a = pm.Beta('a',   a1, a2)\n",
    "    b = pm.Normal('b', mu_b,   2)\n",
    "    c = pm.Normal('c', mu_c,   5)\n",
    "    d = pm.Beta('d',   d1, d2)\n",
    "    g = pm.Normal('g', mu_g,  .2)\n",
    "    \n",
    "    \n",
    "    eps = pm.Exponential('eps', 1)\n",
    "    \n",
    "    # model prediction using the 5PL regression    \n",
    "    y_hat = d + (a-d)/(1+(df['x'].values/c)**b)**g\n",
    "       \n",
    "    # Likelihood (sampling distribution) of observations\n",
    "    rating = pm.Normal('rating',y_hat, eps, observed=df['y_05'].values)\n",
    "    \n",
    "    trace_5_n = pm.sample(3000, return_inferencedata=True, target_accept=0.95)"
   ]
  },
  {
   "cell_type": "code",
   "execution_count": 14,
   "id": "5208b308",
   "metadata": {},
   "outputs": [],
   "source": [
    "a5 = az.summary(trace_5_n, var_names=['a'])[['mean']]\n",
    "b5 = az.summary(trace_5_n, var_names=['b'])[['mean']]\n",
    "c5 = az.summary(trace_5_n, var_names=['c'])[['mean']]\n",
    "d5 = az.summary(trace_5_n, var_names=['d'])[['mean']]\n",
    "g5 = az.summary(trace_5_n, var_names=['g'])[['mean']]\n",
    "\n",
    "df_5_n = pd.DataFrame({'a': a5['mean'][0],     \n",
    "                       'b': b5['mean'][0],    \n",
    "                       'c': c5['mean'][0],\n",
    "                       'd': d5['mean'][0],\n",
    "                       'g': g5['mean'][0],\n",
    "                       'x': x})\n",
    "\n",
    "df_5_n['y'] = df_5_n.d + (df_5_n.a-df_5_n.d)/(1+(df_5_n.x/df_5_n.c)**df_5_n.b)**df_5_n.g"
   ]
  },
  {
   "cell_type": "code",
   "execution_count": 15,
   "id": "0e48ae71",
   "metadata": {},
   "outputs": [
    {
     "data": {
      "text/plain": [
       "<AxesSubplot:xlabel='x', ylabel='y_05'>"
      ]
     },
     "execution_count": 15,
     "metadata": {},
     "output_type": "execute_result"
    },
    {
     "data": {
      "image/png": "[encoded data removed]",
      "text/plain": [
       "<Figure size 432x288 with 1 Axes>"
      ]
     },
     "metadata": {
      "needs_background": "light"
     },
     "output_type": "display_data"
    }
   ],
   "source": [
    "sns.lineplot(x='x',y='y_05',data=df)\n",
    "sns.lineplot(x='x',y='y',data=df_5_n)"
   ]
  },
  {
   "cell_type": "code",
   "execution_count": 16,
   "id": "7066ab3a",
   "metadata": {},
   "outputs": [
    {
     "data": {
      "text/plain": [
       "<AxesSubplot:xlabel='x', ylabel='y_1'>"
      ]
     },
     "execution_count": 16,
     "metadata": {},
     "output_type": "execute_result"
    },
    {
     "data": {
      "image/png": "[encoded data removed]",
      "text/plain": [
       "<Figure size 432x288 with 1 Axes>"
      ]
     },
     "metadata": {
      "needs_background": "light"
     },
     "output_type": "display_data"
    }
   ],
   "source": [
    "df['y_1'] = df.d + (df.a-df.d)/(1+(df.x/df.c)**df.b)**df.g + np.random.normal(0, .1, trials)\n",
    "\n",
    "sns.lineplot(x='x',y='y_1',data=df)"
   ]
  },
  {
   "cell_type": "code",
   "execution_count": 17,
   "id": "7c1143e9",
   "metadata": {},
   "outputs": [
    {
     "name": "stderr",
     "output_type": "stream",
     "text": [
      "Auto-assigning NUTS sampler...\n",
      "Initializing NUTS using jitter+adapt_diag...\n",
      "Multiprocess sampling (4 chains in 4 jobs)\n",
      "NUTS: [mu_b, mu_c, mu_g, a1, a2, d1, d2, a, b, c, d, g, eps]\n"
     ]
    },
    {
     "data": {
      "text/html": [
       "\n",
       "<style>\n",
       "    /* Turns off some styling */\n",
       "    progress {\n",
       "        /* gets rid of default border in Firefox and Opera. */\n",
       "        border: none;\n",
       "        /* Needs to be in here for Safari polyfill so background images work as expected. */\n",
       "        background-size: auto;\n",
       "    }\n",
       "    progress:not([value]), progress:not([value])::-webkit-progress-bar {\n",
       "        background: repeating-linear-gradient(45deg, #7e7e7e, #7e7e7e 10px, #5c5c5c 10px, #5c5c5c 20px);\n",
       "    }\n",
       "    .progress-bar-interrupted, .progress-bar-interrupted::-webkit-progress-bar {\n",
       "        background: #F44336;\n",
       "    }\n",
       "</style>\n"
      ],
      "text/plain": [
       "<IPython.core.display.HTML object>"
      ]
     },
     "metadata": {},
     "output_type": "display_data"
    },
    {
     "data": {
      "text/html": [
       "\n",
       "    <div>\n",
       "      <progress value='16000' class='' max='16000' style='width:300px; height:20px; vertical-align: middle;'></progress>\n",
       "      100.00% [16000/16000 01:21&lt;00:00 Sampling 4 chains, 7 divergences]\n",
       "    </div>\n",
       "    "
      ],
      "text/plain": [
       "<IPython.core.display.HTML object>"
      ]
     },
     "metadata": {},
     "output_type": "display_data"
    },
    {
     "name": "stderr",
     "output_type": "stream",
     "text": [
      "Sampling 4 chains for 1_000 tune and 3_000 draw iterations (4_000 + 12_000 draws total) took 82 seconds.\n",
      "There were 5 divergences after tuning. Increase `target_accept` or reparameterize.\n",
      "There were 2 divergences after tuning. Increase `target_accept` or reparameterize.\n"
     ]
    }
   ],
   "source": [
    "with pm.Model() as five_PL:\n",
    "        \n",
    "    \n",
    "    # hyper prior per group\n",
    "    mu_b = pm.Normal('mu_b', 6,    3)\n",
    "    mu_c = pm.Normal('mu_c', 3.5,  1)\n",
    "    mu_g = pm.Normal('mu_g', 1.1, .5)\n",
    "    \n",
    "    a1 = pm.TruncatedNormal('a1', 1, .5, lower = 0)\n",
    "    a2 = pm.Normal('a2', 20, 2)\n",
    "    \n",
    "    d1 = pm.Normal('d1', 12, 2)\n",
    "    d2 = pm.Normal('d2', 8,  2)\n",
    "    \n",
    "    # priors\n",
    "    \n",
    "    a = pm.Beta('a',   a1, a2)\n",
    "    b = pm.Normal('b', mu_b,   2)\n",
    "    c = pm.Normal('c', mu_c,   5)\n",
    "    d = pm.Beta('d',   d1, d2)\n",
    "    g = pm.Normal('g', mu_g,  .2)\n",
    "    \n",
    "    \n",
    "    eps = pm.Exponential('eps', 1)\n",
    "    \n",
    "    y_hat = d + (a-d)/(1+(df['x'].values/c)**b)**g\n",
    "       \n",
    "    # Likelihood (sampling distribution) of observations\n",
    "    rating = pm.Normal('rating',y_hat, eps, observed=df['y_1'].values)\n",
    "    \n",
    "    trace_5_mn = pm.sample(3000, return_inferencedata=True, target_accept=0.95)"
   ]
  },
  {
   "cell_type": "code",
   "execution_count": 18,
   "id": "82613672",
   "metadata": {},
   "outputs": [],
   "source": [
    "a5 = az.summary(trace_5_mn, var_names=['a'])[['mean']]\n",
    "b5 = az.summary(trace_5_mn, var_names=['b'])[['mean']]\n",
    "c5 = az.summary(trace_5_mn, var_names=['c'])[['mean']]\n",
    "d5 = az.summary(trace_5_mn, var_names=['d'])[['mean']]\n",
    "g5 = az.summary(trace_5_mn, var_names=['g'])[['mean']]\n",
    "\n",
    "df_5_n = pd.DataFrame({'a': a5['mean'][0],     \n",
    "                       'b': b5['mean'][0],    \n",
    "                       'c': c5['mean'][0],\n",
    "                       'd': d5['mean'][0],\n",
    "                       'g': g5['mean'][0],\n",
    "                       'x': x})\n",
    "\n",
    "df_5_n['y'] = df_5_n.d + (df_5_n.a-df_5_n.d)/(1+(df_5_n.x/df_5_n.c)**df_5_n.b)**df_5_n.g"
   ]
  },
  {
   "cell_type": "code",
   "execution_count": 20,
   "id": "164bac5f",
   "metadata": {},
   "outputs": [
    {
     "data": {
      "text/plain": [
       "<AxesSubplot:xlabel='x', ylabel='y_1'>"
      ]
     },
     "execution_count": 20,
     "metadata": {},
     "output_type": "execute_result"
    },
    {
     "data": {
      "image/png": "[encoded data removed]",
      "text/plain": [
       "<Figure size 432x288 with 1 Axes>"
      ]
     },
     "metadata": {
      "needs_background": "light"
     },
     "output_type": "display_data"
    }
   ],
   "source": [
    "sns.lineplot(x='x',y='y_1',data=df)\n",
    "sns.lineplot(x='x',y='y',data=df_5_n)"
   ]
  },
  {
   "cell_type": "code",
   "execution_count": 19,
   "id": "b41a35d9",
   "metadata": {},
   "outputs": [
    {
     "data": {
      "text/plain": [
       "<AxesSubplot:xlabel='x', ylabel='y_2'>"
      ]
     },
     "execution_count": 19,
     "metadata": {},
     "output_type": "execute_result"
    },
    {
     "data": {
      "image/png": "[encoded data removed]",
      "text/plain": [
       "<Figure size 432x288 with 1 Axes>"
      ]
     },
     "metadata": {
      "needs_background": "light"
     },
     "output_type": "display_data"
    }
   ],
   "source": [
    "# Even more noise\n",
    "df['y_2'] = df.d + (df.a-df.d)/(1+(df.x/df.c)**df.b)**df.g + np.random.normal(0, .2, trials)\n",
    "\n",
    "sns.lineplot(x='x',y='y_2',data=df)"
   ]
  },
  {
   "cell_type": "code",
   "execution_count": 21,
   "id": "e2f9e7b3",
   "metadata": {},
   "outputs": [
    {
     "name": "stderr",
     "output_type": "stream",
     "text": [
      "Auto-assigning NUTS sampler...\n",
      "Initializing NUTS using jitter+adapt_diag...\n",
      "Multiprocess sampling (4 chains in 4 jobs)\n",
      "NUTS: [mu_b, mu_c, mu_g, a1, a2, d1, d2, a, b, c, d, g, eps]\n"
     ]
    },
    {
     "data": {
      "text/html": [
       "\n",
       "<style>\n",
       "    /* Turns off some styling */\n",
       "    progress {\n",
       "        /* gets rid of default border in Firefox and Opera. */\n",
       "        border: none;\n",
       "        /* Needs to be in here for Safari polyfill so background images work as expected. */\n",
       "        background-size: auto;\n",
       "    }\n",
       "    progress:not([value]), progress:not([value])::-webkit-progress-bar {\n",
       "        background: repeating-linear-gradient(45deg, #7e7e7e, #7e7e7e 10px, #5c5c5c 10px, #5c5c5c 20px);\n",
       "    }\n",
       "    .progress-bar-interrupted, .progress-bar-interrupted::-webkit-progress-bar {\n",
       "        background: #F44336;\n",
       "    }\n",
       "</style>\n"
      ],
      "text/plain": [
       "<IPython.core.display.HTML object>"
      ]
     },
     "metadata": {},
     "output_type": "display_data"
    },
    {
     "data": {
      "text/html": [
       "\n",
       "    <div>\n",
       "      <progress value='16000' class='' max='16000' style='width:300px; height:20px; vertical-align: middle;'></progress>\n",
       "      100.00% [16000/16000 01:16&lt;00:00 Sampling 4 chains, 44 divergences]\n",
       "    </div>\n",
       "    "
      ],
      "text/plain": [
       "<IPython.core.display.HTML object>"
      ]
     },
     "metadata": {},
     "output_type": "display_data"
    },
    {
     "name": "stderr",
     "output_type": "stream",
     "text": [
      "Sampling 4 chains for 1_000 tune and 3_000 draw iterations (4_000 + 12_000 draws total) took 78 seconds.\n",
      "There were 6 divergences after tuning. Increase `target_accept` or reparameterize.\n",
      "There were 13 divergences after tuning. Increase `target_accept` or reparameterize.\n",
      "There were 19 divergences after tuning. Increase `target_accept` or reparameterize.\n",
      "There were 6 divergences after tuning. Increase `target_accept` or reparameterize.\n"
     ]
    }
   ],
   "source": [
    "with pm.Model() as five_PL:\n",
    "        \n",
    "    # hyper prior per group\n",
    "    mu_b = pm.Normal('mu_b', 6,    3)\n",
    "    mu_c = pm.Normal('mu_c', 3.5,  1)\n",
    "    mu_g = pm.Normal('mu_g', 1.1, .5)\n",
    "    \n",
    "    a1 = pm.TruncatedNormal('a1', 1, .5, lower = 0)\n",
    "    a2 = pm.Normal('a2', 20, 2)\n",
    "    \n",
    "    d1 = pm.Normal('d1', 12, 2)\n",
    "    d2 = pm.Normal('d2', 8,  2)\n",
    "    \n",
    "    # priors\n",
    "    \n",
    "    a = pm.Beta('a',   a1, a2)\n",
    "    b = pm.Normal('b', mu_b,   2)\n",
    "    c = pm.Normal('c', mu_c,   5)\n",
    "    d = pm.Beta('d',   d1, d2)\n",
    "    g = pm.Normal('g', mu_g,  .2)\n",
    "    \n",
    "    \n",
    "    eps = pm.Exponential('eps', 1)\n",
    "    y_hat = d + (a-d)/(1+(df['x'].values/c)**b)**g\n",
    "       \n",
    "    # Likelihood (sampling distribution) of observations\n",
    "    rating = pm.Normal('rating',y_hat, eps, observed=df['y_2'].values)\n",
    "    \n",
    "    trace_5_emn = pm.sample(3000, return_inferencedata=True, target_accept=0.95)"
   ]
  },
  {
   "cell_type": "code",
   "execution_count": 22,
   "id": "189b1bfa",
   "metadata": {},
   "outputs": [],
   "source": [
    "a5 = az.summary(trace_5_emn, var_names=['a'])[['mean']]\n",
    "b5 = az.summary(trace_5_emn, var_names=['b'])[['mean']]\n",
    "c5 = az.summary(trace_5_emn, var_names=['c'])[['mean']]\n",
    "d5 = az.summary(trace_5_emn, var_names=['d'])[['mean']]\n",
    "g5 = az.summary(trace_5_emn, var_names=['g'])[['mean']]\n",
    "\n",
    "df_5_n = pd.DataFrame({'a': a5['mean'][0],     \n",
    "                       'b': b5['mean'][0],    \n",
    "                       'c': c5['mean'][0],\n",
    "                       'd': d5['mean'][0],\n",
    "                       'g': g5['mean'][0],\n",
    "                       'x': x})\n",
    "\n",
    "df_5_n['y'] = df_5_n.d + (df_5_n.a-df_5_n.d)/(1+(df_5_n.x/df_5_n.c)**df_5_n.b)**df_5_n.g"
   ]
  },
  {
   "cell_type": "code",
   "execution_count": 23,
   "id": "bdc69cdd",
   "metadata": {},
   "outputs": [
    {
     "data": {
      "text/plain": [
       "<AxesSubplot:xlabel='x', ylabel='y_2'>"
      ]
     },
     "execution_count": 23,
     "metadata": {},
     "output_type": "execute_result"
    },
    {
     "data": {
      "image/png": "[encoded data removed]",
      "text/plain": [
       "<Figure size 432x288 with 1 Axes>"
      ]
     },
     "metadata": {
      "needs_background": "light"
     },
     "output_type": "display_data"
    }
   ],
   "source": [
    "sns.lineplot(x='x',y='y_2',data=df)\n",
    "sns.lineplot(x='x',y='y',data=df_5_n)"
   ]
  },
  {
   "cell_type": "markdown",
   "id": "0042c510",
   "metadata": {},
   "source": [
    "Can I fit a 5PL model to linear data?"
   ]
  },
  {
   "cell_type": "code",
   "execution_count": 24,
   "id": "9daf1cf2",
   "metadata": {},
   "outputs": [
    {
     "data": {
      "text/plain": [
       "<AxesSubplot:>"
      ]
     },
     "execution_count": 24,
     "metadata": {},
     "output_type": "execute_result"
    },
    {
     "data": {
      "image/png": "[encoded data removed]",
      "text/plain": [
       "<Figure size 432x288 with 1 Axes>"
      ]
     },
     "metadata": {
      "needs_background": "light"
     },
     "output_type": "display_data"
    }
   ],
   "source": [
    "y = x/8\n",
    "sns.lineplot(x=x,y=y)"
   ]
  },
  {
   "cell_type": "code",
   "execution_count": 25,
   "id": "dc5e91dc",
   "metadata": {},
   "outputs": [
    {
     "name": "stderr",
     "output_type": "stream",
     "text": [
      "Auto-assigning NUTS sampler...\n",
      "Initializing NUTS using jitter+adapt_diag...\n",
      "Multiprocess sampling (4 chains in 4 jobs)\n",
      "NUTS: [mu_b, mu_c, mu_g, a1, a2, d1, d2, a, b, c, d, g, eps]\n"
     ]
    },
    {
     "data": {
      "text/html": [
       "\n",
       "<style>\n",
       "    /* Turns off some styling */\n",
       "    progress {\n",
       "        /* gets rid of default border in Firefox and Opera. */\n",
       "        border: none;\n",
       "        /* Needs to be in here for Safari polyfill so background images work as expected. */\n",
       "        background-size: auto;\n",
       "    }\n",
       "    progress:not([value]), progress:not([value])::-webkit-progress-bar {\n",
       "        background: repeating-linear-gradient(45deg, #7e7e7e, #7e7e7e 10px, #5c5c5c 10px, #5c5c5c 20px);\n",
       "    }\n",
       "    .progress-bar-interrupted, .progress-bar-interrupted::-webkit-progress-bar {\n",
       "        background: #F44336;\n",
       "    }\n",
       "</style>\n"
      ],
      "text/plain": [
       "<IPython.core.display.HTML object>"
      ]
     },
     "metadata": {},
     "output_type": "display_data"
    },
    {
     "data": {
      "text/html": [
       "\n",
       "    <div>\n",
       "      <progress value='16000' class='' max='16000' style='width:300px; height:20px; vertical-align: middle;'></progress>\n",
       "      100.00% [16000/16000 11:03&lt;00:00 Sampling 4 chains, 536 divergences]\n",
       "    </div>\n",
       "    "
      ],
      "text/plain": [
       "<IPython.core.display.HTML object>"
      ]
     },
     "metadata": {},
     "output_type": "display_data"
    },
    {
     "name": "stderr",
     "output_type": "stream",
     "text": [
      "Sampling 4 chains for 1_000 tune and 3_000 draw iterations (4_000 + 12_000 draws total) took 664 seconds.\n",
      "There were 161 divergences after tuning. Increase `target_accept` or reparameterize.\n",
      "There were 132 divergences after tuning. Increase `target_accept` or reparameterize.\n",
      "There were 144 divergences after tuning. Increase `target_accept` or reparameterize.\n",
      "There were 99 divergences after tuning. Increase `target_accept` or reparameterize.\n"
     ]
    }
   ],
   "source": [
    "with pm.Model() as five_PL:\n",
    "        \n",
    "    # hyper prior per group\n",
    "    mu_b = pm.Normal('mu_b', 6,    3)\n",
    "    mu_c = pm.Normal('mu_c', 3.5,  1)\n",
    "    mu_g = pm.Normal('mu_g', 1.1, .5)\n",
    "    \n",
    "    a1 = pm.TruncatedNormal('a1', 1, .5, lower = 0)\n",
    "    a2 = pm.Normal('a2', 20, 2)\n",
    "    \n",
    "    d1 = pm.Normal('d1', 12, 2)\n",
    "    d2 = pm.Normal('d2', 8,  2)\n",
    "    \n",
    "    # priors\n",
    "    \n",
    "    a = pm.Beta('a',   a1, a2)\n",
    "    b = pm.Normal('b', mu_b,   2)\n",
    "    c = pm.Normal('c', mu_c,   5)\n",
    "    d = pm.Beta('d',   d1, d2)\n",
    "    g = pm.Normal('g', mu_g,  .2)\n",
    "    \n",
    "    \n",
    "    eps = pm.Exponential('eps', 1)\n",
    "    y_hat = d + (a-d)/(1+(x/c)**b)**g\n",
    "       \n",
    "    # Likelihood (sampling distribution) of observations\n",
    "    rating = pm.Normal('rating',y_hat, eps, observed=y)\n",
    "    \n",
    "    trace_5_lin = pm.sample(3000, return_inferencedata=True, target_accept=0.95)"
   ]
  },
  {
   "cell_type": "code",
   "execution_count": 26,
   "id": "0c7b1691",
   "metadata": {},
   "outputs": [],
   "source": [
    "a5 = az.summary(trace_5_lin, var_names=['a'])[['mean']]\n",
    "b5 = az.summary(trace_5_lin, var_names=['b'])[['mean']]\n",
    "c5 = az.summary(trace_5_lin, var_names=['c'])[['mean']]\n",
    "d5 = az.summary(trace_5_lin, var_names=['d'])[['mean']]\n",
    "g5 = az.summary(trace_5_lin, var_names=['g'])[['mean']]\n",
    "\n",
    "df_5_lin = pd.DataFrame({'a': a5['mean'][0],     \n",
    "                       'b': b5['mean'][0],    \n",
    "                       'c': c5['mean'][0],\n",
    "                       'd': d5['mean'][0],\n",
    "                       'g': g5['mean'][0],\n",
    "                       'x': x})\n",
    "\n",
    "df_5_lin['y'] = df_5_lin.d + (df_5_lin.a-df_5_lin.d)/(1+(df_5_lin.x/df_5_lin.c)**df_5_lin.b)**df_5_lin.g"
   ]
  },
  {
   "cell_type": "code",
   "execution_count": 27,
   "id": "563922a3",
   "metadata": {},
   "outputs": [
    {
     "data": {
      "text/html": [
       "<div>\n",
       "<style scoped>\n",
       "    .dataframe tbody tr th:only-of-type {\n",
       "        vertical-align: middle;\n",
       "    }\n",
       "\n",
       "    .dataframe tbody tr th {\n",
       "        vertical-align: top;\n",
       "    }\n",
       "\n",
       "    .dataframe thead th {\n",
       "        text-align: right;\n",
       "    }\n",
       "</style>\n",
       "<table border=\"1\" class=\"dataframe\">\n",
       "  <thead>\n",
       "    <tr style=\"text-align: right;\">\n",
       "      <th></th>\n",
       "      <th>a</th>\n",
       "      <th>b</th>\n",
       "      <th>c</th>\n",
       "      <th>d</th>\n",
       "      <th>g</th>\n",
       "      <th>x</th>\n",
       "      <th>y</th>\n",
       "    </tr>\n",
       "  </thead>\n",
       "  <tbody>\n",
       "    <tr>\n",
       "      <th>0</th>\n",
       "      <td>0.015</td>\n",
       "      <td>1.342</td>\n",
       "      <td>11.411</td>\n",
       "      <td>0.992</td>\n",
       "      <td>3.016</td>\n",
       "      <td>0.0</td>\n",
       "      <td>0.015</td>\n",
       "    </tr>\n",
       "  </tbody>\n",
       "</table>\n",
       "</div>"
      ],
      "text/plain": [
       "       a      b       c      d      g    x      y\n",
       "0  0.015  1.342  11.411  0.992  3.016  0.0  0.015"
      ]
     },
     "execution_count": 27,
     "metadata": {},
     "output_type": "execute_result"
    }
   ],
   "source": [
    "df_5_lin.head(1)"
   ]
  },
  {
   "cell_type": "code",
   "execution_count": 28,
   "id": "3208d7d5",
   "metadata": {},
   "outputs": [
    {
     "data": {
      "text/plain": [
       "<AxesSubplot:xlabel='x', ylabel='y'>"
      ]
     },
     "execution_count": 28,
     "metadata": {},
     "output_type": "execute_result"
    },
    {
     "data": {
      "image/png": "[encoded data removed]",
      "text/plain": [
       "<Figure size 432x288 with 1 Axes>"
      ]
     },
     "metadata": {
      "needs_background": "light"
     },
     "output_type": "display_data"
    }
   ],
   "source": [
    "sns.lineplot(x=x,y=y)\n",
    "sns.lineplot(x='x',y='y',data=df_5_lin)"
   ]
  },
  {
   "cell_type": "code",
   "execution_count": 29,
   "id": "894bea91",
   "metadata": {},
   "outputs": [
    {
     "data": {
      "text/plain": [
       "<AxesSubplot:>"
      ]
     },
     "execution_count": 29,
     "metadata": {},
     "output_type": "execute_result"
    },
    {
     "data": {
      "image/png": "[encoded data removed]",
      "text/plain": [
       "<Figure size 432x288 with 1 Axes>"
      ]
     },
     "metadata": {
      "needs_background": "light"
     },
     "output_type": "display_data"
    }
   ],
   "source": [
    "y = x/8 + np.random.normal(0, .1, trials)\n",
    "\n",
    "sns.lineplot(x=x,y=y)"
   ]
  },
  {
   "cell_type": "code",
   "execution_count": 30,
   "id": "3c862b77",
   "metadata": {},
   "outputs": [
    {
     "name": "stderr",
     "output_type": "stream",
     "text": [
      "Auto-assigning NUTS sampler...\n",
      "Initializing NUTS using jitter+adapt_diag...\n",
      "Multiprocess sampling (4 chains in 4 jobs)\n",
      "NUTS: [mu_b, mu_c, mu_g, a1, a2, d1, d2, a, b, c, d, g, eps]\n"
     ]
    },
    {
     "data": {
      "text/html": [
       "\n",
       "<style>\n",
       "    /* Turns off some styling */\n",
       "    progress {\n",
       "        /* gets rid of default border in Firefox and Opera. */\n",
       "        border: none;\n",
       "        /* Needs to be in here for Safari polyfill so background images work as expected. */\n",
       "        background-size: auto;\n",
       "    }\n",
       "    progress:not([value]), progress:not([value])::-webkit-progress-bar {\n",
       "        background: repeating-linear-gradient(45deg, #7e7e7e, #7e7e7e 10px, #5c5c5c 10px, #5c5c5c 20px);\n",
       "    }\n",
       "    .progress-bar-interrupted, .progress-bar-interrupted::-webkit-progress-bar {\n",
       "        background: #F44336;\n",
       "    }\n",
       "</style>\n"
      ],
      "text/plain": [
       "<IPython.core.display.HTML object>"
      ]
     },
     "metadata": {},
     "output_type": "display_data"
    },
    {
     "data": {
      "text/html": [
       "\n",
       "    <div>\n",
       "      <progress value='16000' class='' max='16000' style='width:300px; height:20px; vertical-align: middle;'></progress>\n",
       "      100.00% [16000/16000 02:00&lt;00:00 Sampling 4 chains, 166 divergences]\n",
       "    </div>\n",
       "    "
      ],
      "text/plain": [
       "<IPython.core.display.HTML object>"
      ]
     },
     "metadata": {},
     "output_type": "display_data"
    },
    {
     "name": "stderr",
     "output_type": "stream",
     "text": [
      "Sampling 4 chains for 1_000 tune and 3_000 draw iterations (4_000 + 12_000 draws total) took 121 seconds.\n",
      "There were 36 divergences after tuning. Increase `target_accept` or reparameterize.\n",
      "There were 25 divergences after tuning. Increase `target_accept` or reparameterize.\n",
      "There were 47 divergences after tuning. Increase `target_accept` or reparameterize.\n",
      "There were 58 divergences after tuning. Increase `target_accept` or reparameterize.\n"
     ]
    }
   ],
   "source": [
    "with pm.Model() as five_PL:\n",
    "        \n",
    "    # hyper prior per group\n",
    "    mu_b = pm.Normal('mu_b', 6,    3)\n",
    "    mu_c = pm.Normal('mu_c', 3.5,  1)\n",
    "    mu_g = pm.Normal('mu_g', 1.1, .5)\n",
    "    \n",
    "    a1 = pm.TruncatedNormal('a1', 1, .5, lower = 0)\n",
    "    a2 = pm.Normal('a2', 20, 2)\n",
    "    \n",
    "    d1 = pm.Normal('d1', 12, 2)\n",
    "    d2 = pm.Normal('d2', 8,  2)\n",
    "    \n",
    "    # priors\n",
    "    \n",
    "    a = pm.Beta('a',   a1, a2)\n",
    "    b = pm.Normal('b', mu_b,   2)\n",
    "    c = pm.Normal('c', mu_c,   5)\n",
    "    d = pm.Beta('d',   d1, d2)\n",
    "    g = pm.Normal('g', mu_g,  .2)\n",
    "    \n",
    "    \n",
    "    eps = pm.Exponential('eps', 1)\n",
    "    y_hat = d + (a-d)/(1+(x/c)**b)**g\n",
    "       \n",
    "    # Likelihood (sampling distribution) of observations\n",
    "    rating = pm.Normal('rating',y_hat, eps, observed=y)\n",
    "    \n",
    "    trace_5_lin_n = pm.sample(3000, return_inferencedata=True, target_accept=0.95)"
   ]
  },
  {
   "cell_type": "code",
   "execution_count": 31,
   "id": "2e61b2d3",
   "metadata": {},
   "outputs": [
    {
     "name": "stderr",
     "output_type": "stream",
     "text": [
      "Auto-assigning NUTS sampler...\n",
      "Initializing NUTS using jitter+adapt_diag...\n",
      "Multiprocess sampling (4 chains in 4 jobs)\n",
      "NUTS: [a, b, eps]\n"
     ]
    },
    {
     "data": {
      "text/html": [
       "\n",
       "<style>\n",
       "    /* Turns off some styling */\n",
       "    progress {\n",
       "        /* gets rid of default border in Firefox and Opera. */\n",
       "        border: none;\n",
       "        /* Needs to be in here for Safari polyfill so background images work as expected. */\n",
       "        background-size: auto;\n",
       "    }\n",
       "    progress:not([value]), progress:not([value])::-webkit-progress-bar {\n",
       "        background: repeating-linear-gradient(45deg, #7e7e7e, #7e7e7e 10px, #5c5c5c 10px, #5c5c5c 20px);\n",
       "    }\n",
       "    .progress-bar-interrupted, .progress-bar-interrupted::-webkit-progress-bar {\n",
       "        background: #F44336;\n",
       "    }\n",
       "</style>\n"
      ],
      "text/plain": [
       "<IPython.core.display.HTML object>"
      ]
     },
     "metadata": {},
     "output_type": "display_data"
    },
    {
     "data": {
      "text/html": [
       "\n",
       "    <div>\n",
       "      <progress value='12000' class='' max='12000' style='width:300px; height:20px; vertical-align: middle;'></progress>\n",
       "      100.00% [12000/12000 00:07&lt;00:00 Sampling 4 chains, 0 divergences]\n",
       "    </div>\n",
       "    "
      ],
      "text/plain": [
       "<IPython.core.display.HTML object>"
      ]
     },
     "metadata": {},
     "output_type": "display_data"
    },
    {
     "name": "stderr",
     "output_type": "stream",
     "text": [
      "Sampling 4 chains for 1_000 tune and 2_000 draw iterations (4_000 + 8_000 draws total) took 8 seconds.\n"
     ]
    }
   ],
   "source": [
    "with pm.Model() as linear:\n",
    "    a = pm.Normal('a', 0, 5)\n",
    "    b = pm.Normal('b', 1, 1)\n",
    "    \n",
    "    eps = pm.Exponential('eps', 5)\n",
    "    y_hat = a + b * x\n",
    "       \n",
    "    # Likelihood (sampling distribution) of observations\n",
    "    rating = pm.Normal('rating',y_hat, eps, observed=y)\n",
    "    trace_l_n = pm.sample(2000, return_inferencedata=True, target_accept=0.9)"
   ]
  },
  {
   "cell_type": "code",
   "execution_count": 32,
   "id": "2daeb2ab",
   "metadata": {},
   "outputs": [
    {
     "data": {
      "text/html": [
       "<div>\n",
       "<style scoped>\n",
       "    .dataframe tbody tr th:only-of-type {\n",
       "        vertical-align: middle;\n",
       "    }\n",
       "\n",
       "    .dataframe tbody tr th {\n",
       "        vertical-align: top;\n",
       "    }\n",
       "\n",
       "    .dataframe thead th {\n",
       "        text-align: right;\n",
       "    }\n",
       "</style>\n",
       "<table border=\"1\" class=\"dataframe\">\n",
       "  <thead>\n",
       "    <tr style=\"text-align: right;\">\n",
       "      <th></th>\n",
       "      <th>rank</th>\n",
       "      <th>loo</th>\n",
       "      <th>p_loo</th>\n",
       "      <th>d_loo</th>\n",
       "      <th>weight</th>\n",
       "      <th>se</th>\n",
       "      <th>dse</th>\n",
       "      <th>warning</th>\n",
       "      <th>loo_scale</th>\n",
       "    </tr>\n",
       "  </thead>\n",
       "  <tbody>\n",
       "    <tr>\n",
       "      <th>Linear model</th>\n",
       "      <td>0</td>\n",
       "      <td>86.684636</td>\n",
       "      <td>3.071167</td>\n",
       "      <td>0.000000</td>\n",
       "      <td>1.000000e+00</td>\n",
       "      <td>7.046979</td>\n",
       "      <td>0.0000</td>\n",
       "      <td>False</td>\n",
       "      <td>log</td>\n",
       "    </tr>\n",
       "    <tr>\n",
       "      <th>5PL model</th>\n",
       "      <td>1</td>\n",
       "      <td>83.635031</td>\n",
       "      <td>4.157725</td>\n",
       "      <td>3.049605</td>\n",
       "      <td>8.881784e-16</td>\n",
       "      <td>6.948333</td>\n",
       "      <td>1.3565</td>\n",
       "      <td>False</td>\n",
       "      <td>log</td>\n",
       "    </tr>\n",
       "  </tbody>\n",
       "</table>\n",
       "</div>"
      ],
      "text/plain": [
       "              rank        loo     p_loo     d_loo        weight        se  \\\n",
       "Linear model     0  86.684636  3.071167  0.000000  1.000000e+00  7.046979   \n",
       "5PL model        1  83.635031  4.157725  3.049605  8.881784e-16  6.948333   \n",
       "\n",
       "                 dse  warning loo_scale  \n",
       "Linear model  0.0000    False       log  \n",
       "5PL model     1.3565    False       log  "
      ]
     },
     "execution_count": 32,
     "metadata": {},
     "output_type": "execute_result"
    }
   ],
   "source": [
    "comp = az.compare({'Linear model': trace_l_n, '5PL model':trace_5_lin_n}, ic='loo')\n",
    "comp"
   ]
  },
  {
   "cell_type": "code",
   "execution_count": 33,
   "id": "263b846c",
   "metadata": {},
   "outputs": [],
   "source": [
    "a5 = az.summary(trace_5_lin_n, var_names=['a'])[['mean']]\n",
    "b5 = az.summary(trace_5_lin_n, var_names=['b'])[['mean']]\n",
    "c5 = az.summary(trace_5_lin_n, var_names=['c'])[['mean']]\n",
    "d5 = az.summary(trace_5_lin_n, var_names=['d'])[['mean']]\n",
    "g5 = az.summary(trace_5_lin_n, var_names=['g'])[['mean']]\n",
    "\n",
    "df_5_lin_n = pd.DataFrame({'a': a5['mean'][0],     \n",
    "                       'b': b5['mean'][0],    \n",
    "                       'c': c5['mean'][0],\n",
    "                       'd': d5['mean'][0],\n",
    "                       'g': g5['mean'][0],\n",
    "                       'x': x})\n",
    "\n",
    "df_5_lin_n['y'] = df_5_lin_n.d + (df_5_lin_n.a-df_5_lin_n.d)/(1+(df_5_lin_n.x/df_5_lin_n.c)**df_5_lin_n.b)**df_5_lin_n.g"
   ]
  },
  {
   "cell_type": "code",
   "execution_count": 34,
   "id": "c566dff6",
   "metadata": {},
   "outputs": [],
   "source": [
    "al = az.summary(trace_l_n, var_names=['a'])[['mean']]\n",
    "bl = az.summary(trace_l_n, var_names=['b'])[['mean']]\n",
    "\n",
    "df_l_n = pd.DataFrame({'a': al['mean'][0],     \n",
    "                     'b': bl['mean'][0],    \n",
    "                     'x': x})\n",
    "\n",
    "df_l_n['y'] = df_l_n.a + df_l_n.b * df_l_n.x"
   ]
  },
  {
   "cell_type": "code",
   "execution_count": 35,
   "id": "12638969",
   "metadata": {},
   "outputs": [
    {
     "data": {
      "text/plain": [
       "<AxesSubplot:xlabel='x', ylabel='y'>"
      ]
     },
     "execution_count": 35,
     "metadata": {},
     "output_type": "execute_result"
    },
    {
     "data": {
      "image/png": "[encoded data removed]",
      "text/plain": [
       "<Figure size 432x288 with 1 Axes>"
      ]
     },
     "metadata": {
      "needs_background": "light"
     },
     "output_type": "display_data"
    }
   ],
   "source": [
    "sns.lineplot(x=x,y=y)\n",
    "sns.lineplot(x='x',y='y',data=df_l_n)\n",
    "sns.lineplot(x='x',y='y',data=df_5_lin_n)"
   ]
  }
 ],
 "metadata": {
  "kernelspec": {
   "display_name": "Python 3 (ipykernel)",
   "language": "python",
   "name": "python3"
  },
  "language_info": {
   "codemirror_mode": {
    "name": "ipython",
    "version": 3
   },
   "file_extension": ".py",
   "mimetype": "text/x-python",
   "name": "python",
   "nbconvert_exporter": "python",
   "pygments_lexer": "ipython3",
   "version": "3.9.13"
  }
 },
 "nbformat": 4,
 "nbformat_minor": 5
}
