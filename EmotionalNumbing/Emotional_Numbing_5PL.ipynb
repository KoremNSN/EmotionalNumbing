{
 "cells": [
  {
   "cell_type": "markdown",
   "id": "627d5846",
   "metadata": {},
   "source": [
    "# Emotional numbing in PTSD a look into a paradox\n",
    "\n",
    "PTSD is famously known among other for hyper arousal, anger, nightmare, problems with emotion regulation and emotional numbing. </br>\n",
    "While most symptoms point to over expression of emotions, emotional numbing states that there is low emotionality.\n",
    "\n",
    "In a not realy direct way, here, we will continue to explore the idea we proposed in the SIA paper.</br>\n",
    "Mainly, reduced response to low valance/arousing stimuli and high response to higher valance stimuli.\n",
    "\n",
    "In this experiment we will explore this by asking people with or without diagnosis of PTSD to rate pictures from known datasets (IAPS/NAPS).</br> \n",
    "Using the dataset reported valence rating as the X axis and participants rating as the y-axis, we will fit a 5 parameter logistic regression to the curve of participants and compare the parameters between the groups.\n",
    "\n",
    "The formula we will use for the 5PL regression:\n",
    "\n",
    "y = d + (a-d)/(1+(x/c)^b)^g\n",
    "\n",
    "a theoretical response at min</br>\n",
    "b slope factor</br>\n",
    "c mid range </br>\n",
    "d theoretical response at max</br>\n",
    "g asymmetrical factor</br>\n",
    "\n",
    "Our main hypothesis is regadind b.</br>\n",
    "Lower values of b point to a linear relation.</br>\n",
    "Our main hypothesis is a larger b in the PTSD group compared with control.</br>\n",
    "Secondary hypothesis include:</br>\n",
    "1. b will be modulated by emotional numbing (PCL5)</br>\n",
    "2. d will be modulated by depression/anhedonia score (PCL5/BDI)"
   ]
  },
  {
   "cell_type": "code",
   "execution_count": 1,
   "id": "e53a27d7",
   "metadata": {},
   "outputs": [
    {
     "name": "stderr",
     "output_type": "stream",
     "text": [
      "/home/nachshon/anaconda3/envs/en/lib/python3.9/site-packages/pymc/sampling_jax.py:36: UserWarning: This module is experimental.\n",
      "  warnings.warn(\"This module is experimental.\")\n"
     ]
    }
   ],
   "source": [
    "import pandas as pd\n",
    "import numpy as np\n",
    "import numpyro\n",
    "\n",
    "import pymc as pm\n",
    "import arviz as az\n",
    "import jax\n",
    "\n",
    "import matplotlib.pyplot as ply\n",
    "import seaborn as sns"
   ]
  },
  {
   "cell_type": "markdown",
   "id": "9c2c0146",
   "metadata": {},
   "source": [
    "## Data generation\n",
    "\n",
    "If we assume that participants with or without PTSD diagnosis both respond using a 5PL model,</br>\n",
    "only the PTSD group has a higher b value.\n",
    "\n",
    "This assumption is possible if we consider that variance of items in the IAPS tend to be smaller toward the edges.\n",
    "\n",
    "IAPS/NAPS ratings are 1-9, with 1 most negative, 5 neutral and 9 most positive.</br>\n",
    "For ease of analysis we will use rating -1 (i.e., 0-4).</br>\n",
    "Our participants will use a scale of 1-100(/100)."
   ]
  },
  {
   "cell_type": "code",
   "execution_count": 2,
   "id": "af214b48",
   "metadata": {},
   "outputs": [],
   "source": [
    "def add_sub(trials = 100, min_r = 0, max_r = 4, noise = .1, slope=10):\n",
    "    \n",
    "    x = np.arange(min_r, max_r, max_r/trials)\n",
    "    a = np.random.beta(1, 20, 1)[0] # close to 0 but not 0.\n",
    "    b = np.random.normal(slope, 2, 1)[0] # this is where the magic happens\n",
    "    c = np.random.normal(2.5, .5, 1)[0] # kind of average\n",
    "    d = np.random.beta(10, 10, 1)[0] # close to 0.5\n",
    "    g = np.random.normal(1, .2, 1)[0] # almost symetrical\n",
    "    \n",
    "    # the 5PL formula\n",
    "    y = d + (a-d)/(1+(x/c)**b)**g + np.random.normal(0, noise, trials)\n",
    "    \n",
    "    # replace negative values with 0 (you cannot rate lower than 0)\n",
    "    y = [0 if i < 0 else i for i in y]   \n",
    "\n",
    "    df = pd.DataFrame({'x': x, 'y': y})\n",
    "    return(df)"
   ]
  },
  {
   "cell_type": "markdown",
   "id": "550c80fa",
   "metadata": {},
   "source": [
    "Let's see if we can find a difference of 2 in 100 subs"
   ]
  },
  {
   "cell_type": "code",
   "execution_count": 3,
   "id": "fab87211",
   "metadata": {},
   "outputs": [],
   "source": [
    "n_subs = 50\n",
    "slope_ptsd = 10\n",
    "slope_control = 8\n",
    "ptsd_df = pd.DataFrame()\n",
    "cont_df = pd.DataFrame()\n",
    "for i in range(n_subs):\n",
    "    \n",
    "    temp_p = add_sub(slope = slope_ptsd)\n",
    "    temp_c = add_sub(slope = slope_control)\n",
    "    temp_p['sub'] = i\n",
    "    temp_c['sub'] = i\n",
    "    ptsd_df = pd.concat([ptsd_df, temp_p])\n",
    "    cont_df = pd.concat([cont_df, temp_c])\n",
    "    \n",
    "sub_idxP = list(ptsd_df['sub'])\n",
    "sub_idxC = list(cont_df['sub'])"
   ]
  },
  {
   "cell_type": "code",
   "execution_count": 4,
   "id": "ba2a2df0",
   "metadata": {},
   "outputs": [
    {
     "data": {
      "text/html": [
       "\n",
       "<style>\n",
       "    /* Turns off some styling */\n",
       "    progress {\n",
       "        /* gets rid of default border in Firefox and Opera. */\n",
       "        border: none;\n",
       "        /* Needs to be in here for Safari polyfill so background images work as expected. */\n",
       "        background-size: auto;\n",
       "    }\n",
       "    progress:not([value]), progress:not([value])::-webkit-progress-bar {\n",
       "        background: repeating-linear-gradient(45deg, #7e7e7e, #7e7e7e 10px, #5c5c5c 10px, #5c5c5c 20px);\n",
       "    }\n",
       "    .progress-bar-interrupted, .progress-bar-interrupted::-webkit-progress-bar {\n",
       "        background: #F44336;\n",
       "    }\n",
       "</style>\n"
      ],
      "text/plain": [
       "<IPython.core.display.HTML object>"
      ]
     },
     "metadata": {},
     "output_type": "display_data"
    },
    {
     "data": {
      "text/html": [
       "\n",
       "    <div>\n",
       "      <progress value='16000' class='' max='16000' style='width:300px; height:20px; vertical-align: middle;'></progress>\n",
       "      100.00% [16000/16000 08:56&lt;00:00 Sampling 4 chains, 3 divergences]\n",
       "    </div>\n",
       "    "
      ],
      "text/plain": [
       "<IPython.core.display.HTML object>"
      ]
     },
     "metadata": {},
     "output_type": "display_data"
    },
    {
     "name": "stderr",
     "output_type": "stream",
     "text": [
      "ERROR:pymc:There were 2 divergences after tuning. Increase `target_accept` or reparameterize.\n",
      "ERROR:pymc:There was 1 divergence after tuning. Increase `target_accept` or reparameterize.\n"
     ]
    }
   ],
   "source": [
    "with pm.Model() as five_PL:\n",
    "    \n",
    "    # hyper prior per group\n",
    "    b = pm.Normal('b', 6, 3, shape=2)\n",
    "    \n",
    "    aC = pm.Beta('aC',   1,   20,  shape = n_subs)\n",
    "    bC = pm.Normal('bC', b[0], 2,  shape = n_subs)\n",
    "    cC = pm.Normal('cC', 2.5, .5,  shape = n_subs)\n",
    "    dC = pm.Beta('dC',   10,  10,  shape = n_subs)\n",
    "    gC = pm.Normal('gC', 1,   .2,  shape = n_subs)\n",
    "    \n",
    "    aP = pm.Beta('aP',   1,   20,  shape = n_subs)\n",
    "    bP = pm.Normal('bP', b[1], 2,  shape = n_subs)\n",
    "    cP = pm.Normal('cP', 2.5, .5,  shape = n_subs)\n",
    "    dP = pm.Beta('dP',   10,  10,  shape = n_subs)\n",
    "    gP = pm.Normal('gP', 1,   .2,  shape = n_subs)\n",
    "    \n",
    "    \n",
    "    eps = pm.Exponential('eps', 1, shape=2)\n",
    "    \n",
    "    y_hatC = dC[sub_idxC] + (aC[sub_idxC]-dC[sub_idxC])/(1+(cont_df['x'].values/cC[sub_idxC])**bC[sub_idxC])**gC[sub_idxC]\n",
    "    y_hatP = dP[sub_idxP] + (aP[sub_idxP]-dP[sub_idxP])/(1+(ptsd_df['x'].values/cP[sub_idxP])**bP[sub_idxP])**gP[sub_idxP]\n",
    "\n",
    "    # Likelihood (sampling distribution) of observations\n",
    "    ratingC = pm.Normal('ratingC',y_hatC, eps[0], observed=cont_df.y)\n",
    "    ratingP = pm.Normal('ratingP',y_hatP, eps[1], observed=ptsd_df.y)\n",
    "\n",
    "    trace_PL5 = pm.sample(3000, return_inferencedata=True, target_accept=0.95)"
   ]
  },
  {
   "cell_type": "markdown",
   "id": "a7f014f1",
   "metadata": {},
   "source": [
    "How well have this model preform?"
   ]
  },
  {
   "cell_type": "code",
   "execution_count": 5,
   "id": "a1140b8d",
   "metadata": {},
   "outputs": [
    {
     "data": {
      "text/plain": [
       "<AxesSubplot:ylabel='Count'>"
      ]
     },
     "execution_count": 5,
     "metadata": {},
     "output_type": "execute_result"
    },
    {
     "data": {
      "image/png": "[encoded data removed]",
      "text/plain": [
       "<Figure size 432x288 with 1 Axes>"
      ]
     },
     "metadata": {
      "needs_background": "light"
     },
     "output_type": "display_data"
    }
   ],
   "source": [
    "tr = trace_PL5.posterior.stack(draws=(\"chain\", \"draw\"))\n",
    "\n",
    "Control = np.mean(tr.bC[:,:].values, axis = 0)\n",
    "PTSD    = np.mean(tr.bP[:,:].values, axis = 0)\n",
    "\n",
    "sns.histplot(Control)\n",
    "sns.histplot(PTSD)"
   ]
  },
  {
   "cell_type": "code",
   "execution_count": 6,
   "id": "6f02eb80",
   "metadata": {},
   "outputs": [
    {
     "data": {
      "text/plain": [
       "Text(0.5, 1.0, '')"
      ]
     },
     "execution_count": 6,
     "metadata": {},
     "output_type": "execute_result"
    },
    {
     "data": {
      "image/png": "[encoded data removed]",
      "text/plain": [
       "<Figure size 432x288 with 1 Axes>"
      ]
     },
     "metadata": {
      "needs_background": "light"
     },
     "output_type": "display_data"
    }
   ],
   "source": [
    "Group = PTSD - Control\n",
    "az.plot_posterior(Group, point_estimate='mean', kind='hist', ref_val=0).set_title(\"\")"
   ]
  },
  {
   "cell_type": "markdown",
   "id": "7375e9a1",
   "metadata": {},
   "source": [
    "The model overshoots a bit, but within the HDI.</br>\n",
    "Let's look at the fit"
   ]
  },
  {
   "cell_type": "code",
   "execution_count": 7,
   "id": "227e96d4",
   "metadata": {},
   "outputs": [
    {
     "data": {
      "text/plain": [
       "<AxesSubplot:xlabel='x', ylabel='y'>"
      ]
     },
     "execution_count": 7,
     "metadata": {},
     "output_type": "execute_result"
    },
    {
     "data": {
      "image/png": "[encoded data removed]",
      "text/plain": [
       "<Figure size 432x288 with 1 Axes>"
      ]
     },
     "metadata": {
      "needs_background": "light"
     },
     "output_type": "display_data"
    }
   ],
   "source": [
    "a5 = az.summary(trace_PL5, var_names=['aC'])[['mean']]\n",
    "b5 = az.summary(trace_PL5, var_names=['bC'])[['mean']]\n",
    "c5 = az.summary(trace_PL5, var_names=['cC'])[['mean']]\n",
    "d5 = az.summary(trace_PL5, var_names=['dC'])[['mean']]\n",
    "g5 = az.summary(trace_PL5, var_names=['gC'])[['mean']]\n",
    "\n",
    "df_C = pd.DataFrame({'a': np.mean(a5['mean']),\n",
    "                     'b': np.mean(b5['mean']),\n",
    "                     'c': np.mean(c5['mean']),\n",
    "                     'd': np.mean(d5['mean']),\n",
    "                     'g': np.mean(g5['mean']),\n",
    "                     'x': cont_df.x})\n",
    "\n",
    "df_C['y'] = df_C.d + (df_C.a-df_C.d)/(1+(df_C.x/df_C.c)**df_C.b)**df_C.g\n",
    "\n",
    "\n",
    "sns.lineplot(x='x',y='y',data=cont_df)\n",
    "sns.lineplot(x='x',y='y',data=df_C)"
   ]
  },
  {
   "cell_type": "code",
   "execution_count": 8,
   "id": "fe784c24",
   "metadata": {},
   "outputs": [
    {
     "data": {
      "text/plain": [
       "<AxesSubplot:xlabel='x', ylabel='y'>"
      ]
     },
     "execution_count": 8,
     "metadata": {},
     "output_type": "execute_result"
    },
    {
     "data": {
      "image/png": "[encoded data removed]",
      "text/plain": [
       "<Figure size 432x288 with 1 Axes>"
      ]
     },
     "metadata": {
      "needs_background": "light"
     },
     "output_type": "display_data"
    }
   ],
   "source": [
    "a5 = az.summary(trace_PL5, var_names=['aP'])[['mean']]\n",
    "b5 = az.summary(trace_PL5, var_names=['bP'])[['mean']]\n",
    "c5 = az.summary(trace_PL5, var_names=['cP'])[['mean']]\n",
    "d5 = az.summary(trace_PL5, var_names=['dP'])[['mean']]\n",
    "g5 = az.summary(trace_PL5, var_names=['gP'])[['mean']]\n",
    "\n",
    "df_P = pd.DataFrame({'a': np.mean(a5['mean']),\n",
    "                     'b': np.mean(b5['mean']),\n",
    "                     'c': np.mean(c5['mean']),\n",
    "                     'd': np.mean(d5['mean']),\n",
    "                     'g': np.mean(g5['mean']),\n",
    "                     'x': ptsd_df.x})\n",
    "\n",
    "df_P['y'] = df_P.d + (df_P.a-df_P.d)/(1+(df_P.x/df_P.c)**df_P.b)**df_P.g\n",
    "\n",
    "sns.lineplot(x='x',y='y',data=ptsd_df)\n",
    "sns.lineplot(x='x',y='y',data=df_P)"
   ]
  },
  {
   "cell_type": "markdown",
   "id": "1d93385d",
   "metadata": {},
   "source": [
    "Compare model to a linear model"
   ]
  },
  {
   "cell_type": "code",
   "execution_count": 9,
   "id": "7c473f3b",
   "metadata": {},
   "outputs": [
    {
     "data": {
      "text/html": [
       "\n",
       "<style>\n",
       "    /* Turns off some styling */\n",
       "    progress {\n",
       "        /* gets rid of default border in Firefox and Opera. */\n",
       "        border: none;\n",
       "        /* Needs to be in here for Safari polyfill so background images work as expected. */\n",
       "        background-size: auto;\n",
       "    }\n",
       "    progress:not([value]), progress:not([value])::-webkit-progress-bar {\n",
       "        background: repeating-linear-gradient(45deg, #7e7e7e, #7e7e7e 10px, #5c5c5c 10px, #5c5c5c 20px);\n",
       "    }\n",
       "    .progress-bar-interrupted, .progress-bar-interrupted::-webkit-progress-bar {\n",
       "        background: #F44336;\n",
       "    }\n",
       "</style>\n"
      ],
      "text/plain": [
       "<IPython.core.display.HTML object>"
      ]
     },
     "metadata": {},
     "output_type": "display_data"
    },
    {
     "data": {
      "text/html": [
       "\n",
       "    <div>\n",
       "      <progress value='16000' class='' max='16000' style='width:300px; height:20px; vertical-align: middle;'></progress>\n",
       "      100.00% [16000/16000 02:06&lt;00:00 Sampling 4 chains, 0 divergences]\n",
       "    </div>\n",
       "    "
      ],
      "text/plain": [
       "<IPython.core.display.HTML object>"
      ]
     },
     "metadata": {},
     "output_type": "display_data"
    }
   ],
   "source": [
    "with pm.Model() as linear:\n",
    "    \n",
    "    b_h = pm.Normal('b_h', 1, 1, shape=2)\n",
    "   \n",
    "    aC = pm.Normal('interceptC', 0, 5, shape = n_subs)\n",
    "    bC = pm.Normal('slopeC', b_h[1], 1, shape = n_subs)\n",
    "   \n",
    "    aP = pm.Normal('interceptP', 0, 5, shape = n_subs)\n",
    "    bP = pm.Normal('slopeP', b_h[0], 1, shape = n_subs)\n",
    "    \n",
    "    eps = pm.Exponential('eps', 1, shape=2)\n",
    "\n",
    "    y_hatC = aC[sub_idxC] + bC[sub_idxC] * cont_df.x\n",
    "    y_hatP = aP[sub_idxP] + bP[sub_idxP] * ptsd_df.x\n",
    "\n",
    "       \n",
    "    # Likelihood (sampling distribution) of observations\n",
    "    ratingC = pm.Normal('ratingC',y_hatC, eps[0], observed=cont_df.y)\n",
    "    ratingP = pm.Normal('ratingP',y_hatP, eps[1], observed=ptsd_df.y)\n",
    "\n",
    "    \n",
    "    trace_linear = pm.sample(3000, return_inferencedata=True, target_accept=0.95)"
   ]
  },
  {
   "cell_type": "code",
   "execution_count": 10,
   "id": "c4106fd6",
   "metadata": {},
   "outputs": [
    {
     "data": {
      "text/plain": [
       "Computed from 12000 posterior samples and 5000 observations log-likelihood matrix.\n",
       "\n",
       "         Estimate       SE\n",
       "elpd_loo  5012.99    55.06\n",
       "p_loo      179.04        -\n",
       "------\n",
       "\n",
       "Pareto k diagnostic values:\n",
       "                         Count   Pct.\n",
       "(-Inf, 0.5]   (good)     5000  100.0%\n",
       " (0.5, 0.7]   (ok)          0    0.0%\n",
       "   (0.7, 1]   (bad)         0    0.0%\n",
       "   (1, Inf)   (very bad)    0    0.0%"
      ]
     },
     "execution_count": 10,
     "metadata": {},
     "output_type": "execute_result"
    }
   ],
   "source": [
    "az.loo(trace_PL5, var_name=\"ratingP\")"
   ]
  },
  {
   "cell_type": "code",
   "execution_count": 11,
   "id": "3fdd45ba",
   "metadata": {},
   "outputs": [
    {
     "data": {
      "text/plain": [
       "Computed from 12000 posterior samples and 5000 observations log-likelihood matrix.\n",
       "\n",
       "         Estimate       SE\n",
       "elpd_loo  3802.78    48.06\n",
       "p_loo       99.91        -\n",
       "------\n",
       "\n",
       "Pareto k diagnostic values:\n",
       "                         Count   Pct.\n",
       "(-Inf, 0.5]   (good)     5000  100.0%\n",
       " (0.5, 0.7]   (ok)          0    0.0%\n",
       "   (0.7, 1]   (bad)         0    0.0%\n",
       "   (1, Inf)   (very bad)    0    0.0%"
      ]
     },
     "execution_count": 11,
     "metadata": {},
     "output_type": "execute_result"
    }
   ],
   "source": [
    "az.loo(trace_linear, var_name=\"ratingP\")"
   ]
  },
  {
   "cell_type": "markdown",
   "id": "88508a61",
   "metadata": {},
   "source": [
    "The model fit looks very good.\n",
    "To test for sensitivity let's try only 30 trials"
   ]
  },
  {
   "cell_type": "code",
   "execution_count": 12,
   "id": "1df75718",
   "metadata": {},
   "outputs": [],
   "source": [
    "n_subs = 100\n",
    "slope_ptsd = 10\n",
    "slope_control = 8\n",
    "ptsd_df = pd.DataFrame()\n",
    "cont_df = pd.DataFrame()\n",
    "for i in range(n_subs):\n",
    "    \n",
    "    temp_p = add_sub(slope = slope_ptsd, trials = 30)\n",
    "    temp_c = add_sub(slope = slope_control, trials = 30)\n",
    "    temp_p['sub'] = i\n",
    "    temp_c['sub'] = i\n",
    "    ptsd_df = pd.concat([ptsd_df, temp_p])\n",
    "    cont_df = pd.concat([cont_df, temp_c])\n",
    "    \n",
    "sub_idxP = list(ptsd_df['sub'])\n",
    "sub_idxC = list(cont_df['sub'])"
   ]
  },
  {
   "cell_type": "code",
   "execution_count": 13,
   "id": "4dd9858c",
   "metadata": {},
   "outputs": [
    {
     "data": {
      "text/html": [
       "\n",
       "<style>\n",
       "    /* Turns off some styling */\n",
       "    progress {\n",
       "        /* gets rid of default border in Firefox and Opera. */\n",
       "        border: none;\n",
       "        /* Needs to be in here for Safari polyfill so background images work as expected. */\n",
       "        background-size: auto;\n",
       "    }\n",
       "    progress:not([value]), progress:not([value])::-webkit-progress-bar {\n",
       "        background: repeating-linear-gradient(45deg, #7e7e7e, #7e7e7e 10px, #5c5c5c 10px, #5c5c5c 20px);\n",
       "    }\n",
       "    .progress-bar-interrupted, .progress-bar-interrupted::-webkit-progress-bar {\n",
       "        background: #F44336;\n",
       "    }\n",
       "</style>\n"
      ],
      "text/plain": [
       "<IPython.core.display.HTML object>"
      ]
     },
     "metadata": {},
     "output_type": "display_data"
    },
    {
     "data": {
      "text/html": [
       "\n",
       "    <div>\n",
       "      <progress value='16000' class='' max='16000' style='width:300px; height:20px; vertical-align: middle;'></progress>\n",
       "      100.00% [16000/16000 06:18&lt;00:00 Sampling 4 chains, 788 divergences]\n",
       "    </div>\n",
       "    "
      ],
      "text/plain": [
       "<IPython.core.display.HTML object>"
      ]
     },
     "metadata": {},
     "output_type": "display_data"
    },
    {
     "name": "stderr",
     "output_type": "stream",
     "text": [
      "ERROR:pymc:There were 243 divergences after tuning. Increase `target_accept` or reparameterize.\n",
      "ERROR:pymc:There were 191 divergences after tuning. Increase `target_accept` or reparameterize.\n",
      "ERROR:pymc:There were 166 divergences after tuning. Increase `target_accept` or reparameterize.\n",
      "ERROR:pymc:There were 188 divergences after tuning. Increase `target_accept` or reparameterize.\n"
     ]
    }
   ],
   "source": [
    "with pm.Model() as five_PL:\n",
    "    \n",
    "    # hyper prior per group\n",
    "    b = pm.Normal('b', 6, 4, shape=2)\n",
    "    \n",
    "    aC = pm.Beta('aC',   1,   20,  shape = n_subs)\n",
    "    bC = pm.Normal('bC', b[0], 2,  shape = n_subs)\n",
    "    cC = pm.Normal('cC', 2.5, .5,  shape = n_subs)\n",
    "    dC = pm.Beta('dC',   10,  10,  shape = n_subs)\n",
    "    gC = pm.Normal('gC', 1,   .2,  shape = n_subs)\n",
    "    \n",
    "    aP = pm.Beta('aP',   1,   20,  shape = n_subs)\n",
    "    bP = pm.Normal('bP', b[1], 2,  shape = n_subs)\n",
    "    cP = pm.Normal('cP', 2.5, .5,  shape = n_subs)\n",
    "    dP = pm.Beta('dP',   10,  10,  shape = n_subs)\n",
    "    gP = pm.Normal('gP', 1,   .2,  shape = n_subs)\n",
    "    \n",
    "    \n",
    "    eps = pm.Exponential('eps', 1, shape=2)\n",
    "    \n",
    "    y_hatC = dC[sub_idxC] + (aC[sub_idxC]-dC[sub_idxC])/(1+(cont_df['x'].values/cC[sub_idxC])**bC[sub_idxC])**gC[sub_idxC]\n",
    "    y_hatP = dP[sub_idxP] + (aP[sub_idxP]-dP[sub_idxP])/(1+(ptsd_df['x'].values/cP[sub_idxP])**bP[sub_idxP])**gP[sub_idxP]\n",
    "\n",
    "    # Likelihood (sampling distribution) of observations\n",
    "    ratingC = pm.Normal('ratingC',y_hatC, eps[0], observed=cont_df.y)\n",
    "    ratingP = pm.Normal('ratingP',y_hatP, eps[1], observed=ptsd_df.y)\n",
    "\n",
    "    trace_PL5_30 = pm.sample(3000, return_inferencedata=True, target_accept=0.95)"
   ]
  },
  {
   "cell_type": "code",
   "execution_count": 14,
   "id": "794e3d3c",
   "metadata": {},
   "outputs": [
    {
     "data": {
      "text/plain": [
       "<AxesSubplot:ylabel='Count'>"
      ]
     },
     "execution_count": 14,
     "metadata": {},
     "output_type": "execute_result"
    },
    {
     "data": {
      "image/png": "[encoded data removed]",
      "text/plain": [
       "<Figure size 432x288 with 1 Axes>"
      ]
     },
     "metadata": {
      "needs_background": "light"
     },
     "output_type": "display_data"
    }
   ],
   "source": [
    "tr = trace_PL5_30.posterior.stack(draws=(\"chain\", \"draw\"))\n",
    "\n",
    "Control = np.mean(tr.bC[:,:].values, axis = 0)\n",
    "PTSD    = np.mean(tr.bP[:,:].values, axis = 0)\n",
    "\n",
    "sns.histplot(Control)\n",
    "sns.histplot(PTSD)"
   ]
  },
  {
   "cell_type": "code",
   "execution_count": 15,
   "id": "309bba7e",
   "metadata": {},
   "outputs": [
    {
     "data": {
      "text/plain": [
       "Text(0.5, 1.0, '')"
      ]
     },
     "execution_count": 15,
     "metadata": {},
     "output_type": "execute_result"
    },
    {
     "data": {
      "image/png": "[encoded data removed]",
      "text/plain": [
       "<Figure size 432x288 with 1 Axes>"
      ]
     },
     "metadata": {
      "needs_background": "light"
     },
     "output_type": "display_data"
    }
   ],
   "source": [
    "Group = PTSD - Control\n",
    "az.plot_posterior(Group, point_estimate='mean', kind='hist', ref_val=0).set_title(\"\")"
   ]
  },
  {
   "cell_type": "markdown",
   "id": "3fc99826",
   "metadata": {},
   "source": [
    "Uneven data set?"
   ]
  },
  {
   "cell_type": "code",
   "execution_count": 16,
   "id": "2572b840",
   "metadata": {},
   "outputs": [],
   "source": [
    "n_subs_p = 50\n",
    "n_subs_c = 450\n",
    "slope_ptsd = 10\n",
    "slope_control = 8\n",
    "ptsd_df = pd.DataFrame()\n",
    "cont_df = pd.DataFrame()\n",
    "for i in range(n_subs_p):\n",
    "    \n",
    "    temp_p = add_sub(slope = slope_ptsd, trials = 40)\n",
    "    temp_p['sub'] = i\n",
    "    ptsd_df = pd.concat([ptsd_df, temp_p])\n",
    "\n",
    "for i in range(n_subs_c):\n",
    "    \n",
    "    temp_c = add_sub(slope = slope_control, trials = 40)\n",
    "    temp_c['sub'] = i\n",
    "    cont_df = pd.concat([cont_df, temp_c])\n",
    "    \n",
    "sub_idxP = list(ptsd_df['sub'])\n",
    "sub_idxC = list(cont_df['sub'])"
   ]
  },
  {
   "cell_type": "code",
   "execution_count": 17,
   "id": "1fa731f2",
   "metadata": {},
   "outputs": [
    {
     "data": {
      "text/html": [
       "\n",
       "<style>\n",
       "    /* Turns off some styling */\n",
       "    progress {\n",
       "        /* gets rid of default border in Firefox and Opera. */\n",
       "        border: none;\n",
       "        /* Needs to be in here for Safari polyfill so background images work as expected. */\n",
       "        background-size: auto;\n",
       "    }\n",
       "    progress:not([value]), progress:not([value])::-webkit-progress-bar {\n",
       "        background: repeating-linear-gradient(45deg, #7e7e7e, #7e7e7e 10px, #5c5c5c 10px, #5c5c5c 20px);\n",
       "    }\n",
       "    .progress-bar-interrupted, .progress-bar-interrupted::-webkit-progress-bar {\n",
       "        background: #F44336;\n",
       "    }\n",
       "</style>\n"
      ],
      "text/plain": [
       "<IPython.core.display.HTML object>"
      ]
     },
     "metadata": {},
     "output_type": "display_data"
    },
    {
     "data": {
      "text/html": [
       "\n",
       "    <div>\n",
       "      <progress value='16000' class='' max='16000' style='width:300px; height:20px; vertical-align: middle;'></progress>\n",
       "      100.00% [16000/16000 17:20&lt;00:00 Sampling 4 chains, 254 divergences]\n",
       "    </div>\n",
       "    "
      ],
      "text/plain": [
       "<IPython.core.display.HTML object>"
      ]
     },
     "metadata": {},
     "output_type": "display_data"
    },
    {
     "name": "stderr",
     "output_type": "stream",
     "text": [
      "ERROR:pymc:There were 73 divergences after tuning. Increase `target_accept` or reparameterize.\n",
      "ERROR:pymc:There were 71 divergences after tuning. Increase `target_accept` or reparameterize.\n",
      "ERROR:pymc:There were 62 divergences after tuning. Increase `target_accept` or reparameterize.\n",
      "ERROR:pymc:There were 48 divergences after tuning. Increase `target_accept` or reparameterize.\n"
     ]
    }
   ],
   "source": [
    "with pm.Model() as five_PL:\n",
    "    \n",
    "    # hyper prior per group\n",
    "    b = pm.Normal('b', 6, 4, shape=2)\n",
    "    \n",
    "    aC = pm.Beta('aC',   1,   20,  shape = n_subs_c)\n",
    "    bC = pm.Normal('bC', b[0], 2,  shape = n_subs_c)\n",
    "    cC = pm.Normal('cC', 2.5, .5,  shape = n_subs_c)\n",
    "    dC = pm.Beta('dC',   10,  10,  shape = n_subs_c)\n",
    "    gC = pm.Normal('gC', 1,   .2,  shape = n_subs_c)\n",
    "    \n",
    "    aP = pm.Beta('aP',   1,   20,  shape = n_subs_p)\n",
    "    bP = pm.Normal('bP', b[1], 2,  shape = n_subs_p)\n",
    "    cP = pm.Normal('cP', 2.5, .5,  shape = n_subs_p)\n",
    "    dP = pm.Beta('dP',   10,  10,  shape = n_subs_p)\n",
    "    gP = pm.Normal('gP', 1,   .2,  shape = n_subs_p)\n",
    "    \n",
    "    \n",
    "    eps = pm.Exponential('eps', 1, shape=2)\n",
    "    \n",
    "    y_hatC = dC[sub_idxC] + (aC[sub_idxC]-dC[sub_idxC])/(1+(cont_df['x'].values/cC[sub_idxC])**bC[sub_idxC])**gC[sub_idxC]\n",
    "    y_hatP = dP[sub_idxP] + (aP[sub_idxP]-dP[sub_idxP])/(1+(ptsd_df['x'].values/cP[sub_idxP])**bP[sub_idxP])**gP[sub_idxP]\n",
    "\n",
    "    # Likelihood (sampling distribution) of observations\n",
    "    ratingC = pm.Normal('ratingC',y_hatC, eps[0], observed=cont_df.y)\n",
    "    ratingP = pm.Normal('ratingP',y_hatP, eps[1], observed=ptsd_df.y)\n",
    "\n",
    "    trace_PL5_uneven = pm.sample(3000, return_inferencedata=True, target_accept=0.95)"
   ]
  },
  {
   "cell_type": "code",
   "execution_count": 18,
   "id": "f1a44d0c",
   "metadata": {},
   "outputs": [
    {
     "data": {
      "text/plain": [
       "<AxesSubplot:ylabel='Count'>"
      ]
     },
     "execution_count": 18,
     "metadata": {},
     "output_type": "execute_result"
    },
    {
     "data": {
      "image/png": "[encoded data removed]",
      "text/plain": [
       "<Figure size 432x288 with 1 Axes>"
      ]
     },
     "metadata": {
      "needs_background": "light"
     },
     "output_type": "display_data"
    }
   ],
   "source": [
    "tr = trace_PL5_uneven.posterior.stack(draws=(\"chain\", \"draw\"))\n",
    "\n",
    "Control = np.mean(tr.bC[:,:].values, axis = 0)\n",
    "PTSD    = np.mean(tr.bP[:,:].values, axis = 0)\n",
    "\n",
    "sns.histplot(Control)\n",
    "sns.histplot(PTSD)"
   ]
  },
  {
   "cell_type": "code",
   "execution_count": 19,
   "id": "b753db57",
   "metadata": {},
   "outputs": [
    {
     "data": {
      "text/plain": [
       "Text(0.5, 1.0, '')"
      ]
     },
     "execution_count": 19,
     "metadata": {},
     "output_type": "execute_result"
    },
    {
     "data": {
      "image/png": "[encoded data removed]",
      "text/plain": [
       "<Figure size 432x288 with 1 Axes>"
      ]
     },
     "metadata": {
      "needs_background": "light"
     },
     "output_type": "display_data"
    }
   ],
   "source": [
    "Group = PTSD - Control\n",
    "az.plot_posterior(Group, point_estimate='mean', kind='hist', ref_val=0).set_title(\"\")"
   ]
  },
  {
   "cell_type": "markdown",
   "id": "73815b22",
   "metadata": {},
   "source": [
    "just in case normal participants respond linearly. let's see if the model can find that"
   ]
  },
  {
   "cell_type": "code",
   "execution_count": 20,
   "id": "d8f2bea8",
   "metadata": {},
   "outputs": [],
   "source": [
    "def add_sub_lin(trials = 100, min_r = 0, max_r = 4, noise = .1):\n",
    "    \n",
    "    x = np.arange(min_r, max_r, max_r/trials)\n",
    "\n",
    "    y = 1/8 * x + np.random.normal(0, noise, trials)\n",
    "    \n",
    "    # replace negative values with 0 (you cannot rate lower than 0)\n",
    "    y = [0 if i < 0 else i for i in y]   \n",
    "\n",
    "    df = pd.DataFrame({'x': x, 'y': y})\n",
    "    return(df)"
   ]
  },
  {
   "cell_type": "code",
   "execution_count": 24,
   "id": "f9565390",
   "metadata": {},
   "outputs": [],
   "source": [
    "n_subs_c = 450\n",
    "cont_df = pd.DataFrame()\n",
    "\n",
    "for i in range(n_subs_c):\n",
    "    \n",
    "    temp_c = add_sub_lin(trials = 40, noise = .2)\n",
    "    temp_c['sub'] = i\n",
    "    cont_df = pd.concat([cont_df, temp_c])\n",
    "    \n",
    "sub_idxC = list(cont_df['sub'])"
   ]
  },
  {
   "cell_type": "code",
   "execution_count": 25,
   "id": "b85bd86d",
   "metadata": {},
   "outputs": [
    {
     "data": {
      "text/html": [
       "\n",
       "<style>\n",
       "    /* Turns off some styling */\n",
       "    progress {\n",
       "        /* gets rid of default border in Firefox and Opera. */\n",
       "        border: none;\n",
       "        /* Needs to be in here for Safari polyfill so background images work as expected. */\n",
       "        background-size: auto;\n",
       "    }\n",
       "    progress:not([value]), progress:not([value])::-webkit-progress-bar {\n",
       "        background: repeating-linear-gradient(45deg, #7e7e7e, #7e7e7e 10px, #5c5c5c 10px, #5c5c5c 20px);\n",
       "    }\n",
       "    .progress-bar-interrupted, .progress-bar-interrupted::-webkit-progress-bar {\n",
       "        background: #F44336;\n",
       "    }\n",
       "</style>\n"
      ],
      "text/plain": [
       "<IPython.core.display.HTML object>"
      ]
     },
     "metadata": {},
     "output_type": "display_data"
    },
    {
     "data": {
      "text/html": [
       "\n",
       "    <div>\n",
       "      <progress value='16000' class='' max='16000' style='width:300px; height:20px; vertical-align: middle;'></progress>\n",
       "      100.00% [16000/16000 18:44&lt;00:00 Sampling 4 chains, 12,000 divergences]\n",
       "    </div>\n",
       "    "
      ],
      "text/plain": [
       "<IPython.core.display.HTML object>"
      ]
     },
     "metadata": {},
     "output_type": "display_data"
    },
    {
     "name": "stderr",
     "output_type": "stream",
     "text": [
      "ERROR:pymc:The chain contains only diverging samples. The model is probably misspecified.\n",
      "WARNING:pymc:The acceptance probability does not match the target. It is 0.8943, but should be close to 0.95. Try to increase the number of tuning steps.\n",
      "ERROR:pymc:The chain contains only diverging samples. The model is probably misspecified.\n",
      "ERROR:pymc:The chain contains only diverging samples. The model is probably misspecified.\n",
      "WARNING:pymc:The acceptance probability does not match the target. It is 0.9008, but should be close to 0.95. Try to increase the number of tuning steps.\n",
      "ERROR:pymc:The chain contains only diverging samples. The model is probably misspecified.\n",
      "WARNING:pymc:The acceptance probability does not match the target. It is 0.8724, but should be close to 0.95. Try to increase the number of tuning steps.\n"
     ]
    }
   ],
   "source": [
    "with pm.Model() as five_PL:\n",
    "    \n",
    "    # hyper prior per group\n",
    "    b = pm.Normal('b', 6, 4)\n",
    "    \n",
    "    aC = pm.Beta('aC',   1,   20,  shape = n_subs_c)\n",
    "    bC = pm.Normal('bC', b,    3,  shape = n_subs_c)\n",
    "    cC = pm.Normal('cC', 2.5, .5,  shape = n_subs_c)\n",
    "    dC = pm.Beta('dC',   10,  10,  shape = n_subs_c)\n",
    "    gC = pm.Normal('gC', 1,   .2,  shape = n_subs_c)\n",
    "    \n",
    "    eps = pm.Exponential('eps', 1)\n",
    "    \n",
    "    y_hatC = dC[sub_idxC] + (aC[sub_idxC]-dC[sub_idxC])/(1+(cont_df['x'].values/cC[sub_idxC])**bC[sub_idxC])**gC[sub_idxC]\n",
    "\n",
    "    # Likelihood (sampling distribution) of observations\n",
    "    ratingC = pm.Normal('ratingC',y_hatC, eps, observed=cont_df.y)\n",
    "\n",
    "    trace_PL5_lin = pm.sample(3000, return_inferencedata=True, target_accept=0.95)"
   ]
  },
  {
   "cell_type": "code",
   "execution_count": 23,
   "id": "c3843a52",
   "metadata": {},
   "outputs": [
    {
     "data": {
      "text/plain": [
       "<AxesSubplot:xlabel='x', ylabel='y'>"
      ]
     },
     "execution_count": 23,
     "metadata": {},
     "output_type": "execute_result"
    },
    {
     "data": {
      "image/png": "[encoded data removed]",
      "text/plain": [
       "<Figure size 432x288 with 1 Axes>"
      ]
     },
     "metadata": {
      "needs_background": "light"
     },
     "output_type": "display_data"
    }
   ],
   "source": [
    "a5 = az.summary(trace_PL5_lin, var_names=['aC'])[['mean']]\n",
    "b5 = az.summary(trace_PL5_lin, var_names=['bC'])[['mean']]\n",
    "c5 = az.summary(trace_PL5_lin, var_names=['cC'])[['mean']]\n",
    "d5 = az.summary(trace_PL5_lin, var_names=['dC'])[['mean']]\n",
    "g5 = az.summary(trace_PL5_lin, var_names=['gC'])[['mean']]\n",
    "\n",
    "df_C = pd.DataFrame({'a': np.mean(a5['mean']),\n",
    "                     'b': np.mean(b5['mean']),\n",
    "                     'c': np.mean(c5['mean']),\n",
    "                     'd': np.mean(d5['mean']),\n",
    "                     'g': np.mean(g5['mean']),\n",
    "                     'x': cont_df.x})\n",
    "\n",
    "df_C['y'] = df_C.d + (df_C.a-df_C.d)/(1+(df_C.x/df_C.c)**df_C.b)**df_C.g\n",
    "\n",
    "\n",
    "sns.lineplot(x='x',y='y',data=cont_df)\n",
    "sns.lineplot(x='x',y='y',data=df_C)"
   ]
  },
  {
   "cell_type": "markdown",
   "id": "109875b8",
   "metadata": {},
   "source": [
    "bad model good fit?"
   ]
  }
 ],
 "metadata": {
  "kernelspec": {
   "display_name": "Python 3 (ipykernel)",
   "language": "python",
   "name": "python3"
  },
  "language_info": {
   "codemirror_mode": {
    "name": "ipython",
    "version": 3
   },
   "file_extension": ".py",
   "mimetype": "text/x-python",
   "name": "python",
   "nbconvert_exporter": "python",
   "pygments_lexer": "ipython3",
   "version": "3.9.13"
  }
 },
 "nbformat": 4,
 "nbformat_minor": 5
}
