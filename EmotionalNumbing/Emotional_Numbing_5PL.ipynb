{
 "cells": [
  {
   "cell_type": "markdown",
   "id": "627d5846",
   "metadata": {},
   "source": [
    "# Emotional numbing in PTSD a look into a paradox\n",
    "\n",
    "PTSD is famously known among other for hyper arousal, anger, nightmare, problems with emotion regulation and emotional numbing. </br>\n",
    "While most symptoms point to over expression of emotions, emotional numbing states that there is low emotionality.\n",
    "\n",
    "In a not realy direct way, here, we will continue to explore the idea we proposed in the SIA paper.</br>\n",
    "Mainly, reduced response to low valance/arousing stimuli and high response to higher valance stimuli.\n",
    "\n",
    "In this experiment we will explore this by asking people with or without diagnosis of PTSD to rate pictures from known datasets (IAPS/NAPS).</br> \n",
    "Using the dataset reported valence rating as the X axis and participants rating as the y-axis, we will fit a 5 parameter logistic regression to the curve of participants and compare the parameters between the groups.\n",
    "\n",
    "The formula we will use for the 5PL regression:\n",
    "\n",
    "y = d + (a-d)/(1+(x/c)^b)^g\n",
    "\n",
    "a theoretical response at min</br>\n",
    "b slope factor</br>\n",
    "c mid range </br>\n",
    "d theoretical response at max</br>\n",
    "g asymmetrical factor</br>\n",
    "\n",
    "Our main hypothesis is regadind b.</br>\n",
    "Lower values of b point to a linear relation.</br>\n",
    "Our main hypothesis is a larger b in the PTSD group compared with control.</br>\n",
    "Secondary hypothesis include:</br>\n",
    "1. b will be modulated by emotional numbing (PCL5)</br>\n",
    "2. d will be modulated by depression/anhedonia score (PCL5/BDI)"
   ]
  },
  {
   "cell_type": "code",
   "execution_count": 2,
   "id": "e53a27d7",
   "metadata": {},
   "outputs": [],
   "source": [
    "import pandas as pd\n",
    "import numpy as np\n",
    "import numpyro\n",
    "\n",
    "import pymc as pm\n",
    "import pymc.sampling_jax as jx\n",
    "import arviz as az\n",
    "import jax\n",
    "numpyro.set_host_device_count(4)\n",
    "\n",
    "import matplotlib.pyplot as ply\n",
    "import seaborn as sns"
   ]
  },
  {
   "cell_type": "markdown",
   "id": "9c2c0146",
   "metadata": {},
   "source": [
    "## Data generation\n",
    "\n",
    "If we assume that participants with or without PTSD diagnosis both respond using a 5PL model,</br>\n",
    "only the PTSD group has a higher b value.\n",
    "\n",
    "This assumption is possible if we consider that variance of items in the IAPS tend to be smaller toward the edges.\n",
    "\n",
    "IAPS/NAPS ratings are 1-9, with 1 most negative, 5 neutral and 9 most positive.</br>\n",
    "For ease of analysis we will use rating -1 (i.e., 0-4).</br>\n",
    "Our participants will use a scale of 1-100(/100)."
   ]
  },
  {
   "cell_type": "code",
   "execution_count": 3,
   "id": "af214b48",
   "metadata": {},
   "outputs": [],
   "source": [
    "def add_sub(trials = 100, min_r = 0, max_r = 4, noise = .1, slope=10):\n",
    "    \n",
    "    x = np.arange(min_r, max_r, max_r/trials)\n",
    "    a = np.random.beta(1, 20, 1)[0] # close to 0 but not 0.\n",
    "    b = np.random.normal(slope, 2, 1)[0] # this is where the magic happens\n",
    "    c = np.random.normal(2.5, .5, 1)[0] # kind of average\n",
    "    d = np.random.beta(10, 10, 1)[0] # close to 0.5\n",
    "    g = np.random.normal(1, .2, 1)[0] # almost symetrical\n",
    "    \n",
    "    # the 5PL formula\n",
    "    y = d + (a-d)/(1+(x/c)**b)**g + np.random.normal(0, noise, trials)\n",
    "    \n",
    "    # replace negative values with 0 (you cannot rate lower than 0)\n",
    "    y = [0 if i < 0 else i for i in y]   \n",
    "\n",
    "    df = pd.DataFrame({'x': x, 'y': y})\n",
    "    return(df)"
   ]
  },
  {
   "cell_type": "markdown",
   "id": "550c80fa",
   "metadata": {},
   "source": [
    "Let's see if we can find a difference of 2 in 100 subs"
   ]
  },
  {
   "cell_type": "code",
   "execution_count": 4,
   "id": "fab87211",
   "metadata": {},
   "outputs": [],
   "source": [
    "n_subs = 50\n",
    "slope_ptsd = 10\n",
    "slope_control = 8\n",
    "ptsd_df = pd.DataFrame()\n",
    "cont_df = pd.DataFrame()\n",
    "for i in range(n_subs):\n",
    "    \n",
    "    temp_p = add_sub(slope = slope_ptsd)\n",
    "    temp_c = add_sub(slope = slope_control)\n",
    "    temp_p['sub'] = i\n",
    "    temp_c['sub'] = i\n",
    "    ptsd_df = pd.concat([ptsd_df, temp_p])\n",
    "    cont_df = pd.concat([cont_df, temp_c])\n",
    "    \n",
    "sub_idxP = list(ptsd_df['sub'])\n",
    "sub_idxC = list(cont_df['sub'])"
   ]
  },
  {
   "cell_type": "code",
   "execution_count": 7,
   "id": "ba2a2df0",
   "metadata": {},
   "outputs": [
    {
     "name": "stderr",
     "output_type": "stream",
     "text": [
      "Auto-assigning NUTS sampler...\n",
      "INFO:pymc:Auto-assigning NUTS sampler...\n",
      "Initializing NUTS using jitter+adapt_diag...\n",
      "INFO:pymc:Initializing NUTS using jitter+adapt_diag...\n",
      "Multiprocess sampling (4 chains in 4 jobs)\n",
      "INFO:pymc:Multiprocess sampling (4 chains in 4 jobs)\n",
      "NUTS: [b, aC, bC, cC, dC, gC, aP, bP, cP, dP, gP, eps]\n",
      "INFO:pymc:NUTS: [b, aC, bC, cC, dC, gC, aP, bP, cP, dP, gP, eps]\n"
     ]
    },
    {
     "data": {
      "text/html": [
       "\n",
       "<style>\n",
       "    /* Turns off some styling */\n",
       "    progress {\n",
       "        /* gets rid of default border in Firefox and Opera. */\n",
       "        border: none;\n",
       "        /* Needs to be in here for Safari polyfill so background images work as expected. */\n",
       "        background-size: auto;\n",
       "    }\n",
       "    progress:not([value]), progress:not([value])::-webkit-progress-bar {\n",
       "        background: repeating-linear-gradient(45deg, #7e7e7e, #7e7e7e 10px, #5c5c5c 10px, #5c5c5c 20px);\n",
       "    }\n",
       "    .progress-bar-interrupted, .progress-bar-interrupted::-webkit-progress-bar {\n",
       "        background: #F44336;\n",
       "    }\n",
       "</style>\n"
      ],
      "text/plain": [
       "<IPython.core.display.HTML object>"
      ]
     },
     "metadata": {},
     "output_type": "display_data"
    },
    {
     "data": {
      "text/html": [
       "\n",
       "    <div>\n",
       "      <progress value='16000' class='' max='16000' style='width:300px; height:20px; vertical-align: middle;'></progress>\n",
       "      100.00% [16000/16000 09:04&lt;00:00 Sampling 4 chains, 140 divergences]\n",
       "    </div>\n",
       "    "
      ],
      "text/plain": [
       "<IPython.core.display.HTML object>"
      ]
     },
     "metadata": {},
     "output_type": "display_data"
    },
    {
     "name": "stderr",
     "output_type": "stream",
     "text": [
      "Sampling 4 chains for 1_000 tune and 3_000 draw iterations (4_000 + 12_000 draws total) took 545 seconds.\n",
      "INFO:pymc:Sampling 4 chains for 1_000 tune and 3_000 draw iterations (4_000 + 12_000 draws total) took 545 seconds.\n",
      "There were 27 divergences after tuning. Increase `target_accept` or reparameterize.\n",
      "ERROR:pymc:There were 27 divergences after tuning. Increase `target_accept` or reparameterize.\n",
      "There were 58 divergences after tuning. Increase `target_accept` or reparameterize.\n",
      "ERROR:pymc:There were 58 divergences after tuning. Increase `target_accept` or reparameterize.\n",
      "There were 31 divergences after tuning. Increase `target_accept` or reparameterize.\n",
      "ERROR:pymc:There were 31 divergences after tuning. Increase `target_accept` or reparameterize.\n",
      "There were 24 divergences after tuning. Increase `target_accept` or reparameterize.\n",
      "ERROR:pymc:There were 24 divergences after tuning. Increase `target_accept` or reparameterize.\n"
     ]
    }
   ],
   "source": [
    "with pm.Model() as five_PL:\n",
    "    \n",
    "    # hyper prior per group\n",
    "    b = pm.Normal('b', 6, 3, shape=2)\n",
    "    \n",
    "    aC = pm.Beta('aC',   1,   20,  shape = n_subs)\n",
    "    bC = pm.Normal('bC', b[0], 2,  shape = n_subs)\n",
    "    cC = pm.Normal('cC', 2.5, .5,  shape = n_subs)\n",
    "    dC = pm.Beta('dC',   10,  10,  shape = n_subs)\n",
    "    gC = pm.Normal('gC', 1,   .2,  shape = n_subs)\n",
    "    \n",
    "    aP = pm.Beta('aP',   1,   20,  shape = n_subs)\n",
    "    bP = pm.Normal('bP', b[1], 2,  shape = n_subs)\n",
    "    cP = pm.Normal('cP', 2.5, .5,  shape = n_subs)\n",
    "    dP = pm.Beta('dP',   10,  10,  shape = n_subs)\n",
    "    gP = pm.Normal('gP', 1,   .2,  shape = n_subs)\n",
    "    \n",
    "    \n",
    "    eps = pm.Exponential('eps', 1, shape=2)\n",
    "    \n",
    "    y_hatC = dC[sub_idxC] + (aC[sub_idxC]-dC[sub_idxC])/(1+(cont_df['x'].values/cC[sub_idxC])**bC[sub_idxC])**gC[sub_idxC]\n",
    "    y_hatP = dP[sub_idxP] + (aP[sub_idxP]-dP[sub_idxP])/(1+(ptsd_df['x'].values/cP[sub_idxP])**bP[sub_idxP])**gP[sub_idxP]\n",
    "\n",
    "    # Likelihood (sampling distribution) of observations\n",
    "    ratingC = pm.Normal('ratingC',y_hatC, eps[1], observed=cont_df.y)\n",
    "    ratingP = pm.Normal('ratingP',y_hatP, eps[0], observed=ptsd_df.y)\n",
    "\n",
    "    trace_PL5 = pm.sample(3000, return_inferencedata=True, target_accept=0.95)"
   ]
  },
  {
   "cell_type": "markdown",
   "id": "a7f014f1",
   "metadata": {},
   "source": [
    "How well have this model preform?"
   ]
  },
  {
   "cell_type": "code",
   "execution_count": 8,
   "id": "a1140b8d",
   "metadata": {},
   "outputs": [
    {
     "data": {
      "text/plain": [
       "<AxesSubplot:ylabel='Count'>"
      ]
     },
     "execution_count": 8,
     "metadata": {},
     "output_type": "execute_result"
    },
    {
     "data": {
      "image/png": "[encoded data removed]",
      "text/plain": [
       "<Figure size 432x288 with 1 Axes>"
      ]
     },
     "metadata": {
      "needs_background": "light"
     },
     "output_type": "display_data"
    }
   ],
   "source": [
    "tr = trace_PL5.posterior.stack(draws=(\"chain\", \"draw\"))\n",
    "\n",
    "Control = np.mean(tr.bC[:,:].values, axis = 0)\n",
    "PTSD    = np.mean(tr.bP[:,:].values, axis = 0)\n",
    "\n",
    "sns.histplot(Control)\n",
    "sns.histplot(PTSD)"
   ]
  },
  {
   "cell_type": "code",
   "execution_count": 9,
   "id": "d9c738b5",
   "metadata": {},
   "outputs": [
    {
     "data": {
      "text/plain": [
       "Text(0.5, 1.0, '')"
      ]
     },
     "execution_count": 9,
     "metadata": {},
     "output_type": "execute_result"
    },
    {
     "data": {
      "image/png": "[encoded data removed]",
      "text/plain": [
       "<Figure size 432x288 with 1 Axes>"
      ]
     },
     "metadata": {
      "needs_background": "light"
     },
     "output_type": "display_data"
    }
   ],
   "source": [
    "Group = PTSD - Control\n",
    "az.plot_posterior(Group, point_estimate='mean', kind='hist', ref_val=0).set_title(\"\")"
   ]
  },
  {
   "cell_type": "code",
   "execution_count": 10,
   "id": "4dd69471",
   "metadata": {},
   "outputs": [
    {
     "name": "stderr",
     "output_type": "stream",
     "text": [
      "Auto-assigning NUTS sampler...\n",
      "INFO:pymc:Auto-assigning NUTS sampler...\n",
      "Initializing NUTS using jitter+adapt_diag...\n",
      "INFO:pymc:Initializing NUTS using jitter+adapt_diag...\n",
      "Multiprocess sampling (4 chains in 4 jobs)\n",
      "INFO:pymc:Multiprocess sampling (4 chains in 4 jobs)\n",
      "NUTS: [b_h, interceptC, slopeC, interceptP, slopeP, eps]\n",
      "INFO:pymc:NUTS: [b_h, interceptC, slopeC, interceptP, slopeP, eps]\n"
     ]
    },
    {
     "data": {
      "text/html": [
       "\n",
       "<style>\n",
       "    /* Turns off some styling */\n",
       "    progress {\n",
       "        /* gets rid of default border in Firefox and Opera. */\n",
       "        border: none;\n",
       "        /* Needs to be in here for Safari polyfill so background images work as expected. */\n",
       "        background-size: auto;\n",
       "    }\n",
       "    progress:not([value]), progress:not([value])::-webkit-progress-bar {\n",
       "        background: repeating-linear-gradient(45deg, #7e7e7e, #7e7e7e 10px, #5c5c5c 10px, #5c5c5c 20px);\n",
       "    }\n",
       "    .progress-bar-interrupted, .progress-bar-interrupted::-webkit-progress-bar {\n",
       "        background: #F44336;\n",
       "    }\n",
       "</style>\n"
      ],
      "text/plain": [
       "<IPython.core.display.HTML object>"
      ]
     },
     "metadata": {},
     "output_type": "display_data"
    },
    {
     "data": {
      "text/html": [
       "\n",
       "    <div>\n",
       "      <progress value='16000' class='' max='16000' style='width:300px; height:20px; vertical-align: middle;'></progress>\n",
       "      100.00% [16000/16000 02:04&lt;00:00 Sampling 4 chains, 0 divergences]\n",
       "    </div>\n",
       "    "
      ],
      "text/plain": [
       "<IPython.core.display.HTML object>"
      ]
     },
     "metadata": {},
     "output_type": "display_data"
    },
    {
     "name": "stderr",
     "output_type": "stream",
     "text": [
      "Sampling 4 chains for 1_000 tune and 3_000 draw iterations (4_000 + 12_000 draws total) took 124 seconds.\n",
      "INFO:pymc:Sampling 4 chains for 1_000 tune and 3_000 draw iterations (4_000 + 12_000 draws total) took 124 seconds.\n"
     ]
    }
   ],
   "source": [
    "with pm.Model() as linear:\n",
    "    \n",
    "    b_h = pm.Normal('b_h', 1, 1, shape=2)\n",
    "   \n",
    "    aC = pm.Normal('interceptC', 0, 5, shape = n_subs)\n",
    "    bC = pm.Normal('slopeC', b_h[1], 1, shape = n_subs)\n",
    "   \n",
    "    aP = pm.Normal('interceptP', 0, 5, shape = n_subs)\n",
    "    bP = pm.Normal('slopeP', b_h[0], 1, shape = n_subs)\n",
    "    \n",
    "    eps = pm.Exponential('eps', 1, shape=2)\n",
    "\n",
    "    y_hatC = aC[sub_idxC] + bC[sub_idxC] * cont_df.x\n",
    "    y_hatP = aP[sub_idxP] + bP[sub_idxP] * ptsd_df.x\n",
    "\n",
    "       \n",
    "    # Likelihood (sampling distribution) of observations\n",
    "    ratingC = pm.Normal('ratingC',y_hatC, eps[1], observed=cont_df.y)\n",
    "    ratingP = pm.Normal('ratingP',y_hatP, eps[0], observed=ptsd_df.y)\n",
    "\n",
    "    \n",
    "    trace_linear = pm.sample(3000, return_inferencedata=True, target_accept=0.95)"
   ]
  },
  {
   "cell_type": "code",
   "execution_count": null,
   "id": "acf4c444",
   "metadata": {},
   "outputs": [],
   "source": []
  }
 ],
 "metadata": {
  "kernelspec": {
   "display_name": "Python 3 (ipykernel)",
   "language": "python",
   "name": "python3"
  },
  "language_info": {
   "codemirror_mode": {
    "name": "ipython",
    "version": 3
   },
   "file_extension": ".py",
   "mimetype": "text/x-python",
   "name": "python",
   "nbconvert_exporter": "python",
   "pygments_lexer": "ipython3",
   "version": "3.9.13"
  }
 },
 "nbformat": 4,
 "nbformat_minor": 5
}
